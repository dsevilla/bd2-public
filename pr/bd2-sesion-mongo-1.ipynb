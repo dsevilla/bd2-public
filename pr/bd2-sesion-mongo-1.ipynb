{
 "cells": [
  {
   "cell_type": "markdown",
   "id": "8cffc3d2",
   "metadata": {
    "id": "rMc4yQncXK2N"
   },
   "source": [
    "# NoSQL (MongoDB) (sesión 1)\n",
    "\n",
    "## Contenidos\n",
    "\n",
    "* Introducción\n",
    "* Instalación inicial de MongoDB\n",
    "* Descarga de datos CSV\n",
    "* Instalación de la librería `pymongo`\n",
    "* Conexión a la base de datos\n",
    "* El API de colección de MongoDB\n",
    "* Búsqueda de documentos\n",
    "* Borrado de documentos\n",
    "* Inserción de elementos\n",
    "* Operadores de colección\n",
    "* Ejemplos básicos de agregación\n",
    "* Ejercicios\n",
    "\n",
    "\n"
   ]
  },
  {
   "cell_type": "markdown",
   "id": "8edf6b37",
   "metadata": {
    "id": "ZbikzCBUXK2P"
   },
   "source": [
    "## Introducción\n",
    "\n",
    "![MongoDB](https://webassets.mongodb.com/_com_assets/cms/MongoDB_Logo_FullColorBlack_RGB-4td3yuxzjs.png)\n",
    "\n",
    "Esta hoja muestra cómo acceder a bases de datos MongoDB y también a conectar la salida con Jupyter. Se puede utilizar el *shell* propio de MongoDB. La diferencia es que ese programa espera código Javascript y aquí trabajaremos con Python. A continuación, se introducen los conceptos básicos para la realización de consultas sencillas en Python.\n",
    "\n",
    "\n",
    "En primer lugar n unas comprobaciones iniciales."
   ]
  },
  {
   "cell_type": "code",
   "execution_count": null,
   "id": "949d9345",
   "metadata": {
    "id": "x9-RN4ZSY5o9"
   },
   "outputs": [],
   "source": [
    "RunningInCOLAB = 'google.colab' in str(get_ipython()) if hasattr(__builtins__,'__IPYTHON__') else False"
   ]
  },
  {
   "cell_type": "code",
   "execution_count": null,
   "id": "246b1d3a",
   "metadata": {
    "id": "eYZiYC5KfAgT"
   },
   "outputs": [],
   "source": [
    "!sudo apt-get update -qq\n",
    "!sudo apt-get install -y -qq gpg p7zip"
   ]
  },
  {
   "cell_type": "markdown",
   "id": "a4b26b30",
   "metadata": {
    "id": "4DEamgKU-TiK"
   },
   "source": [
    "## Instalación inicial de MongoDB (no necesaria si se utiliza Docker en local)\n"
   ]
  },
  {
   "cell_type": "code",
   "execution_count": null,
   "id": "c0606356",
   "metadata": {
    "id": "J2M97e3BfQfB"
   },
   "outputs": [],
   "source": [
    "!wget -qO - https://www.mongodb.org/static/pgp/server-6.0.asc | sudo bash -c 'gpg --dearmor > /etc/apt/trusted.gpg.d/mongo-server-6.gpg'"
   ]
  },
  {
   "cell_type": "code",
   "execution_count": null,
   "id": "b9800518",
   "metadata": {
    "id": "LxPjolcjjRPv"
   },
   "outputs": [],
   "source": [
    "%%bash\n",
    "sudo adduser --system --no-create-home mongodb\n",
    "sudo addgroup --system mongodb\n",
    "sudo adduser mongodb mongodb\n",
    "\n",
    "# create db -- note: this should agree with dbpath in mongod.conf\n",
    "if [ ! -d /var/lib/mongodb ]; then\n",
    "  sudo mkdir -p /var/lib/mongodb\n",
    "  sudo chown mongodb:mongodb /var/lib/mongodb\n",
    "fi\n",
    "\n",
    "# create logdir -- note: this should agree with logpath in mongod.conf\n",
    "if [ ! -d /var/log/mongodb ]; then\n",
    "  sudo mkdir -p /var/log/mongodb\n",
    "  sudo chown mongodb:mongodb /var/log/mongodb\n",
    "fi"
   ]
  },
  {
   "cell_type": "code",
   "execution_count": null,
   "id": "e219843a",
   "metadata": {
    "id": "TUqh2wrue14R"
   },
   "outputs": [],
   "source": [
    "!echo \"deb [ arch=amd64,arm64 ] https://repo.mongodb.org/apt/ubuntu jammy/mongodb-org/6.0 multiverse\" | sudo tee /etc/apt/sources.list.d/mongodb-org-6.0.list"
   ]
  },
  {
   "cell_type": "code",
   "execution_count": null,
   "id": "53058db3",
   "metadata": {
    "id": "olxoLhh4ai9T"
   },
   "outputs": [],
   "source": [
    "!sudo ln -sf /bin/true /bin/systemctl"
   ]
  },
  {
   "cell_type": "code",
   "execution_count": null,
   "id": "d7bc5025",
   "metadata": {
    "id": "ksbGiW3pf_mQ"
   },
   "outputs": [],
   "source": [
    "!sudo apt-get update -qq\n",
    "!sudo apt-get install -y -qq dialog mongodb-org"
   ]
  },
  {
   "cell_type": "code",
   "execution_count": null,
   "id": "edc16875",
   "metadata": {
    "id": "JpRH8JIrktfm"
   },
   "outputs": [],
   "source": [
    "!sudo /usr/bin/mongod --config /etc/mongod.conf --fork"
   ]
  },
  {
   "cell_type": "code",
   "execution_count": null,
   "id": "9a0a53c9",
   "metadata": {
    "id": "tmkqwbidaynX"
   },
   "outputs": [],
   "source": [
    "!mongod --version"
   ]
  },
  {
   "cell_type": "markdown",
   "id": "e2d5be13",
   "metadata": {
    "id": "dsR6Gl8HKYMP"
   },
   "source": [
    "## Descarga de los datos en formato CSV"
   ]
  },
  {
   "cell_type": "markdown",
   "id": "757bafe8",
   "metadata": {
    "id": "aavQysLzXK2-"
   },
   "source": [
    " - Formato: 7zipped\n",
    " - Ficheros:\n",
    "   - **Comments**.csv\n",
    "       - Id\n",
    "       - PostId\n",
    "       - Score\n",
    "       - Text, e.g.: \"@Stu Thompson: Seems possible to me - why not try it?\"\n",
    "       - CreationDate, e.g.:\"2008-09-06T08:07:10.730\"\n",
    "       - UserId\n",
    "   - **Posts**.csv\n",
    "       - Id\n",
    "       - PostTypeId\n",
    "          - 1: Question\n",
    "          - 2: Answer\n",
    "       - ParentID (only present if PostTypeId is 2)\n",
    "       - AcceptedAnswerId (only present if PostTypeId is 1)\n",
    "       - CreationDate\n",
    "       - Score\n",
    "       - ViewCount\n",
    "       - Body\n",
    "       - OwnerUserId\n",
    "       - LastEditorUserId\n",
    "       - LastEditorDisplayName=\"Jeff Atwood\"\n",
    "       - LastEditDate=\"2009-03-05T22:28:34.823\"\n",
    "       - LastActivityDate=\"2009-03-11T12:51:01.480\"\n",
    "       - CommunityOwnedDate=\"2009-03-11T12:51:01.480\"\n",
    "       - ClosedDate=\"2009-03-11T12:51:01.480\"\n",
    "       - Title=\n",
    "       - Tags=\n",
    "       - AnswerCount\n",
    "       - CommentCount\n",
    "       - FavoriteCount\n",
    "   - **Tags**.csv\n",
    "    - Id\n",
    "    - Count\n",
    "    - ExcerptPostId\n",
    "    - TagName\n",
    "    - WikiPostId\n",
    "   - **Users**.csv\n",
    "     - Id\n",
    "     - Reputation\n",
    "     - CreationDate\n",
    "     - DisplayName\n",
    "     - EmailHash\n",
    "     - LastAccessDate\n",
    "     - WebsiteUrl\n",
    "     - Location\n",
    "     - Age\n",
    "     - AboutMe\n",
    "     - Views\n",
    "     - UpVotes\n",
    "     - DownVotes\n",
    "   - **Votes**.csv\n",
    "     - Id\n",
    "     - PostId\n",
    "     - VoteTypeId\n",
    "        - ` 1`: AcceptedByOriginator\n",
    "        - ` 2`: UpMod\n",
    "        - ` 3`: DownMod\n",
    "        - ` 4`: Offensive\n",
    "        - ` 5`: Favorite - if VoteTypeId = 5 UserId will be populated\n",
    "        - ` 6`: Close\n",
    "        - ` 7`: Reopen\n",
    "        - ` 8`: BountyStart\n",
    "        - ` 9`: BountyClose\n",
    "        - `10`: Deletion\n",
    "        - `11`: Undeletion\n",
    "        - `12`: Spam\n",
    "        - `13`: InformModerator\n",
    "     - CreationDate\n",
    "     - UserId (only for VoteTypeId 5)\n",
    "     - BountyAmount (only for VoteTypeId 9)"
   ]
  },
  {
   "cell_type": "code",
   "execution_count": null,
   "id": "e3588e7b",
   "metadata": {
    "id": "ieRaMS8xKdNX"
   },
   "outputs": [],
   "source": [
    "!wget https://github.com/dsevilla/bd2-data/raw/main/es.stackoverflow/es.stackoverflow.csv.7z.001\n",
    "!wget https://github.com/dsevilla/bd2-data/raw/main/es.stackoverflow/es.stackoverflow.csv.7z.002"
   ]
  },
  {
   "cell_type": "code",
   "execution_count": null,
   "id": "f441f1eb",
   "metadata": {
    "id": "iBFmsqCMKhz1"
   },
   "outputs": [],
   "source": [
    "!7zr x es.stackoverflow.csv.7z.001"
   ]
  },
  {
   "cell_type": "code",
   "execution_count": null,
   "id": "8d3331ab",
   "metadata": {
    "id": "JQSzfBhBLDZm"
   },
   "outputs": [],
   "source": [
    "!head Users.csv"
   ]
  },
  {
   "cell_type": "markdown",
   "id": "6de189ac",
   "metadata": {
    "id": "GaTsWPro-oOG"
   },
   "source": [
    "## Instalación de la librería `pymongo`\n"
   ]
  },
  {
   "cell_type": "code",
   "execution_count": null,
   "id": "97117f5b",
   "metadata": {
    "id": "xE0Sl869XK2Y"
   },
   "outputs": [],
   "source": [
    "!pip install --upgrade pymongo"
   ]
  },
  {
   "cell_type": "code",
   "execution_count": null,
   "id": "2fe54eab",
   "metadata": {
    "id": "C0Le2anDXK2k"
   },
   "outputs": [],
   "source": [
    "from pprint import pprint as pp\n",
    "import pandas as pd\n",
    "import matplotlib.pyplot as plt\n",
    "import matplotlib\n",
    "\n",
    "%matplotlib inline\n",
    "matplotlib.style.use('ggplot')"
   ]
  },
  {
   "cell_type": "markdown",
   "id": "4acedb5a",
   "metadata": {
    "id": "O92AlPcMXK2r"
   },
   "source": [
    "Usaremos la librería `pymongo` para python. La cargamos a continuación."
   ]
  },
  {
   "cell_type": "code",
   "execution_count": null,
   "id": "dab34c8a",
   "metadata": {
    "id": "Pc7akqe0XK2t"
   },
   "outputs": [],
   "source": [
    "import pymongo\n",
    "from pymongo import MongoClient"
   ]
  },
  {
   "cell_type": "markdown",
   "id": "f31c9936",
   "metadata": {
    "id": "fa9eNTj3dB5d"
   },
   "source": [
    "## Conexión a la base de datos"
   ]
  },
  {
   "cell_type": "markdown",
   "id": "aacfd3f2",
   "metadata": {
    "id": "mkiP6rzXXK2z"
   },
   "source": [
    "La conexión se inicia con `MongoClient` en el `host` descrito en el fichero `docker-compose.yml` (`mongo`), o bien a `localhost` si lo estamos haciendo en Colab."
   ]
  },
  {
   "cell_type": "code",
   "execution_count": null,
   "id": "567e46f2",
   "metadata": {
    "id": "n5BdH3KOZA47"
   },
   "outputs": [],
   "source": [
    "db_hostname = \"localhost\" if RunningInCOLAB else \"mongo\""
   ]
  },
  {
   "cell_type": "code",
   "execution_count": null,
   "id": "2a0cec7e",
   "metadata": {
    "id": "s4BiT5o9XK20"
   },
   "outputs": [],
   "source": [
    "client = MongoClient(db_hostname,27017)\n",
    "client"
   ]
  },
  {
   "cell_type": "code",
   "execution_count": null,
   "id": "6d764164",
   "metadata": {
    "id": "3xqmSSGdXK25"
   },
   "outputs": [],
   "source": [
    "client.list_database_names()"
   ]
  },
  {
   "cell_type": "code",
   "execution_count": null,
   "id": "e52a4337",
   "metadata": {
    "id": "c5hJC4G4XK3A"
   },
   "outputs": [],
   "source": [
    "import csv\n",
    "from datetime import datetime\n",
    "from tqdm.notebook import tqdm\n",
    "\n",
    "def batched(iterable, n):\n",
    "    from itertools import islice\n",
    "    if n < 1:\n",
    "        raise ValueError('n must be at least one')\n",
    "    it = iter(iterable)\n",
    "    while batch := tuple(islice(it, n)):\n",
    "        yield batch\n",
    "\n",
    "def csv_to_mongo(file, coll):\n",
    "    \"\"\"\n",
    "    Carga un fichero CSV en Mongo. file especifica el fichero, coll la colección\n",
    "    dentro de la base de datos, y date_cols las columnas que serán interpretadas\n",
    "    como fechas.\n",
    "    \"\"\"\n",
    "    # Convertir todos los elementos que se puedan a números\n",
    "    def to_numeric(d):\n",
    "        try:\n",
    "            return int(d)\n",
    "        except ValueError:\n",
    "            try:\n",
    "                return float(d)\n",
    "            except ValueError:\n",
    "                return d\n",
    "\n",
    "    def to_date(d):\n",
    "        \"\"\"To ISO Date. If this cannot be converted, return NULL (None)\"\"\"\n",
    "        try:\n",
    "            return datetime.strptime(d, \"%Y-%m-%dT%H:%M:%S.%f\")\n",
    "        except ValueError:\n",
    "            return None\n",
    "\n",
    "    def to_str(d):\n",
    "        try:\n",
    "          return str(d)\n",
    "        except ValueError:\n",
    "            return None\n",
    "\n",
    "    coll.drop()\n",
    "\n",
    "    with open(file, encoding='utf-8') as f:\n",
    "        # La llamada csv.reader() crea un iterador sobre un fichero CSV\n",
    "        reader = csv.reader(f, dialect='excel')\n",
    "\n",
    "        # Se leen las columnas. Sus nombres se usarán para crear las diferentes columnas en la familia\n",
    "        columns = next(reader)\n",
    "\n",
    "        # Las columnas que contienen 'Date' se interpretan como fechas\n",
    "        func_to_cols = list(map(lambda c: to_date if 'date' in c.lower() else to_numeric, columns))\n",
    "        #func_to_cols = list(map(lambda c: to_date if 'date' in c.lower() else (to_numeric if not 'displayname' in c.lower() else to_str), columns))\n",
    "\n",
    "        for batch in batched(tqdm(reader, desc='Leyendo e insertando filas...'), 10000):\n",
    "            docs = []\n",
    "            for row in batch:\n",
    "                row = [func(e) for (func,e) in zip(func_to_cols, row)]\n",
    "                docs.append(dict(zip(columns,row)))\n",
    "            coll.insert_many(docs)\n",
    "\n",
    "        print(\"¡Hecho!\")"
   ]
  },
  {
   "cell_type": "markdown",
   "id": "106db5c2",
   "metadata": {
    "id": "UjFA83uvXK3M"
   },
   "source": [
    "Las bases de datos se crean conforme se nombran. Se puede utilizar la notación punto o la de diccionario. Las colecciones también."
   ]
  },
  {
   "cell_type": "code",
   "execution_count": null,
   "id": "5548a49e",
   "metadata": {
    "id": "HymD7vS1XK3N"
   },
   "outputs": [],
   "source": [
    "db = client.stackoverflow\n",
    "db = client['stackoverflow']\n",
    "db"
   ]
  },
  {
   "cell_type": "markdown",
   "id": "c99fa3e1",
   "metadata": {
    "id": "gONdzkChEcyH"
   },
   "source": [
    "Ahora vemos que se ha creado una nueva BD `stackoverflow` en Mongo."
   ]
  },
  {
   "cell_type": "code",
   "execution_count": null,
   "id": "256fc540",
   "metadata": {
    "id": "OpKKJFz9EbQp"
   },
   "outputs": [],
   "source": [
    "client.list_database_names()"
   ]
  },
  {
   "cell_type": "markdown",
   "id": "3a170786",
   "metadata": {
    "id": "iUTaeq9LXK3R"
   },
   "source": [
    "## Colecciones en MongoDB\n",
    "\n",
    "Las bases de datos están compuestas por un conjunto de **colecciones**. Cada colección aglutina a un conjunto de objetos (documentos) del mismo tipo, aunque como vimos en teoría, cada documento puede tener un conjunto de atributos diferente."
   ]
  },
  {
   "cell_type": "code",
   "execution_count": null,
   "id": "8c86ceb7",
   "metadata": {
    "id": "q3MS76ltXK3T"
   },
   "outputs": [],
   "source": [
    "posts = db.posts\n",
    "posts"
   ]
  },
  {
   "cell_type": "markdown",
   "id": "2f0c47fb",
   "metadata": {
    "id": "AM3q3jIdFF8H"
   },
   "source": [
    "Las colecciones en Mongo pueden cambiarse de nombre con la función `.rename`.\n",
    "\n",
    "Vamos a crear una colección ficticia llamada *colleccion* para posteriormente renombrarla como *startwars*.\n",
    "\n",
    "Al establecer el parámetro `dropTarget`a `True` forzamos a que, si ya existía una colección `starwars` sus datos se  sobreescriben por la nueva colección renombrada."
   ]
  },
  {
   "cell_type": "code",
   "execution_count": null,
   "id": "6f7ae90a",
   "metadata": {
    "id": "dqfutVXkFc1w"
   },
   "outputs": [],
   "source": [
    "# creamos la colección\n",
    "collection = db['coleccion']\n",
    "docs = [{\"id\":1, \"nombre\":\"Luke\"},\n",
    "        {\"id\":3, \"nombre\":\"Leia\"}]\n",
    "collection.insert_many(docs)\n",
    "\n",
    "# Ahora la renombramos\n",
    "collection.rename('starwars', dropTarget = True)\n",
    "\n",
    "result = db.list_collection_names()\n",
    "for collect in result:\n",
    "    print(collect)"
   ]
  },
  {
   "cell_type": "markdown",
   "id": "99a73479",
   "metadata": {
    "id": "jVz9DkvlXK3X"
   },
   "source": [
    "## Importación de los ficheros CSV\n",
    "\n",
    "Por ahora creamos una colección diferente para cada uno. Después estudiaremos cómo poder optimizar el acceso usando agregación."
   ]
  },
  {
   "cell_type": "code",
   "execution_count": null,
   "id": "4b698843",
   "metadata": {
    "id": "Xd8DOMERXK3Y"
   },
   "outputs": [],
   "source": [
    "csv_to_mongo('Posts.csv',db.posts)"
   ]
  },
  {
   "cell_type": "code",
   "execution_count": null,
   "id": "04811101",
   "metadata": {
    "id": "0MUQZUdeXK3d"
   },
   "outputs": [],
   "source": [
    "db.drop_collection( 'Users')\n",
    "csv_to_mongo('Users.csv',db.users)"
   ]
  },
  {
   "cell_type": "markdown",
   "id": "e0d4fdc1",
   "metadata": {
    "id": "0cdpQbA2gxd1"
   },
   "source": [
    "¿Qué ha pasado? Un valor erróneo en atributo `DisplayName` de uno de los usuarios provoca que dicho valor se convierta a `int`. Posteriormente dicho valor no puede se almacenado por Mongo pues excede su rango de valores para int lanzando la excepción `OverflowError: MongoDB can only handle up to 8-byte ints`.\n",
    "\n",
    "Para solucionarlo deberemos descomentar la línea `#func_to_cols = list(map(lambda c: to_date if 'date' in c.lower() else (to_numeric if not 'displayname' in c.lower() else to_str), columns))` dentro de la función `csv_to_mongo` (sin olvidar comentar la anterior).\n",
    "\n",
    "Con ello forzamos a que el campo `DisplayName` sea siempre de tipo `str`.\n"
   ]
  },
  {
   "cell_type": "code",
   "execution_count": null,
   "id": "37a0d3be",
   "metadata": {
    "id": "Zko9SDIaXK3g"
   },
   "outputs": [],
   "source": [
    "csv_to_mongo('Votes.csv',db.votes)"
   ]
  },
  {
   "cell_type": "code",
   "execution_count": null,
   "id": "143a5fe9",
   "metadata": {
    "id": "xUdHYFeMXK3k"
   },
   "outputs": [],
   "source": [
    "csv_to_mongo('Comments.csv',db.comments)"
   ]
  },
  {
   "cell_type": "code",
   "execution_count": null,
   "id": "fcd6e78e",
   "metadata": {
    "id": "Iqs7InmnXK3o"
   },
   "outputs": [],
   "source": [
    "csv_to_mongo('Tags.csv',db.tags)"
   ]
  },
  {
   "cell_type": "code",
   "execution_count": null,
   "id": "c7604b47",
   "metadata": {
    "id": "fqMlbZ13XK3s"
   },
   "outputs": [],
   "source": [
    "posts.count_documents({})"
   ]
  },
  {
   "cell_type": "markdown",
   "id": "80015f27",
   "metadata": {
    "id": "NP7ojzBzXK3v"
   },
   "source": [
    "## El API de colección de MongoDB\n",
    "\n",
    "El API de colección en Python se puede encontrar aquí: https://docs.mongodb.com/drivers/pymongo/. La mayoría de libros y referencias muestran el uso de mongo desde Javascript, ya que el *shell* de MongoDB acepta ese lenguaje. La sintaxis con respecto a Python cambia un poco, y se puede seguir en el enlace anterior. Existe incluso un curso de la MongoDB University que se puede realizar de forma gratuita: https://learn.mongodb.com/learning-paths/using-mongodb-with-python"
   ]
  },
  {
   "cell_type": "markdown",
   "id": "d0b40ea2",
   "metadata": {
    "id": "AXqggcMNMa5p"
   },
   "source": [
    "Con `.find_one` obtenemos el primer elemento de una colección."
   ]
  },
  {
   "cell_type": "code",
   "execution_count": null,
   "id": "3e083cb8",
   "metadata": {
    "id": "MQ9FdKC2XK3v",
    "scrolled": true
   },
   "outputs": [],
   "source": [
    "post = posts.find_one()\n",
    "post"
   ]
  },
  {
   "cell_type": "markdown",
   "id": "03188a5a",
   "metadata": {
    "id": "0BlhT5EXXK3y"
   },
   "source": [
    "Utilizo la librería `pp` (*PrettyPrint*) para imprimir los objetos grandes de una manera amigable."
   ]
  },
  {
   "cell_type": "code",
   "execution_count": null,
   "id": "eff3d3b9",
   "metadata": {
    "id": "PdeMzw8MXK3z",
    "scrolled": true
   },
   "outputs": [],
   "source": [
    "users = db.users\n",
    "pp(users.find_one())"
   ]
  },
  {
   "cell_type": "markdown",
   "id": "929b0365",
   "metadata": {
    "id": "bIE2Gv9sXK32"
   },
   "source": [
    "A cada objeto se le asigna una clave implícita con nombre \"`_id`\" (si el objeto no lo incluye)."
   ]
  },
  {
   "cell_type": "code",
   "execution_count": null,
   "id": "ea001c70",
   "metadata": {
    "id": "H9aJ6YSAXK32"
   },
   "outputs": [],
   "source": [
    "print (type(post['_id']))\n",
    "post['_id']"
   ]
  },
  {
   "cell_type": "markdown",
   "id": "ebb71fae",
   "metadata": {
    "id": "n-PbOm7HXK36"
   },
   "source": [
    "La siguiente sintaxis está descatalogada en las nuevas versiones, pero era más conveniente:"
   ]
  },
  {
   "cell_type": "code",
   "execution_count": null,
   "id": "41ddca67",
   "metadata": {
    "id": "-Tn9YI4kXK36",
    "scrolled": true
   },
   "outputs": [],
   "source": [
    "#posts.save(post)"
   ]
  },
  {
   "cell_type": "markdown",
   "id": "abefe099",
   "metadata": {
    "id": "IiQ1Wl3QXK3-"
   },
   "source": [
    "Ahora hay que hacerlo así (el resultado será 0 porque el documento no ha sido modificado desde que se leyó, pero sería 1 si el documento se modificó):"
   ]
  },
  {
   "cell_type": "code",
   "execution_count": null,
   "id": "4f278dcc",
   "metadata": {
    "id": "Uk21YQGyXK3-"
   },
   "outputs": [],
   "source": [
    "result = posts.replace_one({\"_id\": post['_id']}, post)\n",
    "result.modified_count"
   ]
  },
  {
   "cell_type": "markdown",
   "id": "a06c5a81",
   "metadata": {
    "id": "G4E_D46UACdw"
   },
   "source": [
    "## Búsqueda de documentos\n",
    "\n",
    "Vamos a estudiar cómo buscar documentos en una colección de la BD.\n",
    "\n",
    "En primer lugar con `.find_one` podemos buscar el primer elemento que cumpla una condición.\n"
   ]
  },
  {
   "cell_type": "code",
   "execution_count": null,
   "id": "32501fb6",
   "metadata": {
    "id": "k7CsMmRhXK4D"
   },
   "outputs": [],
   "source": [
    "post = posts.find_one()\n",
    "pp(post)"
   ]
  },
  {
   "cell_type": "code",
   "execution_count": null,
   "id": "309342b1",
   "metadata": {
    "id": "N3UfvDXNXK4G",
    "scrolled": true
   },
   "outputs": [],
   "source": [
    "for k,v in post.items():\n",
    "    print(\"%s: %s\" % (k,v))"
   ]
  },
  {
   "cell_type": "markdown",
   "id": "37fb1c2e",
   "metadata": {
    "id": "IVShFHvnXK4J"
   },
   "source": [
    "Además de `find_one()`, la función principal de búsqueda es `find()`. Esta función ofrece un conjunto muy ámplio de opciones para búsqueda, que estudiaremos a continuación.\n",
    "\n",
    "Primero, una consulta sencilla, con el valor de un campo:"
   ]
  },
  {
   "cell_type": "code",
   "execution_count": null,
   "id": "8b43ffb2",
   "metadata": {
    "id": "2PKMP9d1XK4J"
   },
   "outputs": [],
   "source": [
    "posts.count_documents({'PostTypeId':2})"
   ]
  },
  {
   "cell_type": "markdown",
   "id": "78c1daec",
   "metadata": {
    "id": "jTBq7CmiXK4N"
   },
   "source": [
    "También existe `explain()`, al estilo de SQL."
   ]
  },
  {
   "cell_type": "code",
   "execution_count": null,
   "id": "e1083bec",
   "metadata": {
    "id": "m0iF81EEXK4N",
    "scrolled": true
   },
   "outputs": [],
   "source": [
    "posts.find({\"PostTypeId\": 2}).explain()"
   ]
  },
  {
   "cell_type": "markdown",
   "id": "eb4c576d",
   "metadata": {
    "id": "onM1DoExXK4Q"
   },
   "source": [
    "También se puede limitar la búsqueda con la función `.limit`"
   ]
  },
  {
   "cell_type": "code",
   "execution_count": null,
   "id": "5f524466",
   "metadata": {
    "id": "gbqfnOusXK4R"
   },
   "outputs": [],
   "source": [
    "respuestas = posts.find({'PostTypeId': 2}).limit(10)"
   ]
  },
  {
   "cell_type": "markdown",
   "id": "118ff468",
   "metadata": {
    "id": "GWqOek7JXK4U"
   },
   "source": [
    "La respuesta no es un conjunto de elementos, sino un cursor que puede ir recorriéndose."
   ]
  },
  {
   "cell_type": "code",
   "execution_count": null,
   "id": "2e26c034",
   "metadata": {
    "id": "VmIDFzQzXK4U",
    "scrolled": true
   },
   "outputs": [],
   "source": [
    "respuestas"
   ]
  },
  {
   "cell_type": "code",
   "execution_count": null,
   "id": "2c7f97e2",
   "metadata": {
    "id": "unyEux3PXK4X"
   },
   "outputs": [],
   "source": [
    "list(respuestas)"
   ]
  },
  {
   "cell_type": "markdown",
   "id": "cd9cadd3",
   "metadata": {
    "id": "55kzbjTDXK4Z"
   },
   "source": [
    "También se puede importar en un Dataframe de `pandas`:"
   ]
  },
  {
   "cell_type": "code",
   "execution_count": null,
   "id": "5bada10f",
   "metadata": {
    "id": "tmFxFXmDwO29"
   },
   "outputs": [],
   "source": [
    "respuestas = posts.find({\"PostTypeId\": 2}).limit(30)\n",
    "df = pd.DataFrame(respuestas)\n",
    "df.head()"
   ]
  },
  {
   "cell_type": "code",
   "execution_count": null,
   "id": "1d86e5f4",
   "metadata": {
    "id": "oSdgwy9FXK4a"
   },
   "outputs": [],
   "source": [
    "df['Id'].plot()"
   ]
  },
  {
   "cell_type": "markdown",
   "id": "70f56d2a",
   "metadata": {
    "id": "WlMNUqrIIsUS"
   },
   "source": [
    "### Búsquedas anidadas"
   ]
  },
  {
   "cell_type": "markdown",
   "id": "700519aa",
   "metadata": {
    "id": "Rr2WveazXK4d"
   },
   "source": [
    "La función `find()` tiene un gran número de posibilidades para especificar la búsqueda. Se pueden utilizar cualificadores complejos como:\n",
    "\n",
    "- `$and`\n",
    "- `$or`\n",
    "- `$not`\n",
    "\n",
    "Estos calificadores unen \"objetos\", no valores. Por otro lado, hay otros calificadores que se refieren a valores:\n",
    "\n",
    "- `$lt` (menor)\n",
    "- `$lte` (menor o igual)\n",
    "- `$gt` (mayor)\n",
    "- `$gte` (mayor o igual)"
   ]
  },
  {
   "cell_type": "code",
   "execution_count": null,
   "id": "82412c2d",
   "metadata": {
    "id": "bUOQcTXuXK4d",
    "scrolled": true
   },
   "outputs": [],
   "source": [
    "respuestas = posts.find({ '$and' : [ {\"PostTypeId\": 2} ,\n",
    "                                    {\"Id\" : {'$gte' : 100}} ]}).limit(10)\n",
    "list(respuestas)"
   ]
  },
  {
   "cell_type": "markdown",
   "id": "a5848dbf",
   "metadata": {
    "id": "0Sc6d3n-8V4n"
   },
   "source": [
    "Vamos ahora a obtener aquellas cuestiones que tengan un `Score`mayor a 100"
   ]
  },
  {
   "cell_type": "code",
   "execution_count": null,
   "id": "6145da37",
   "metadata": {
    "id": "pDCvQZdI74pf"
   },
   "outputs": [],
   "source": [
    "respuestas = posts.find({ '$and' : [ {\"PostTypeId\": 1} ,\n",
    "                                    {\"Score\" : {'$gt' : 100}} ]}).limit(10)\n",
    "list(respuestas)"
   ]
  },
  {
   "cell_type": "markdown",
   "id": "3bf8ac3c",
   "metadata": {
    "id": "5wlin11Y9ENw"
   },
   "source": [
    "Con el método `.sort` podemos ordenar los resultados en base a un campo. Dependiendo del valor del segundo parámetros tendremos un orden\n",
    "* Ascendente (1)\n",
    "* Descendente (-1)"
   ]
  },
  {
   "cell_type": "code",
   "execution_count": null,
   "id": "f75535e5",
   "metadata": {
    "id": "6kwZ2ODz8k6P"
   },
   "outputs": [],
   "source": [
    "respuestas = posts.find({ '$and' : [ {\"PostTypeId\": 1} ,\n",
    "                                    {\"Score\" : {'$gt' : 100}} ]}) \\\n",
    "                  .limit(10) \\\n",
    "                  .sort(\"LastActivityDate\",1)\n",
    "list(respuestas)"
   ]
  },
  {
   "cell_type": "markdown",
   "id": "fee551bf",
   "metadata": {
    "id": "lvp-S1K1ai59"
   },
   "source": [
    "### Búsqueda por fechas\n",
    "\n",
    "Es posible realizar búsquedas por fecha cuando los documentos incluyan atributos de ese tipo.\n",
    "\n",
    "Para ello podemos usar `datetime` a la hora de definir los filtros."
   ]
  },
  {
   "cell_type": "code",
   "execution_count": null,
   "id": "c53ee4d5",
   "metadata": {
    "id": "hkSxa039a6pM"
   },
   "outputs": [],
   "source": [
    "start = datetime(2021, 9, 29)\n",
    "end = datetime(2023, 9, 24)\n",
    "\n",
    "respuestas = posts.find({\n",
    "    '$and' : [\n",
    "        {\"LastActivityDate\": {'$gte':start,'$lt': end}}\n",
    "        ]\n",
    "    }).limit(10)\n",
    "list(respuestas)"
   ]
  },
  {
   "cell_type": "markdown",
   "id": "7053eb87",
   "metadata": {
    "id": "AaCCO5h9sh0O"
   },
   "source": [
    "### Búsqueda con una lista\n",
    "\n",
    "Con el operador `$in` podemos comprobar si el valor de un campo se encuentra dentro de una lista.\n",
    "\n",
    "Vamos a obtener todos los documentos que tengan entre sus `Tags` los lenguajes *javascript* o *java*."
   ]
  },
  {
   "cell_type": "code",
   "execution_count": null,
   "id": "f04d79a6",
   "metadata": {
    "id": "bfkS0rR5s0tG"
   },
   "outputs": [],
   "source": [
    "respuestas = posts.find({'Tags': {'$in':['<javascript>', '<java>']}}).limit(3)\n",
    "list(respuestas)"
   ]
  },
  {
   "cell_type": "markdown",
   "id": "64680f44",
   "metadata": {
    "id": "USzj6rb9Bk1A"
   },
   "source": [
    "### Búsqueda con expresiones regulares\n",
    "\n",
    "Aparte de los operadores visto arriba también es posible usar expresiones regulares con el operador `$regex`\n",
    "\n",
    "*Más info sobre expresiones regulares en la [documentación oficial de Python](https://docs.python.org/3/howto/regex.html).*\n",
    "\n",
    "Vamos extraer todas las preguntas de los usuarios cuyo título empiece por *python* o *Python*."
   ]
  },
  {
   "cell_type": "code",
   "execution_count": null,
   "id": "fb626b42",
   "metadata": {
    "id": "k0GtAd9pC2zQ"
   },
   "outputs": [],
   "source": [
    "respuestas = posts.find({ '$and' : [ {\"PostTypeId\": 1} ,\n",
    "                                    {\"Title\" : {'$regex' : '^[Pp]ython'}} ]})\n",
    "list(respuestas)"
   ]
  },
  {
   "cell_type": "markdown",
   "id": "0c8ca725",
   "metadata": {
    "id": "BJ8s0sbd-Y83"
   },
   "source": [
    "## Borrado de documentos\n",
    "\n",
    "A la hora de realizar el borrado de documentos debemos de usar los métodos `.delete_one`o `.delete_many` usando filtros de forma similar a como hemos empleado en las búsquedas.\n",
    "\n",
    "Vamos a eliminar aquellas respuestas que tengan un `Score` menor a 10."
   ]
  },
  {
   "cell_type": "code",
   "execution_count": null,
   "id": "f59a1015",
   "metadata": {
    "id": "_YOXrGYD_E9O"
   },
   "outputs": [],
   "source": [
    "\"\"\"\n",
    "resultado = posts.delete_many({ '$and' : [ {\"PostTypeId\": 2} ,\n",
    "                                    {\"Score\" : {'$lt' : 10}} ]})\n",
    "print(f'Borrados {resultado.deleted_count} documentos')\n",
    "\"\"\""
   ]
  },
  {
   "cell_type": "markdown",
   "id": "2fef59b2",
   "metadata": {
    "id": "FM7LpIqM-sG6"
   },
   "source": [
    "## Inserción de elementos\n",
    "\n",
    "A la hora de insertar elementos en MongoDB pude hacerse con los métodos `.insert_one` (para insertar un único documento) o `insert_many`para insertar múltiples documentos al mismo tiempo.\n",
    "\n"
   ]
  },
  {
   "cell_type": "code",
   "execution_count": null,
   "id": "17aa35b8",
   "metadata": {
    "id": "pIXKK9gTAlM9"
   },
   "outputs": [],
   "source": [
    "post_to_insert = posts.find_one()\n",
    "post_to_insert['Body']='Texto de prueba'\n",
    "pp(post_to_insert)"
   ]
  },
  {
   "cell_type": "code",
   "execution_count": null,
   "id": "49b6fd92",
   "metadata": {
    "id": "C9NCCQTpAz4E"
   },
   "outputs": [],
   "source": [
    "posts.insert_one(post_to_insert)"
   ]
  },
  {
   "cell_type": "markdown",
   "id": "59e26bab",
   "metadata": {
    "id": "MctdwLjtCcVl"
   },
   "source": [
    "¿Por qué ha fallado? Si comprobamos detenidamente el documento, vemos que contiene el campo `_id` por lo que MongoDB nos informa que ya hay un documento con ese identificador. Por tanto, debemos de eliminar dicho campo del documento antes de insertarlo como uno nuevo."
   ]
  },
  {
   "cell_type": "code",
   "execution_count": null,
   "id": "5ef6da37",
   "metadata": {
    "id": "f9pw9kjiCbl0"
   },
   "outputs": [],
   "source": [
    "post_to_insert.pop('_id',None) #Borramos la clave '_id'.\n",
    "posts.insert_one(post_to_insert)"
   ]
  },
  {
   "cell_type": "markdown",
   "id": "d4d90030",
   "metadata": {
    "id": "v9fkqQyEXK43"
   },
   "source": [
    "## Operadores de colección\n",
    "\n",
    "También hay operaciones específicas de la colección, como\n",
    "* `.count_documents` y\n",
    "* `.distinct`:![distinct.bakedsvg.svg](https://github.com/dsevilla/bdge-data/raw/master/misc/mongo-distinct.png)"
   ]
  },
  {
   "cell_type": "markdown",
   "id": "c253a465",
   "metadata": {
    "id": "a8wHrkM7MmrS"
   },
   "source": [
    "Podemos contar el número de elementos en una colección que cumplan una determinada condición"
   ]
  },
  {
   "cell_type": "code",
   "execution_count": null,
   "id": "52d0ddeb",
   "metadata": {
    "id": "op53vu0TMEhn"
   },
   "outputs": [],
   "source": [
    "db.posts.count_documents({'ViewCount':{'$gt':10000}})"
   ]
  },
  {
   "cell_type": "markdown",
   "id": "ea7c3ff0",
   "metadata": {
    "id": "cm3KVkBqLTiS"
   },
   "source": [
    "Vamos a obtener los diferentes valors de `score` de los posts en la colección."
   ]
  },
  {
   "cell_type": "code",
   "execution_count": null,
   "id": "7423b190",
   "metadata": {
    "id": "Le1hoZ79XK45",
    "scrolled": true
   },
   "outputs": [],
   "source": [
    "db.posts.distinct('Score')"
   ]
  },
  {
   "cell_type": "markdown",
   "id": "3151e464",
   "metadata": {
    "id": "_BeFxyLpPZdK"
   },
   "source": [
    "La función `$group` se usa dentro del *pipeline* de agregación de documentos seguido por Mongo (`.aggregate`). Esta función admite dos parámetros diferentes:\n",
    "* `_id`: El identificador por el que queremos agrupar los documentos.\n",
    "* `campo`: Expresión mediante la cual queremos aggregar los documentos (*opcional*).\n",
    "\n"
   ]
  },
  {
   "cell_type": "markdown",
   "id": "7af052b8",
   "metadata": {
    "id": "69USANixUdA7"
   },
   "source": [
    "Vamos a contar el número de posts por `owneruserid` en la colección `posts`."
   ]
  },
  {
   "cell_type": "code",
   "execution_count": null,
   "id": "ad442e2f",
   "metadata": {
    "id": "ppBJ99QbRDxC"
   },
   "outputs": [],
   "source": [
    "users_avg_scores= db.posts.aggregate(\n",
    "    [{\n",
    "        \"$group\":{\n",
    "            \"_id\": \"$OwnerUserId\",\n",
    "            \"count\": {\"$sum\":1}\n",
    "        }\n",
    "    }]\n",
    ")\n",
    "\n",
    "for u in users_avg_scores:\n",
    "  print(u)"
   ]
  },
  {
   "cell_type": "markdown",
   "id": "c62e431e",
   "metadata": {
    "id": "CMeODrF5Y1OM"
   },
   "source": [
    "Ahora vamos computar el `score` medio por usuario en base a todos sus posts."
   ]
  },
  {
   "cell_type": "code",
   "execution_count": null,
   "id": "99c91224",
   "metadata": {
    "id": "dJlPs02TW2kC"
   },
   "outputs": [],
   "source": [
    "users_avg_scores= db.posts.aggregate(\n",
    "    [{\n",
    "        \"$group\":{\n",
    "            \"_id\": \"$OwnerUserId\",\n",
    "            \"avg_score\": {\"$avg\":'$Score'}\n",
    "        }\n",
    "    }]\n",
    ")\n",
    "\n",
    "for u in users_avg_scores:\n",
    "  print(u)"
   ]
  },
  {
   "cell_type": "markdown",
   "id": "45f03d4c",
   "metadata": {
    "id": "QamV3k-VAjn9"
   },
   "source": [
    "## Validación con `JSON` schema\n",
    "\n",
    "En determinadas ocasiones puede ser interesante el *forzar* que los documentos de una colección cumplan un determinado `JSON schema`.\n",
    "\n",
    "Vamos a crear una nueva colección `libro` y vamos a asociarle un `jsonschema` particular. Es importante destacar que dicho esquema fuerza a que el campo `autores` sea un array de otros objetos.\n",
    "\n",
    "Para insertar el esquema en la colección debemos de ejecutar el comando `collMod` de MongoDB."
   ]
  },
  {
   "cell_type": "code",
   "execution_count": null,
   "id": "2f2014e9",
   "metadata": {
    "id": "t3bSwhN9ArZ1"
   },
   "outputs": [],
   "source": [
    "def create_coleccion_libros():\n",
    "\n",
    "    # Creamos una nueva colección\n",
    "    try:\n",
    "        db.create_collection(\"libro\")\n",
    "    except Exception as e:\n",
    "        print(e)\n",
    "\n",
    "    libro_validador = {\n",
    "        \"$jsonSchema\": {\n",
    "            \"bsonType\": \"object\",\n",
    "            \"required\": [\"titulo\", \"autores\", \"fecha_publicacion\", \"tipo\", \"copias\"],\n",
    "            \"properties\": {\n",
    "                \"titulo\": {\n",
    "                    \"bsonType\": \"string\",\n",
    "                    \"description\": \"debe de ser un string y es obligatorio\"\n",
    "                },\n",
    "                \"autores\": {\n",
    "                    \"bsonType\": \"array\",\n",
    "                    \"description\": \"debe de ser un array y es obligatorio\",\n",
    "                    \"items\": {\n",
    "                        \"bsonType\": \"objectId\",\n",
    "                        \"description\": \"debe ser un objectId y es obligatorio\"\n",
    "                    },\n",
    "                    \"minItems\": 1,\n",
    "                },\n",
    "                \"fecha_publicacion\": {\n",
    "                    \"bsonType\": \"date\",\n",
    "                    \"description\": \"must be a date and is required\"\n",
    "                },\n",
    "                \"tipo\": {\n",
    "                    \"enum\": [\"tapa_dura\", \"tapa_blanda\"],\n",
    "                    \"description\": \"solo puede tomar los valores del enum y es obligatorio\"\n",
    "                },\n",
    "                \"copias\": {\n",
    "                    \"bsonType\": \"int\",\n",
    "                    \"description\": \"debe de ser un integer mayor que 0 y es obligatorio\",\n",
    "                    \"minimum\": 0\n",
    "                }\n",
    "            }\n",
    "        }\n",
    "    }\n",
    "\n",
    "    db.command(\"collMod\", \"libro\", validator=libro_validador)\n",
    "\n",
    "create_coleccion_libros()"
   ]
  },
  {
   "cell_type": "markdown",
   "id": "f5d7d3e2",
   "metadata": {
    "id": "dQ-mvEXLr0rP"
   },
   "source": [
    "Ahora vamos a crear la colección de con los autores"
   ]
  },
  {
   "cell_type": "code",
   "execution_count": null,
   "id": "bd281a87",
   "metadata": {
    "id": "2PHZ_Pn8r4l5"
   },
   "outputs": [],
   "source": [
    "def crear_coleccion_autor():\n",
    "    try:\n",
    "        db.create_collection(\"autor\")\n",
    "    except Exception as e:\n",
    "        print(e)\n",
    "\n",
    "    autor_validator = {\n",
    "        \"$jsonSchema\": {\n",
    "            \"bsonType\": \"object\",\n",
    "            \"required\": [\"nombre_propio\", \"apellido\"],\n",
    "            \"properties\": {\n",
    "                \"nombre_propio\": {\n",
    "                    \"bsonType\": \"string\",\n",
    "                    \"description\": \"debe de ser un string y es obligatorio\"\n",
    "                },\n",
    "                \"apellido\": {\n",
    "                    \"bsonType\": \"string\",\n",
    "                    \"description\": \"debe de ser un string y es obligatorio\"\n",
    "                },\n",
    "                \"fecha_de_nacimiento\": {\n",
    "                    \"bsonType\": \"date\",\n",
    "                    \"description\": \"debe ser un date\"\n",
    "                }\n",
    "            }\n",
    "        }\n",
    "    }\n",
    "\n",
    "    db.command(\"collMod\", \"autor\", validator=autor_validator)\n",
    "\n",
    "crear_coleccion_autor()"
   ]
  },
  {
   "cell_type": "markdown",
   "id": "41e2efbb",
   "metadata": {
    "id": "jBO_Bh1zsjgb"
   },
   "source": [
    "Ahora podemos verificar las validaciones de ambas colecciones"
   ]
  },
  {
   "cell_type": "code",
   "execution_count": null,
   "id": "cdeeaf0d",
   "metadata": {
    "id": "f5pVw9iWsaFQ"
   },
   "outputs": [],
   "source": [
    "print(f'Validación de book: {db.get_collection(\"libro\").options()}')\n",
    "print(f'Validación de autor: {db.get_collection(\"autor\").options()}')"
   ]
  },
  {
   "cell_type": "markdown",
   "id": "137b586b",
   "metadata": {
    "id": "P76yZYIWtLnG"
   },
   "source": [
    "Vamos a insertar una serie de documentos en ambas colecciones que cumplan con el esquema dado."
   ]
  },
  {
   "cell_type": "code",
   "execution_count": null,
   "id": "1fc9410b",
   "metadata": {
    "id": "SSSmltcbsrdw"
   },
   "outputs": [],
   "source": [
    "def insertar_datos_validados():\n",
    "    autores = [\n",
    "        {\n",
    "            \"nombre_propio\": \"John\",\n",
    "            \"apellido\": \"Doe\",\n",
    "            \"fecha_de_nacimiento\": datetime(1990, 1, 20)\n",
    "        },\n",
    "        {\n",
    "            \"nombre_propio\": \"Jane\",\n",
    "            \"apellido\": \"Doe\",\n",
    "            \"fecha_de_nacimiento\": datetime(1990, 1, 1)\n",
    "        },\n",
    "        {\n",
    "            \"nombre_propio\": \"Jack\",\n",
    "            \"apellido\": \"Smith\",\n",
    "        }\n",
    "    ]\n",
    "\n",
    "    autor_coll = db.autor\n",
    "    autor_ids = autor_coll.insert_many(autores).inserted_ids\n",
    "    print(f\"IDs de los autores insertados: {autor_ids}\")\n",
    "\n",
    "    libros = [\n",
    "        {\n",
    "            \"titulo\": \"MongoDB, The Book for Beginners\",\n",
    "            \"autores\": [autor_ids[0], autor_ids[1]],\n",
    "            \"fecha_publicacion\": datetime(2022, 12, 17),\n",
    "            \"tipo\": \"tapa_dura\",\n",
    "            \"copias\": 10\n",
    "        },\n",
    "        {\n",
    "            \"titulo\": \"MongoDB, The Book for Advanced Users\",\n",
    "            \"autores\": [autor_ids[0], autor_ids[2]],\n",
    "            \"fecha_publicacion\": datetime(2023, 1, 2),\n",
    "            \"tipo\": \"tapa_blanda\",\n",
    "            \"copias\": 5\n",
    "        },\n",
    "        {\n",
    "            \"titulo\": \"MongoDB, The Book for Experts\",\n",
    "            \"autores\": [autor_ids[1], autor_ids[2]],\n",
    "            \"fecha_publicacion\": datetime(2023, 1, 2),\n",
    "            \"tipo\": \"tapa_blanda\",\n",
    "            \"copias\": 5\n",
    "        },\n",
    "        {\n",
    "            \"titulo\": \"100 Projects in Python\",\n",
    "            \"autores\": [autor_ids[0]],\n",
    "            \"fecha_publicacion\": datetime(2022, 1, 2),\n",
    "            \"tipo\": \"tapa_dura\",\n",
    "            \"copias\": 20\n",
    "        },\n",
    "        {\n",
    "            \"titulo\": \"100 Projects in JavaScript\",\n",
    "            \"autores\": [autor_ids[1]],\n",
    "            \"fecha_publicacion\": datetime(2022, 1, 2),\n",
    "            \"tipo\": \"tapa_blanda\",\n",
    "            \"copias\": 15\n",
    "        }\n",
    "    ]\n",
    "\n",
    "    libro_coll = db.libro\n",
    "    libros_insertados= libro_coll.insert_many(libros)\n",
    "\n",
    "    print(f\"Resultados de los libros insertados: {libros_insertados}\")\n",
    "    print(f\"IDs de los libros insertados: {libros_insertados.inserted_ids}\")\n",
    "\n",
    "insertar_datos_validados()"
   ]
  },
  {
   "cell_type": "markdown",
   "id": "b2e60e95",
   "metadata": {
    "id": "JPgc7bERvTtI"
   },
   "source": [
    "Por último, si ahora se intentara insertar un libro que NO cumple con el esquema dado puesto que no incluye todos los campos obligatorios que tiene que tener un documento en dicha colección."
   ]
  },
  {
   "cell_type": "code",
   "execution_count": null,
   "id": "5b5ecc07",
   "metadata": {
    "id": "vhdQ5wfZvPZX"
   },
   "outputs": [],
   "source": [
    "db.libro.insert_one({\n",
    "    \"title\": \"MongoDB, The Book\"\n",
    "})"
   ]
  },
  {
   "cell_type": "markdown",
   "id": "7a23f711",
   "metadata": {
    "id": "2KcNH8bKwCwA"
   },
   "source": [
    "Vemos que la operación arroja una excepción `WriteError` al no cumplir con el esquema de la colección."
   ]
  },
  {
   "cell_type": "markdown",
   "id": "76223dee",
   "metadata": {
    "id": "zjUuHq8jfA5U"
   },
   "source": [
    "## Ejercicios"
   ]
  },
  {
   "cell_type": "markdown",
   "id": "bc6db93a",
   "metadata": {
    "id": "zrIqOPuLXK5M"
   },
   "source": [
    "### EJERCICIO 1: Separar en dos colecciones las preguntas de las respuestas"
   ]
  },
  {
   "cell_type": "markdown",
   "id": "ed41ad5d",
   "metadata": {
    "id": "LHxCmuY5rkoi"
   },
   "source": [
    "### EJERCICIO 2: Crear una nueva colección `posts_premium` que incluye sólo aquellas preguntas creadas en 2022. Igualmente se deberá incluir la respuesta aceptada (`AcceptedAnswerId`) siempre y cuando su `Score` asignado sea mayor o igual a 1"
   ]
  },
  {
   "cell_type": "markdown",
   "id": "37504a32",
   "metadata": {
    "id": "SkqOh0yAFkNf"
   },
   "source": [
    "¡Eso es todo amigos!"
   ]
  }
 ],
 "metadata": {
  "colab": {
   "provenance": []
  },
  "kernelspec": {
   "display_name": "Python 3 (ipykernel)",
   "language": "python",
   "name": "python3"
  },
  "language_info": {
   "codemirror_mode": {
    "name": "ipython",
    "version": 3
   },
   "file_extension": ".py",
   "mimetype": "text/x-python",
   "name": "python",
   "nbconvert_exporter": "python",
   "pygments_lexer": "ipython3",
   "version": "3.11.6"
  }
 },
 "nbformat": 4,
 "nbformat_minor": 5
}
