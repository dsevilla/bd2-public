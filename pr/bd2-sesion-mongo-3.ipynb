{
 "cells": [
  {
   "cell_type": "markdown",
   "id": "eb997c83",
   "metadata": {
    "id": "WdqTiGhdfbo4"
   },
   "source": [
    "# Bases de Datos II. NoSQL (MongoDB sesión 3)\n",
    "\n",
    "```\n",
    "                                                                  ,gggggggggggg,    ,ggggggggggg,  \n",
    "                                                                 dP\"\"\"88\"\"\"\"\"\"Y8b, dP\"\"\"88\"\"\"\"\"\"Y8,\n",
    "                                                                 Yb,  88       `8b,Yb,  88      `8b\n",
    "                                                                  `\"  88        `8b `\"  88      ,8P\n",
    "                                                                      88         Y8     88aaaad8P\"\n",
    "  ,ggg,,ggg,,ggg,     ,ggggg,    ,ggg,,ggg,     ,gggg,gg    ,ggggg,   88         d8     88\"\"\"\"Y8ba\n",
    " ,8\" \"8P\" \"8P\" \"8,   dP\"  \"Y8ggg,8\" \"8P\" \"8,   dP\"  \"Y8I   dP\"  \"Y8ggg88        ,8P     88      `8b\n",
    " I8   8I   8I   8I  i8'    ,8I  I8   8I   8I  i8'    ,8I  i8'    ,8I  88       ,8P'     88      ,8P\n",
    ",dP   8I   8I   Yb,,d8,   ,d8' ,dP   8I   Yb,,d8,   ,d8I ,d8,   ,d8'  88______,dP'      88_____,d8'\n",
    "8P'   8I   8I   `Y8P\"Y8888P\"   8P'   8I   `Y8P\"Y8888P\"888P\"Y8888P\"   888888888P\"       88888888P\"  \n",
    "                                                    ,d8I'                                          \n",
    "                                                  ,dP'8I                                           \n",
    "                                                 ,8\"  8I                                           \n",
    "                                                 I8   8I                                           \n",
    "                                                 `8, ,8I                                           \n",
    "                                                  `Y8P\"                             \n",
    "                                                  \n",
    "                                                                 \n",
    "                                             ______\n",
    "|_  _  _  _  _     _| _     _| _ _|_ _  _     |  |\n",
    "|_)(_|_> (/__>    (_|(/_   (_|(_| |_(_)_>    _|__|_\n",
    "```\n"
   ]
  },
  {
   "cell_type": "markdown",
   "id": "bdea0f01",
   "metadata": {
    "id": "ZbikzCBUXK2P"
   },
   "source": [
    "![MongoDB](https://webassets.mongodb.com/_com_assets/cms/MongoDB_Logo_FullColorBlack_RGB-4td3yuxzjs.png)\n",
    "\n",
    "Esta hoja es la tercera entrega y última del trabajo con MongoDB. Veremos temas avanzados como cálculos `aggregate()` más complejos, el uso de índices, etc. Al final habrá un conjunto de ejercicios que habrá que resolver y entregar en la tarea abierta para la ocasión."
   ]
  },
  {
   "cell_type": "markdown",
   "id": "7ac61a77",
   "metadata": {
    "id": "GaTsWPro-oOG"
   },
   "source": [
    "## Inicio de la hoja\n"
   ]
  },
  {
   "cell_type": "code",
   "execution_count": null,
   "id": "9e4f9909",
   "metadata": {
    "id": "x9-RN4ZSY5o9"
   },
   "outputs": [],
   "source": [
    "RunningInCOLAB = 'google.colab' in str(get_ipython()) if hasattr(__builtins__,'__IPYTHON__') else False"
   ]
  },
  {
   "cell_type": "code",
   "execution_count": null,
   "id": "9e7a298f",
   "metadata": {
    "id": "J2M97e3BfQfB"
   },
   "outputs": [],
   "source": [
    "!wget -qO - https://www.mongodb.org/static/pgp/server-6.0.asc | sudo gpg --dearmor > /etc/apt/trusted.gpg.d/mongo-server-6.gpg"
   ]
  },
  {
   "cell_type": "code",
   "execution_count": null,
   "id": "f15f1514",
   "metadata": {
    "id": "ezAIGix1IehU"
   },
   "outputs": [],
   "source": [
    "%%bash\n",
    "sudo adduser --system --no-create-home mongodb\n",
    "sudo addgroup --system mongodb\n",
    "sudo adduser mongodb mongodb\n",
    "\n",
    "# create db -- note: this should agree with dbpath in mongod.conf\n",
    "if [ ! -d /var/lib/mongodb ]; then\n",
    "  sudo mkdir -p /var/lib/mongodb\n",
    "  sudo chown mongodb:mongodb /var/lib/mongodb\n",
    "fi\n",
    "\n",
    "# create logdir -- note: this should agree with logpath in mongod.conf\n",
    "if [ ! -d /var/log/mongodb ]; then\n",
    "  sudo mkdir -p /var/log/mongodb\n",
    "  sudo chown mongodb:mongodb /var/log/mongodb\n",
    "fi"
   ]
  },
  {
   "cell_type": "code",
   "execution_count": null,
   "id": "763dc900",
   "metadata": {
    "id": "bkQTZoJDIehX"
   },
   "outputs": [],
   "source": [
    "!echo \"deb [ arch=amd64,arm64 ] https://repo.mongodb.org/apt/ubuntu jammy/mongodb-org/6.0 multiverse\" | sudo tee /etc/apt/sources.list.d/mongodb-org-6.0.list"
   ]
  },
  {
   "cell_type": "code",
   "execution_count": null,
   "id": "018f5643",
   "metadata": {
    "id": "pJ25BFUcIehY"
   },
   "outputs": [],
   "source": [
    "!sudo apt-get update -qq"
   ]
  },
  {
   "cell_type": "code",
   "execution_count": null,
   "id": "af173a4a",
   "metadata": {
    "id": "aRypLsP2IehZ"
   },
   "outputs": [],
   "source": [
    "!sudo ln -sf /bin/true /bin/systemctl"
   ]
  },
  {
   "cell_type": "code",
   "execution_count": null,
   "id": "cb860d87",
   "metadata": {
    "id": "0CH-EbXBIeha"
   },
   "outputs": [],
   "source": [
    "!sudo apt-get install -y -qq dialog mongodb-org"
   ]
  },
  {
   "cell_type": "code",
   "execution_count": null,
   "id": "b2459940",
   "metadata": {
    "id": "e4-poVR5Iehb"
   },
   "outputs": [],
   "source": [
    "!sudo /usr/bin/mongod --config /etc/mongod.conf --fork"
   ]
  },
  {
   "cell_type": "code",
   "execution_count": null,
   "id": "8c015fa0",
   "metadata": {
    "id": "txLEqNUWIehb"
   },
   "outputs": [],
   "source": [
    "!sudo mongod --version"
   ]
  },
  {
   "cell_type": "code",
   "execution_count": null,
   "id": "9dc45376",
   "metadata": {
    "id": "xE0Sl869XK2Y"
   },
   "outputs": [],
   "source": [
    "!pip install --upgrade pymongo"
   ]
  },
  {
   "cell_type": "code",
   "execution_count": null,
   "id": "b5421a89",
   "metadata": {
    "id": "C0Le2anDXK2k"
   },
   "outputs": [],
   "source": [
    "from pprint import pprint as pp\n",
    "import pandas as pd\n",
    "import matplotlib.pyplot as plt\n",
    "import matplotlib\n",
    "\n",
    "%matplotlib inline\n",
    "matplotlib.style.use('ggplot')"
   ]
  },
  {
   "cell_type": "markdown",
   "id": "fc4f473b",
   "metadata": {
    "id": "O92AlPcMXK2r"
   },
   "source": [
    "Usaremos la librería `pymongo` para python. La cargamos a continuación."
   ]
  },
  {
   "cell_type": "code",
   "execution_count": null,
   "id": "592ebcff",
   "metadata": {
    "id": "Pc7akqe0XK2t"
   },
   "outputs": [],
   "source": [
    "import pymongo\n",
    "from pymongo import MongoClient"
   ]
  },
  {
   "cell_type": "markdown",
   "id": "2f58ebc1",
   "metadata": {
    "id": "mkiP6rzXXK2z"
   },
   "source": [
    "La conexión se inicia con `MongoClient` en el `host` descrito en el fichero `docker-compose.yml` (`mongo`), o bien a `localhost` si lo estamos haciendo en Colab."
   ]
  },
  {
   "cell_type": "code",
   "execution_count": null,
   "id": "cc367962",
   "metadata": {
    "id": "n5BdH3KOZA47"
   },
   "outputs": [],
   "source": [
    "db_hostname = \"localhost\" if RunningInCOLAB else \"mongo\""
   ]
  },
  {
   "cell_type": "code",
   "execution_count": null,
   "id": "25628239",
   "metadata": {
    "id": "s4BiT5o9XK20"
   },
   "outputs": [],
   "source": [
    "client = MongoClient(db_hostname,27017)\n",
    "client"
   ]
  },
  {
   "cell_type": "code",
   "execution_count": null,
   "id": "b95c3d3c",
   "metadata": {
    "id": "3xqmSSGdXK25"
   },
   "outputs": [],
   "source": [
    "client.list_database_names()"
   ]
  },
  {
   "cell_type": "markdown",
   "id": "8e71fafd",
   "metadata": {
    "id": "NK67vpHdfbpn"
   },
   "source": [
    " - Format: 7zipped\n",
    " - Files:\n",
    "   - **badges**.xml\n",
    "       - UserId, e.g.: \"420\"\n",
    "       - Name, e.g.: \"Teacher\"\n",
    "       - Date, e.g.: \"2008-09-15T08:55:03.923\"\n",
    "   - **comments**.xml\n",
    "       - Id\n",
    "       - PostId\n",
    "       - Score\n",
    "       - Text, e.g.: \"@Stu Thompson: Seems possible to me - why not try it?\"\n",
    "       - CreationDate, e.g.:\"2008-09-06T08:07:10.730\"\n",
    "       - UserId\n",
    "   - **posts**.xml\n",
    "       - Id\n",
    "       - PostTypeId\n",
    "          - 1: Question\n",
    "          - 2: Answer\n",
    "       - ParentID (only present if PostTypeId is 2)\n",
    "       - AcceptedAnswerId (only present if PostTypeId is 1)\n",
    "       - CreationDate\n",
    "       - Score\n",
    "       - ViewCount\n",
    "       - Body\n",
    "       - OwnerUserId\n",
    "       - LastEditorUserId\n",
    "       - LastEditorDisplayName=\"Jeff Atwood\"\n",
    "       - LastEditDate=\"2009-03-05T22:28:34.823\"\n",
    "       - LastActivityDate=\"2009-03-11T12:51:01.480\"\n",
    "       - CommunityOwnedDate=\"2009-03-11T12:51:01.480\"\n",
    "       - ClosedDate=\"2009-03-11T12:51:01.480\"\n",
    "       - Title=\n",
    "       - Tags=\n",
    "       - AnswerCount\n",
    "       - CommentCount\n",
    "       - FavoriteCount\n",
    "   - **posthistory**.xml\n",
    "\t   - Id\n",
    "\t   - PostHistoryTypeId\n",
    "\t\t\t- 1: Initial Title - The first title a question is asked with.\n",
    "\t\t\t- 2: Initial Body - The first raw body text a post is submitted with.\n",
    "\t\t\t- 3: Initial Tags - The first tags a question is asked with.\n",
    "\t\t\t- 4: Edit Title - A question's title has been changed.\n",
    "\t\t\t- 5: Edit Body - A post's body has been changed, the raw text is stored here as markdown.\n",
    "\t\t\t- 6: Edit Tags - A question's tags have been changed.\n",
    "\t\t\t- 7: Rollback Title - A question's title has reverted to a previous version.\n",
    "\t\t\t- 8: Rollback Body - A post's body has reverted to a previous version - the raw text is stored here.\n",
    "\t\t\t- 9: Rollback Tags - A question's tags have reverted to a previous version.\n",
    "\t\t\t- 10: Post Closed - A post was voted to be closed.\n",
    "\t\t\t- 11: Post Reopened - A post was voted to be reopened.\n",
    "\t\t\t- 12: Post Deleted - A post was voted to be removed.\n",
    "\t\t\t- 13: Post Undeleted - A post was voted to be restored.\n",
    "\t\t\t- 14: Post Locked - A post was locked by a moderator.\n",
    "\t\t\t- 15: Post Unlocked - A post was unlocked by a moderator.\n",
    "\t\t\t- 16: Community Owned - A post has become community owned.\n",
    "\t\t\t- 17: Post Migrated - A post was migrated.\n",
    "\t\t\t- 18: Question Merged - A question has had another, deleted question merged into itself.\n",
    "\t\t\t- 19: Question Protected - A question was protected by a moderator\n",
    "\t\t\t- 20: Question Unprotected - A question was unprotected by a moderator\n",
    "\t\t\t- 21: Post Disassociated - An admin removes the OwnerUserId from a post.\n",
    "\t\t\t- 22: Question Unmerged - A previously merged question has had its answers and votes restored.\n",
    "\t\t- PostId\n",
    "\t\t- RevisionGUID: At times more than one type of history record can be recorded by a single action.  All of these will be grouped using the same RevisionGUID\n",
    "\t\t- CreationDate: \"2009-03-05T22:28:34.823\"\n",
    "\t\t- UserId\n",
    "\t\t- UserDisplayName: populated if a user has been removed and no longer referenced by user Id\n",
    "\t\t- Comment: This field will contain the comment made by the user who edited a post\n",
    "\t\t- Text: A raw version of the new value for a given revision\n",
    "\t\t\t- If PostHistoryTypeId = 10, 11, 12, 13, 14, or 15  this column will contain a JSON encoded string with all users who have voted for the PostHistoryTypeId\n",
    "\t\t\t- If PostHistoryTypeId = 17 this column will contain migration details of either \"from <url>\" or \"to <url>\"\n",
    "\t\t- CloseReasonId\n",
    "\t\t\t- 1: Exact Duplicate - This question covers exactly the same ground as earlier questions on this topic; its answers may be merged with another identical question.\n",
    "\t\t\t- 2: off-topic\n",
    "\t\t\t- 3: subjective\n",
    "\t\t\t- 4: not a real question\n",
    "\t\t\t- 7: too localized\n",
    "   - **postlinks**.xml\n",
    "     - Id\n",
    "     - CreationDate\n",
    "     - PostId\n",
    "     - RelatedPostId\n",
    "     - PostLinkTypeId\n",
    "       - 1: Linked\n",
    "       - 3: Duplicate\n",
    "   - **users**.xml\n",
    "     - Id\n",
    "     - Reputation\n",
    "     - CreationDate\n",
    "     - DisplayName\n",
    "     - EmailHash\n",
    "     - LastAccessDate\n",
    "     - WebsiteUrl\n",
    "     - Location\n",
    "     - Age\n",
    "     - AboutMe\n",
    "     - Views\n",
    "     - UpVotes\n",
    "     - DownVotes\n",
    "   - **votes**.xml\n",
    "     - Id\n",
    "     - PostId\n",
    "     - VoteTypeId\n",
    "        - ` 1`: AcceptedByOriginator\n",
    "        - ` 2`: UpMod\n",
    "        - ` 3`: DownMod\n",
    "        - ` 4`: Offensive\n",
    "        - ` 5`: Favorite - if VoteTypeId = 5 UserId will be populated\n",
    "        - ` 6`: Close\n",
    "        - ` 7`: Reopen\n",
    "        - ` 8`: BountyStart\n",
    "        - ` 9`: BountyClose\n",
    "        - `10`: Deletion\n",
    "        - `11`: Undeletion\n",
    "        - `12`: Spam\n",
    "        - `13`: InformModerator\n",
    "     - CreationDate\n",
    "     - UserId (only for VoteTypeId 5)\n",
    "     - BountyAmount (only for VoteTypeId 9)"
   ]
  },
  {
   "cell_type": "markdown",
   "id": "7ee7e167",
   "metadata": {
    "id": "IkhYxde6Z46G"
   },
   "source": [
    "Descargamos los ficheros CSV del repositorio de datos y los descomprimimos."
   ]
  },
  {
   "cell_type": "code",
   "execution_count": null,
   "id": "10c89075",
   "metadata": {
    "id": "ieRaMS8xKdNX"
   },
   "outputs": [],
   "source": [
    "!wget https://github.com/dsevilla/bd2-data/raw/main/es.stackoverflow/es.stackoverflow.csv.7z.001\n",
    "!wget https://github.com/dsevilla/bd2-data/raw/main/es.stackoverflow/es.stackoverflow.csv.7z.002"
   ]
  },
  {
   "cell_type": "code",
   "execution_count": null,
   "id": "16ba2d53",
   "metadata": {
    "id": "iBFmsqCMKhz1"
   },
   "outputs": [],
   "source": [
    "!7zr x es.stackoverflow.csv.7z.001"
   ]
  },
  {
   "cell_type": "code",
   "execution_count": null,
   "id": "e06d5f87",
   "metadata": {
    "id": "JQSzfBhBLDZm"
   },
   "outputs": [],
   "source": [
    "!head Users.csv"
   ]
  },
  {
   "cell_type": "markdown",
   "id": "f99e66a9",
   "metadata": {
    "id": "y_z-OMVcfbpo"
   },
   "source": [
    "Las bases de datos se crean conforme se nombran. Se puede utilizar la notación punto o la de diccionario. Las colecciones también."
   ]
  },
  {
   "cell_type": "code",
   "execution_count": null,
   "id": "e51e5ba0",
   "metadata": {
    "id": "D6TpCHUufbpp"
   },
   "outputs": [],
   "source": [
    "db = client.stackoverflow\n",
    "db = client['stackoverflow']\n",
    "db"
   ]
  },
  {
   "cell_type": "markdown",
   "id": "5d615db9",
   "metadata": {
    "id": "zcmwyXkVfbpu"
   },
   "source": [
    "Las bases de datos están compuestas por un conjunto de **colecciones**. Cada colección aglutina a un conjunto de objetos (documentos) del mismo tipo, aunque como vimos en teoría, cada documento puede tener un conjunto de atributos diferente."
   ]
  },
  {
   "cell_type": "code",
   "execution_count": null,
   "id": "3bc6925b",
   "metadata": {
    "id": "C0dR1mcffbpu"
   },
   "outputs": [],
   "source": [
    "posts = db.posts\n",
    "posts"
   ]
  },
  {
   "cell_type": "markdown",
   "id": "ebbe91c2",
   "metadata": {
    "id": "0PMVDICrfbpy"
   },
   "source": [
    "Importación de los ficheros CSV. Por ahora creamos una colección diferente para cada uno. Después estudiaremos cómo poder optimizar el acceso usando agregación."
   ]
  },
  {
   "cell_type": "code",
   "execution_count": null,
   "id": "e7a89c0d",
   "metadata": {
    "id": "B-vfSURhmymR"
   },
   "outputs": [],
   "source": [
    "from urllib.request import urlretrieve\n",
    "\n",
    "user = \"dsevilla\"\n",
    "repo = \"bd2-public\"\n",
    "src_dir = \"util\"\n",
    "pyfile = \"csv_to_mongo.py\"\n",
    "course=\"23-24\"\n",
    "\n",
    "url = f\"https://raw.githubusercontent.com/{user}/{repo}/{course}/{src_dir}/{pyfile}\"\n",
    "urlretrieve(url, filename='csv_to_mongo.py')"
   ]
  },
  {
   "cell_type": "code",
   "execution_count": null,
   "id": "a07acc2c",
   "metadata": {
    "id": "AdGPs1M1pa6N"
   },
   "outputs": [],
   "source": [
    "!cat csv_to_mongo.py"
   ]
  },
  {
   "cell_type": "code",
   "execution_count": null,
   "id": "ad28b753",
   "metadata": {
    "id": "UFUJLGVEpv6H"
   },
   "outputs": [],
   "source": [
    "import csv_to_mongo\n",
    "help(csv_to_mongo)"
   ]
  },
  {
   "cell_type": "code",
   "execution_count": null,
   "id": "074000e3",
   "metadata": {
    "id": "hUVr0cPGfbp9"
   },
   "outputs": [],
   "source": [
    "csv_to_mongo.csv_to_mongo('Posts.csv',db.posts)"
   ]
  },
  {
   "cell_type": "code",
   "execution_count": null,
   "id": "90272047",
   "metadata": {
    "id": "I1JYOx-rfbqJ"
   },
   "outputs": [],
   "source": [
    "csv_to_mongo.csv_to_mongo('Users.csv',db.users)"
   ]
  },
  {
   "cell_type": "code",
   "execution_count": null,
   "id": "a2ff8f84",
   "metadata": {
    "id": "SdJsUjREfbqO"
   },
   "outputs": [],
   "source": [
    "csv_to_mongo.csv_to_mongo('Votes.csv',db.votes)"
   ]
  },
  {
   "cell_type": "code",
   "execution_count": null,
   "id": "f72b5d1d",
   "metadata": {
    "id": "ev1yW2-8fbqS"
   },
   "outputs": [],
   "source": [
    "csv_to_mongo.csv_to_mongo('Comments.csv',db.comments)"
   ]
  },
  {
   "cell_type": "code",
   "execution_count": null,
   "id": "eb564c76",
   "metadata": {
    "id": "fCetnARxfbqX"
   },
   "outputs": [],
   "source": [
    "csv_to_mongo.csv_to_mongo('Tags.csv',db.tags)"
   ]
  },
  {
   "cell_type": "code",
   "execution_count": null,
   "id": "3560aba9",
   "metadata": {
    "id": "mIWOxATUfbqb"
   },
   "outputs": [],
   "source": [
    "posts.count_documents({})"
   ]
  },
  {
   "cell_type": "markdown",
   "id": "91e286b5",
   "metadata": {
    "id": "UNt6Pgy4I-lh"
   },
   "source": [
    "### El API de colección de MongoDB\n",
    "\n",
    "El API de colección en Python se puede encontrar aquí: https://docs.mongodb.com/drivers/pymongo/. La mayoría de libros y referencias muestran el uso de mongo desde Javascript, ya que el *shell* de MongoDB acepta ese lenguaje. La sintaxis con respecto a Python cambia un poco, y se puede seguir en el enlace anterior. Existe incluso un curso de la MongoDB University que se puede realizar de forma gratuita: https://learn.mongodb.com/learning-paths/using-mongodb-with-python"
   ]
  },
  {
   "cell_type": "markdown",
   "id": "77ae08ec",
   "metadata": {
    "id": "rwrJSwdffbrI"
   },
   "source": [
    "## Framework de Agregación\n",
    "\n",
    "Framework de agregación:\n",
    "- Aquí está la referencia de las diferentes etapas por las que puede pasar un pipeline: https://www.mongodb.com/docs/manual/reference/operator/aggregation-pipeline/.\n",
    "- Y aquí los distintos operadores que se permiten dentro de las etapas: https://docs.mongodb.com/manual/reference/operator/aggregation/.\n",
    "- Y aquí incluso un libro completo con usos prácticos de ejecutar agregación: https://www.practical-mongodb-aggregations.com/.\n",
    "\n",
    "A continuación otro vídeo interseante:"
   ]
  },
  {
   "cell_type": "code",
   "execution_count": null,
   "id": "08615d5b",
   "metadata": {
    "id": "2b3WDt0xA1UY"
   },
   "outputs": [],
   "source": [
    "from IPython.display import YouTubeVideo\n",
    "YouTubeVideo('VSX4a3h4SmQ',width=600)"
   ]
  },
  {
   "cell_type": "markdown",
   "id": "353804e8",
   "metadata": {
    "id": "2ZpnWj3gA1UY"
   },
   "source": [
    "![](https://miro.medium.com/max/1060/1*2lDBxvZ8Cr3JYkoODTa0lQ.png)"
   ]
  },
  {
   "cell_type": "markdown",
   "id": "1679b14b",
   "metadata": {
    "id": "WqP4KjgafbrJ"
   },
   "source": [
    "Proyección:"
   ]
  },
  {
   "cell_type": "code",
   "execution_count": null,
   "id": "f6aa3cef",
   "metadata": {
    "id": "0HRH68mufbrL"
   },
   "outputs": [],
   "source": [
    "respuestas = db['posts'].aggregate( [\n",
    "    {'$project' : { 'Id' : True }},\n",
    "    {'$limit': 20} ])\n",
    "list(respuestas)"
   ]
  },
  {
   "cell_type": "markdown",
   "id": "2fce0d7b",
   "metadata": {
    "id": "SXP3qYs7fbrO"
   },
   "source": [
    "_Lookup_!"
   ]
  },
  {
   "cell_type": "code",
   "execution_count": null,
   "id": "bdf1b1ca",
   "metadata": {
    "id": "iyZg-6TLfbrP",
    "scrolled": true
   },
   "outputs": [],
   "source": [
    "respuestas = posts.aggregate( [\n",
    "        {'$match': { 'Score' : {'$gte': 40}}},\n",
    "        {'$limit' : 50},\n",
    "        {'$lookup': {\n",
    "            'from': \"users\",\n",
    "            'localField': \"OwnerUserId\",\n",
    "            'foreignField': \"Id\",\n",
    "            'as': \"owner\"}\n",
    "        }\n",
    "        ])\n",
    "list(respuestas)"
   ]
  },
  {
   "cell_type": "markdown",
   "id": "b2e35967",
   "metadata": {
    "id": "Wc14fggBfbrR"
   },
   "source": [
    "El `$lookup` genera un _array_ con todos los resultados. El operador `$arrayElementAt` accede al primer elemento."
   ]
  },
  {
   "cell_type": "code",
   "execution_count": null,
   "id": "2cbf4e85",
   "metadata": {
    "id": "Ge_iO8dHfbrS"
   },
   "outputs": [],
   "source": [
    "respuestas = db.posts.aggregate( [\n",
    "        {'$match': { 'Score' : {'$gte': 40}}},\n",
    "        {'$limit' : 50},\n",
    "        {'$lookup': {\n",
    "            'from': \"users\",\n",
    "            'localField': \"OwnerUserId\",\n",
    "            'foreignField': \"Id\",\n",
    "            'as': \"owner\"}\n",
    "        },\n",
    "        { '$project' : {\n",
    "            'Id' : True,\n",
    "            'Score' : True,\n",
    "            'username' : {'$arrayElemAt' : ['$owner.DisplayName', 0]},\n",
    "            'owner.DisplayName' : True\n",
    "          }}\n",
    "        ])\n",
    "list(respuestas)"
   ]
  },
  {
   "cell_type": "markdown",
   "id": "59d7af21",
   "metadata": {
    "id": "E11XU_bufbrU"
   },
   "source": [
    "`$unwind` también puede usarse. \"Desdobla\" cada fila por cada elemento del array. En este caso, como sabemos que el array sólo contiene un elemento, sólo habrá una fila por fila original, pero sin el _array_. Finalmente se puede proyectar el campo que se quiera."
   ]
  },
  {
   "cell_type": "code",
   "execution_count": null,
   "id": "4cf661e0",
   "metadata": {
    "id": "EphHDIKyfbrU"
   },
   "outputs": [],
   "source": [
    "respuestas = db.posts.aggregate( [\n",
    "        { '$match': { 'Score' : {'$gte': 40}}},\n",
    "        {'$limit' : 50},\n",
    "        { '$lookup': {\n",
    "            'from': \"users\",\n",
    "            'localField': \"OwnerUserId\",\n",
    "            'foreignField': \"Id\",\n",
    "            'as': \"owner\"\n",
    "          }\n",
    "        },\n",
    "        { '$unwind': '$owner'},\n",
    "        { '$project' : {\n",
    "             'username': '$owner.DisplayName'\n",
    "          }\n",
    "        }\n",
    "        ])\n",
    "list(respuestas)"
   ]
  },
  {
   "cell_type": "markdown",
   "id": "6f33dfa8",
   "metadata": {
    "id": "4nj3Cd4MctTk"
   },
   "source": [
    "## Definición de índices\n",
    "\n",
    "Las consultas anteriores no se han podido realizar, ya que el uso de `$lookup` (equivalente a un JOIN de SQL) hace que se tenga que buscar en toda la colección usuarios para encontrar el usuario con `Id` especificado por `OwnerUserId`. Vamos a probarlas sin limitación después de crear un índice.\n"
   ]
  },
  {
   "cell_type": "code",
   "execution_count": null,
   "id": "287fbe70",
   "metadata": {
    "id": "8HQ-FepZcsUM"
   },
   "outputs": [],
   "source": [
    "db.users.create_index(['Id', pymongo.HASHED])"
   ]
  },
  {
   "cell_type": "code",
   "execution_count": null,
   "id": "c10b53b2",
   "metadata": {
    "id": "VphQvXb2eJUr"
   },
   "outputs": [],
   "source": [
    "respuestas = db.posts.aggregate( [\n",
    "        { '$match': { 'Score' : {'$gte': 40}}},\n",
    "        { '$lookup': {\n",
    "            'from': \"users\",\n",
    "            'localField': \"OwnerUserId\",\n",
    "            'foreignField': \"Id\",\n",
    "            'as': \"owner\"\n",
    "          }\n",
    "        },\n",
    "        { '$unwind': '$owner'},\n",
    "        { '$project' : {\n",
    "             'username': '$owner.DisplayName'\n",
    "          }\n",
    "        }\n",
    "        ])\n",
    "list(respuestas)"
   ]
  },
  {
   "cell_type": "markdown",
   "id": "9262ee2a",
   "metadata": {
    "id": "KAjV09tLQjJA"
   },
   "source": [
    "Veamos cómo se ha usado el índice en la consulta (no incluyo la consulta entera porque el explain no lo termina de hacer bien si hay muchos pasos, no sé exactamente por qué)."
   ]
  },
  {
   "cell_type": "code",
   "execution_count": null,
   "id": "5dd8be72",
   "metadata": {
    "id": "a9avx7D3QitJ"
   },
   "outputs": [],
   "source": [
    "db.command('aggregate', 'posts', pipeline= [\n",
    "  { '$match': { 'Score' : {'$gte': 40}}},\n",
    "  { '$lookup': {\n",
    "      'from': \"users\",\n",
    "      'localField': \"OwnerUserId\",\n",
    "      'foreignField': \"Id\",\n",
    "      'as': \"owner\"\n",
    "    }\n",
    "  }],\n",
    "  explain = True\n",
    ")"
   ]
  },
  {
   "cell_type": "markdown",
   "id": "700ebd98",
   "metadata": {
    "id": "vrOciFqYPycO"
   },
   "source": [
    "Calculemos la media de puntuación por usuario:"
   ]
  },
  {
   "cell_type": "code",
   "execution_count": null,
   "id": "1863ea6f",
   "metadata": {
    "id": "i0avPAXLQVlB"
   },
   "outputs": [],
   "source": [
    "media_puntuación_usuarios = db.posts.aggregate([\n",
    "    {\n",
    "        '$group': {\n",
    "            '_id': '$OwnerUserId',\n",
    "            'media_puntuación': { '$avg':  '$Score' }\n",
    "            }\n",
    "    }])\n",
    "list(media_puntuación_usuarios)"
   ]
  },
  {
   "cell_type": "markdown",
   "id": "d8327af8",
   "metadata": {
    "id": "BaIlEFmch4ue"
   },
   "source": [
    "Calculemos el máximo y mínimo de puntuación de cada usuario:"
   ]
  },
  {
   "cell_type": "code",
   "execution_count": null,
   "id": "173db4c0",
   "metadata": {
    "id": "_gcD_OwEh4ug"
   },
   "outputs": [],
   "source": [
    "max_min_puntuación_usuarios = db.posts.aggregate([\n",
    "    {\n",
    "        '$group': {\n",
    "            '_id': '$OwnerUserId',\n",
    "            'media_puntuación': { '$avg':  '$Score' },\n",
    "            'min': { '$min':  '$Score' },\n",
    "            'max': { '$max' : \"$Score\"}\n",
    "        }\n",
    "    }])\n",
    "list(max_min_puntuación_usuarios)"
   ]
  },
  {
   "cell_type": "code",
   "execution_count": null,
   "id": "65a43bcc",
   "metadata": {
    "id": "h7cIrzdfjQ8M"
   },
   "outputs": [],
   "source": [
    "!head Votes.csv"
   ]
  },
  {
   "cell_type": "markdown",
   "id": "a5bc552d",
   "metadata": {
    "id": "paZ3-kvZkLWh"
   },
   "source": [
    "Podemos comprobar que todos los posts tienen los votos correctos contando los votos positivos (`VoteTypeId=2`) y negativos (`VoteTypeId=3`).\n",
    "\n",
    "Primero, calcular el resultado de cada voto. Nótese cómo haciendo uso de `$cond` se puede aplicar una condición `if` para sumar o restar dependiendo del tipo del voto.\n",
    "\n",
    "Después lo comprobaremos con los existentes en Posts."
   ]
  },
  {
   "cell_type": "code",
   "execution_count": null,
   "id": "a57a5c61",
   "metadata": {
    "id": "rVrxHL_flATC"
   },
   "outputs": [],
   "source": [
    "score_by_post = db.votes.aggregate([\n",
    "    { \"$match\" : {\"$or\" : [ {\"VoteTypeId\" : 2},\n",
    "                            {\"VoteTypeId\" : 3}]\n",
    "                  }\n",
    "    },\n",
    "    {\n",
    "        '$group': {\n",
    "            '_id': '$PostId',\n",
    "            'score': { '$sum': { \"$cond\": {\n",
    "                                            \"if\" : { \"$eq\" : [ \"$VoteTypeId\", 2 ]},\n",
    "                                            \"then\" : 1,\n",
    "                                            \"else\" : -1\n",
    "                                          }} }\n",
    "        }\n",
    "    },\n",
    "    { '$limit' : 20}\n",
    "    ])\n",
    "list(score_by_post)"
   ]
  },
  {
   "cell_type": "markdown",
   "id": "9e5ee301",
   "metadata": {
    "id": "LQBCgAiaprrJ"
   },
   "source": [
    "Y después comparado con lo que hay en los Posts. La consulta, como se puede ver, sacará sólo los elementos en donde los votos en `Votes` no coincide con `Posts` (debe ser vacío). Nótese el uso de la nueva construcción `$expr`.\n",
    "\n",
    "\n",
    " **CUIDADO** Si no se define el índice correcto, la consulta tarda mucho. ¿Cuál?"
   ]
  },
  {
   "cell_type": "code",
   "execution_count": null,
   "id": "3a11d24e",
   "metadata": {
    "id": "OYbawuz2p02H"
   },
   "outputs": [],
   "source": [
    "score_by_post_comp = db.votes.aggregate([\n",
    "    { \"$match\" : {\"$or\" : [ {\"VoteTypeId\" : 2},\n",
    "                            {\"VoteTypeId\" : 3}]\n",
    "                  }\n",
    "    },\n",
    "    {\n",
    "        '$group': {\n",
    "            '_id': '$PostId',\n",
    "            'score': { '$sum': { \"$cond\" : {\n",
    "                                            \"if\" : { \"$eq\" : [ \"$VoteTypeId\", 2 ]},\n",
    "                                            \"then\" : 1,\n",
    "                                            \"else\" : -1\n",
    "                                           }}}\n",
    "        }\n",
    "    },\n",
    "    {\n",
    "        \"$lookup\": {\n",
    "            'from': \"posts\",\n",
    "            'localField': \"_id\",\n",
    "            'foreignField': \"Id\",\n",
    "            'as': \"post\"\n",
    "        }\n",
    "    },\n",
    "    { \"$unwind\" : \"$post\"},\n",
    "    {\n",
    "        \"$match\" : {'$expr' : {'$ne' : [ '$score', '$post.Score']}}\n",
    "    }\n",
    "])\n",
    "list(score_by_post_comp)"
   ]
  },
  {
   "cell_type": "markdown",
   "id": "c68be62d",
   "metadata": {
    "id": "aF2UeJhWfbrY"
   },
   "source": [
    "### Ejemplo de realización de una consulta de reciprocidad"
   ]
  },
  {
   "cell_type": "markdown",
   "id": "aa557db0",
   "metadata": {
    "id": "xZCEYMe_fbrY"
   },
   "source": [
    "Como ejemplo de consulta compleja con el Framework de Agregación, adjunto una posible solución a la consulta siguiente: ¿Hay usuarios que hacen preguntas y son respondidos por otros usuarios que a su vez preguntaron y fueron respondidos por los primeros? (Es decir, ¿hay reciprocidad en las interacciones en Stacokverflow español?)"
   ]
  },
  {
   "cell_type": "code",
   "execution_count": null,
   "id": "1eabc614",
   "metadata": {
    "id": "JMS_VrLtfbrZ",
    "scrolled": true
   },
   "outputs": [],
   "source": [
    "RQ4 = db.posts.aggregate( [\n",
    "        { \"$match\" : {\"PostTypeId\": 2}},\n",
    "        { '$lookup': {\n",
    "            'from': \"posts\",\n",
    "            'localField': \"ParentId\",\n",
    "            'foreignField': \"Id\",\n",
    "            'as': \"question\"\n",
    "          }\n",
    "        },\n",
    "\n",
    "        { '$unwind' : '$question' },\n",
    "\n",
    "        { '$project' : {\n",
    "            'OwnerUserId': True,\n",
    "            'OP' : '$question.OwnerUserId'\n",
    "          }\n",
    "        },\n",
    "        { '$group' : {'_id' : {'min' : { '$min' : ['$OwnerUserId' , '$OP'] },\n",
    "                               'max' : { '$max' : ['$OwnerUserId' , '$OP'] }},\n",
    "                      'pairs' : {'$addToSet' : { '0q': '$OP', '1a': '$OwnerUserId'}}\n",
    "          }\n",
    "        },\n",
    "        { '$project': {\n",
    "            'pairs' : True,\n",
    "            'npairs' : { '$size' : '$pairs'}\n",
    "          }\n",
    "        },\n",
    "        { '$match' : { 'npairs' : { '$eq' : 2}} }\n",
    "    ])\n",
    "RQ4 = list(RQ4)\n",
    "RQ4"
   ]
  },
  {
   "cell_type": "markdown",
   "id": "1dd067dd",
   "metadata": {
    "id": "PSQQ52oSfbrc"
   },
   "source": [
    "En el caso de que queramos tener como referencia las preguntas y respuestas a las que se refiere la conversación, se puede añadir un campo más que guarde todas las preguntas junto con sus respuestas consideradas:"
   ]
  },
  {
   "cell_type": "code",
   "execution_count": null,
   "id": "471a6449",
   "metadata": {
    "id": "hkg8Kisqfbrd",
    "scrolled": true
   },
   "outputs": [],
   "source": [
    "RQ4 = db.posts.aggregate( [\n",
    "        { '$match': { 'PostTypeId' : 2}},\n",
    "        { '$lookup': {\n",
    "            'from': \"posts\",\n",
    "            'localField': \"ParentId\",\n",
    "            'foreignField': \"Id\",\n",
    "            'as': \"question\"\n",
    "          }\n",
    "        },\n",
    "\n",
    "        { '$unwind' : '$question' },\n",
    "\n",
    "        { '$project' : {\n",
    "            'OwnerUserId': True,\n",
    "            'QId' : '$question.Id',\n",
    "            'AId' : '$Id',\n",
    "            'OP' : '$question.OwnerUserId'\n",
    "          }\n",
    "        },\n",
    "        { '$group' : {'_id' : {'min' : { '$min' : ['$OwnerUserId' , '$OP'] },\n",
    "                               'max' : { '$max' : ['$OwnerUserId' , '$OP'] }},\n",
    "                      'pairs' : {'$addToSet' : { '0q':'$OP', '1a': '$OwnerUserId'}},\n",
    "                      'considered_pairs' : { '$push' : {'QId' : '$QId', 'AId' : '$AId'}}\n",
    "          }\n",
    "        },\n",
    "        { '$project': {\n",
    "            'pairs' : True,\n",
    "            'npairs' : { '$size' : '$pairs'},\n",
    "            'considered_pairs' : True\n",
    "          }\n",
    "        },\n",
    "        { '$match' : { 'npairs' : { '$eq' : 2}} }\n",
    "    ])\n",
    "RQ4 = list(RQ4)\n",
    "RQ4"
   ]
  },
  {
   "cell_type": "code",
   "execution_count": null,
   "id": "0350ee73",
   "metadata": {
    "id": "9Sjnp3LXfbre"
   },
   "outputs": [],
   "source": [
    "(db.posts.find_one({'Id': 238}), db.posts.find_one({'Id': 243}),\n",
    "db.posts.find_one({'Id': 222}), db.posts.find_one({'Id': 223}))"
   ]
  },
  {
   "cell_type": "markdown",
   "id": "7795ae38",
   "metadata": {
    "id": "dcsTmRuxfbrh"
   },
   "source": [
    "### Ejemplo de consulta: Tiempo medio desde que se hace una pregunta hasta que se le da la primera respuesta\n",
    "\n",
    "Veamos cómo calcular el tiempo medio desde que se hace una pregunta hasta que se le da la primera respuesta. No se considerarán pues las preguntas que no tienen respuesta, lo cual es razonable."
   ]
  },
  {
   "cell_type": "markdown",
   "id": "1f8d6574",
   "metadata": {
    "id": "PFxtVyRlfbrv"
   },
   "source": [
    "Esto sólo calcula el tiempo mínimo de cada pregunta a su respuesta. Después se añadirá el código que calcula la media final:"
   ]
  },
  {
   "cell_type": "code",
   "execution_count": null,
   "id": "63dcbd96",
   "metadata": {
    "id": "qBI8nYpffbrw"
   },
   "outputs": [],
   "source": [
    "min_answer_time = db.posts.aggregate([\n",
    "    { \"$match\" : {\"PostTypeId\" : 2} },\n",
    "    { '$group' : {\n",
    "        '_id' : '$ParentId',\n",
    "        # 'answers' : { '$push' : {'Id' : \"$Id\", 'CreationDate' : \"$CreationDate\"}},\n",
    "        'min' : {'$min' : \"$CreationDate\"}\n",
    "      }\n",
    "    },\n",
    "    { \"$lookup\" : {\n",
    "        'from': \"posts\",\n",
    "        'localField': \"_id\",\n",
    "        'foreignField': \"Id\",\n",
    "        'as': \"post\"}\n",
    "    },\n",
    "    { \"$unwind\" : \"$post\"},\n",
    "    { \"$project\" : {\n",
    "        \"_id\" : True,\n",
    "        \"min\" : True,\n",
    "        \"diff\" : {\"$subtract\" : [\"$min\", \"$post.CreationDate\"]}\n",
    "      }\n",
    "    }\n",
    "])\n",
    "min_answer_time = list(min_answer_time)\n",
    "min_answer_time"
   ]
  },
  {
   "cell_type": "markdown",
   "id": "d17f55bc",
   "metadata": {
    "id": "nZwOr6R-p4_1"
   },
   "source": [
    "La siguiente consulta sí calcula la media:"
   ]
  },
  {
   "cell_type": "code",
   "execution_count": null,
   "id": "52f26bc9",
   "metadata": {
    "id": "HjaAdRxOptQQ"
   },
   "outputs": [],
   "source": [
    "avg_answer_time = db.posts.aggregate([\n",
    "    { \"$match\" : {\"PostTypeId\" : 2} },\n",
    "    { '$group' : {\n",
    "        '_id' : '$ParentId',\n",
    "        # 'answers' : { '$push' : {'Id' : \"$Id\", 'CreationDate' : \"$CreationDate\"}},\n",
    "        'min' : {'$min' : \"$CreationDate\"}\n",
    "      }\n",
    "    },\n",
    "    { \"$lookup\" : {\n",
    "        'from': \"posts\",\n",
    "        'localField': \"_id\",\n",
    "        'foreignField': \"Id\",\n",
    "        'as': \"post\"}\n",
    "    },\n",
    "    { \"$unwind\" : \"$post\"},\n",
    "    { \"$project\" : {\n",
    "        \"_id\" : True,\n",
    "        \"min\" : True,\n",
    "        \"diff\" : {\"$subtract\" : [\"$min\", \"$post.CreationDate\"]}\n",
    "      }\n",
    "    },\n",
    "    #    { \"$sort\" : {'_id' : 1} }\n",
    "    {\n",
    "      \"$group\" :  {\n",
    "        \"_id\" : None,\n",
    "        \"avg\" : { \"$avg\" : \"$diff\"}\n",
    "      }\n",
    "    }\n",
    "])\n",
    "avg_answer_time = list(avg_answer_time)\n",
    "avg_answer_time"
   ]
  },
  {
   "cell_type": "markdown",
   "id": "775f30a9",
   "metadata": {
    "id": "arvWFirUZW5d"
   },
   "source": [
    "## EJERCICIO 1: Listar aquellos usuarios con una reputación (`Reputation`) superior o igual a 500 y un número de visualizaciones (`Views`) superior a 200. De dichos usuarios solo mostrar los campos:\n",
    "- `DisplayName`\n",
    "- `Location`\n",
    "- `Reputation`\n",
    "- `Views`\n",
    "\n",
    "*IMPORTANTE: No mostrar el campo `_id`*"
   ]
  },
  {
   "cell_type": "markdown",
   "id": "cd2e3b94",
   "metadata": {
    "id": "yE04bCZNIvyR"
   },
   "source": [
    "## EJERCICIO 2: Listar todos post que son preguntas y sus votos asociados. Para ello, se permite definir los indices que se consideren adecuados.\n",
    "\n",
    "*Ejemplo*: Suponiendo que el post con `_id` `65e6f1c8d93b356db73e5433` tuviera tres votos asociados, la solución debe devolver una salida de en este formato (nótese que los campos `CreationDate`, `Score` e `_id` se refieren al mismo post):\n",
    "\n",
    "```json\n",
    "{'CreationDate': datetime.datetime(2015, 10, 29, 15, 56, 52, 933000),\n",
    "  'Score': 40,\n",
    "  '_id': ObjectId('65e6f1c8d93b356db73e5433'),\n",
    "  'post_votes': {'VoteTypeId': 2}},\n",
    " {'CreationDate': datetime.datetime(2015, 10, 29, 15, 56, 52, 933000),\n",
    "  'Score': 40,\n",
    "  '_id': ObjectId('65e6f1c8d93b356db73e5433'),\n",
    "  'post_votes': {'VoteTypeId': 2}},\n",
    " {'CreationDate': datetime.datetime(2015, 10, 29, 15, 56, 52, 933000),\n",
    "  'Score': 40,\n",
    "  '_id': ObjectId('65e6f1c8d93b356db73e5433'),\n",
    "  'post_votes': {'VoteTypeId': 16}}\n",
    "```\n"
   ]
  },
  {
   "cell_type": "markdown",
   "id": "67c8ed31",
   "metadata": {
    "id": "fNhP094trszL"
   },
   "source": [
    "## EJERCICIO 3: Listar los nombres de usuarios (campo `DisplayName` de `users`) que tienen más preguntas que respuestas\n",
    "\n",
    "(Contando los usuarios debe salir exactamente 54483 usuarios)."
   ]
  },
  {
   "cell_type": "markdown",
   "id": "b1ff864b",
   "metadata": {
    "id": "ZSF1uu0tfbrz"
   },
   "source": [
    "## EJERCICIO 4: Comprobad, de forma similar a los ejemplos anteriores, que el campo `CommentCount` de `Posts` es correcto, comprobándolo con la colección `Comments`. Definid los índices necesarios.\n",
    "\n",
    "El resultado de la consulta de los números de comentarios que difieren debe ser vacío como en el ejemplo de los votos anterior.\n"
   ]
  }
 ],
 "metadata": {
  "colab": {
   "provenance": [],
   "toc_visible": true
  },
  "kernelspec": {
   "display_name": "Python 3 (ipykernel)",
   "language": "python",
   "name": "python3"
  },
  "language_info": {
   "codemirror_mode": {
    "name": "ipython",
    "version": 3
   },
   "file_extension": ".py",
   "mimetype": "text/x-python",
   "name": "python",
   "nbconvert_exporter": "python",
   "pygments_lexer": "ipython3",
   "version": "3.11.6"
  }
 },
 "nbformat": 4,
 "nbformat_minor": 5
}
