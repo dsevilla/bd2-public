{
 "cells": [
  {
   "cell_type": "markdown",
   "id": "c3de2da2",
   "metadata": {
    "id": "WdqTiGhdfbo4"
   },
   "source": [
    "## NoSQL (MongoDB) (sesión 2)\n"
   ]
  },
  {
   "cell_type": "markdown",
   "id": "e7cf2bcf",
   "metadata": {
    "id": "be5isyBjMQl2"
   },
   "source": [
    "## Introducción"
   ]
  },
  {
   "cell_type": "markdown",
   "id": "e10025b3",
   "metadata": {
    "id": "ZbikzCBUXK2P"
   },
   "source": [
    "![MongoDB](https://webassets.mongodb.com/_com_assets/cms/MongoDB_Logo_FullColorBlack_RGB-4td3yuxzjs.png)\n",
    "\n",
    "Esta hoja muestra cómo acceder a bases de datos MongoDB y también a conectar la salida con Jupyter. Se puede utilizar el *shell* propio de MongoDB en el contenedor usando el programa `mongo`. La diferencia es que ese programa espera código Javascript y aquí trabajaremos con Python."
   ]
  },
  {
   "cell_type": "code",
   "execution_count": null,
   "id": "3f18c9bf",
   "metadata": {
    "id": "x9-RN4ZSY5o9"
   },
   "outputs": [],
   "source": [
    "RunningInCOLAB = 'google.colab' in str(get_ipython()) if hasattr(__builtins__,'__IPYTHON__') else False"
   ]
  },
  {
   "cell_type": "code",
   "execution_count": null,
   "id": "c6a5d9fc",
   "metadata": {
    "id": "n5BdH3KOZA47"
   },
   "outputs": [],
   "source": [
    "db_hostname = \"localhost\" if RunningInCOLAB else \"mongo\""
   ]
  },
  {
   "cell_type": "markdown",
   "id": "6750188f",
   "metadata": {
    "id": "iOSnWPqEMXje"
   },
   "source": [
    "## Instalación inicial de MongoDB (no necesaria si se utiliza Docker en local)"
   ]
  },
  {
   "cell_type": "code",
   "execution_count": null,
   "id": "b6f67511",
   "metadata": {
    "id": "J2M97e3BfQfB"
   },
   "outputs": [],
   "source": [
    "!wget -qO - https://www.mongodb.org/static/pgp/server-6.0.asc | sudo gpg --dearmor > /etc/apt/trusted.gpg.d/mongo-server-6.gpg"
   ]
  },
  {
   "cell_type": "code",
   "execution_count": null,
   "id": "7b98a52b",
   "metadata": {
    "id": "ezAIGix1IehU"
   },
   "outputs": [],
   "source": [
    "%%bash\n",
    "sudo adduser --system --no-create-home mongodb\n",
    "sudo addgroup --system mongodb\n",
    "sudo adduser mongodb mongodb\n",
    "\n",
    "# create db -- note: this should agree with dbpath in mongod.conf\n",
    "if [ ! -d /var/lib/mongodb ]; then\n",
    "  sudo mkdir -p /var/lib/mongodb\n",
    "  sudo chown mongodb:mongodb /var/lib/mongodb\n",
    "fi\n",
    "\n",
    "# create logdir -- note: this should agree with logpath in mongod.conf\n",
    "if [ ! -d /var/log/mongodb ]; then\n",
    "  sudo mkdir -p /var/log/mongodb\n",
    "  sudo chown mongodb:mongodb /var/log/mongodb\n",
    "fi"
   ]
  },
  {
   "cell_type": "code",
   "execution_count": null,
   "id": "52bcd143",
   "metadata": {
    "id": "bkQTZoJDIehX"
   },
   "outputs": [],
   "source": [
    "!echo \"deb [ arch=amd64,arm64 ] https://repo.mongodb.org/apt/ubuntu jammy/mongodb-org/6.0 multiverse\" | sudo tee /etc/apt/sources.list.d/mongodb-org-6.0.list"
   ]
  },
  {
   "cell_type": "code",
   "execution_count": null,
   "id": "13871d5a",
   "metadata": {
    "id": "pJ25BFUcIehY"
   },
   "outputs": [],
   "source": [
    "!sudo apt-get update -qq"
   ]
  },
  {
   "cell_type": "code",
   "execution_count": null,
   "id": "393a1250",
   "metadata": {
    "id": "aRypLsP2IehZ"
   },
   "outputs": [],
   "source": [
    "!sudo ln -sf /bin/true /bin/systemctl"
   ]
  },
  {
   "cell_type": "code",
   "execution_count": null,
   "id": "7c08fc60",
   "metadata": {
    "id": "0CH-EbXBIeha"
   },
   "outputs": [],
   "source": [
    "!sudo apt-get install -y -qq dialog mongodb-org"
   ]
  },
  {
   "cell_type": "code",
   "execution_count": null,
   "id": "47eead96",
   "metadata": {
    "id": "e4-poVR5Iehb"
   },
   "outputs": [],
   "source": [
    "!sudo /usr/bin/mongod --config /etc/mongod.conf --fork"
   ]
  },
  {
   "cell_type": "code",
   "execution_count": null,
   "id": "3a937c5a",
   "metadata": {
    "id": "txLEqNUWIehb"
   },
   "outputs": [],
   "source": [
    "!sudo mongod --version"
   ]
  },
  {
   "cell_type": "markdown",
   "id": "351c882f",
   "metadata": {
    "id": "GaTsWPro-oOG"
   },
   "source": [
    "## Instalación de `pymongo`\n"
   ]
  },
  {
   "cell_type": "code",
   "execution_count": null,
   "id": "f90de90b",
   "metadata": {
    "id": "xE0Sl869XK2Y"
   },
   "outputs": [],
   "source": [
    "!pip install --upgrade pymongo"
   ]
  },
  {
   "cell_type": "code",
   "execution_count": null,
   "id": "2329c158",
   "metadata": {
    "id": "C0Le2anDXK2k"
   },
   "outputs": [],
   "source": [
    "from pprint import pprint as pp\n",
    "import pandas as pd\n",
    "import matplotlib.pyplot as plt\n",
    "import matplotlib\n",
    "\n",
    "%matplotlib inline\n",
    "matplotlib.style.use('ggplot')"
   ]
  },
  {
   "cell_type": "markdown",
   "id": "431a24eb",
   "metadata": {
    "id": "O92AlPcMXK2r"
   },
   "source": [
    "Usaremos la librería `pymongo` para python. La cargamos a continuación."
   ]
  },
  {
   "cell_type": "code",
   "execution_count": null,
   "id": "41acde93",
   "metadata": {
    "id": "Pc7akqe0XK2t"
   },
   "outputs": [],
   "source": [
    "import pymongo\n",
    "from pymongo import MongoClient"
   ]
  },
  {
   "cell_type": "markdown",
   "id": "924882f6",
   "metadata": {
    "id": "mkiP6rzXXK2z"
   },
   "source": [
    "La conexión se inicia con `MongoClient` en el `host` descrito en el fichero `docker-compose.yml` (`mongo`), o bien a `localhost` si lo estamos haciendo en Colab."
   ]
  },
  {
   "cell_type": "code",
   "execution_count": null,
   "id": "748bd72f",
   "metadata": {
    "id": "s4BiT5o9XK20"
   },
   "outputs": [],
   "source": [
    "client = MongoClient(db_hostname,27017)\n",
    "client"
   ]
  },
  {
   "cell_type": "code",
   "execution_count": null,
   "id": "bdfa97c2",
   "metadata": {
    "id": "3xqmSSGdXK25"
   },
   "outputs": [],
   "source": [
    "client.list_database_names()"
   ]
  },
  {
   "cell_type": "markdown",
   "id": "3d6811b0",
   "metadata": {
    "id": "-esQVMH6MxB-"
   },
   "source": [
    "## Descarga de datos en formato CSV"
   ]
  },
  {
   "cell_type": "markdown",
   "id": "a5cd05a0",
   "metadata": {
    "id": "NK67vpHdfbpn"
   },
   "source": [
    " - Formato: 7zipped\n",
    " - Ficheros:\n",
    "   - **Comments**.csv\n",
    "       - Id\n",
    "       - PostId\n",
    "       - Score\n",
    "       - Text, e.g.: \"@Stu Thompson: Seems possible to me - why not try it?\"\n",
    "       - CreationDate, e.g.:\"2008-09-06T08:07:10.730\"\n",
    "       - UserId\n",
    "   - **Posts**.csv\n",
    "       - Id\n",
    "       - PostTypeId\n",
    "          - 1: Question\n",
    "          - 2: Answer\n",
    "       - ParentID (only present if PostTypeId is 2)\n",
    "       - AcceptedAnswerId (only present if PostTypeId is 1)\n",
    "       - CreationDate\n",
    "       - Score\n",
    "       - ViewCount\n",
    "       - Body\n",
    "       - OwnerUserId\n",
    "       - LastEditorUserId\n",
    "       - LastEditorDisplayName=\"Jeff Atwood\"\n",
    "       - LastEditDate=\"2009-03-05T22:28:34.823\"\n",
    "       - LastActivityDate=\"2009-03-11T12:51:01.480\"\n",
    "       - CommunityOwnedDate=\"2009-03-11T12:51:01.480\"\n",
    "       - ClosedDate=\"2009-03-11T12:51:01.480\"\n",
    "       - Title=\n",
    "       - Tags=\n",
    "       - AnswerCount\n",
    "       - CommentCount\n",
    "       - FavoriteCount\n",
    "   - **Tags**.csv\n",
    "    - Id\n",
    "    - Count\n",
    "    - ExcerptPostId\n",
    "    - TagName\n",
    "    - WikiPostId\n",
    "   - **Users**.csv\n",
    "     - Id\n",
    "     - Reputation\n",
    "     - CreationDate\n",
    "     - DisplayName\n",
    "     - EmailHash\n",
    "     - LastAccessDate\n",
    "     - WebsiteUrl\n",
    "     - Location\n",
    "     - Age\n",
    "     - AboutMe\n",
    "     - Views\n",
    "     - UpVotes\n",
    "     - DownVotes\n",
    "   - **Votes**.csv\n",
    "     - Id\n",
    "     - PostId\n",
    "     - VoteTypeId\n",
    "        - ` 1`: AcceptedByOriginator\n",
    "        - ` 2`: UpMod\n",
    "        - ` 3`: DownMod\n",
    "        - ` 4`: Offensive\n",
    "        - ` 5`: Favorite - if VoteTypeId = 5 UserId will be populated\n",
    "        - ` 6`: Close\n",
    "        - ` 7`: Reopen\n",
    "        - ` 8`: BountyStart\n",
    "        - ` 9`: BountyClose\n",
    "        - `10`: Deletion\n",
    "        - `11`: Undeletion\n",
    "        - `12`: Spam\n",
    "        - `13`: InformModerator\n",
    "     - CreationDate\n",
    "     - UserId (only for VoteTypeId 5)\n",
    "     - BountyAmount (only for VoteTypeId 9)"
   ]
  },
  {
   "cell_type": "code",
   "execution_count": null,
   "id": "da408186",
   "metadata": {
    "id": "ieRaMS8xKdNX"
   },
   "outputs": [],
   "source": [
    "!wget https://github.com/dsevilla/bd2-data/raw/main/es.stackoverflow/es.stackoverflow.csv.7z.001\n",
    "!wget https://github.com/dsevilla/bd2-data/raw/main/es.stackoverflow/es.stackoverflow.csv.7z.002"
   ]
  },
  {
   "cell_type": "code",
   "execution_count": null,
   "id": "0ea24ef7",
   "metadata": {
    "id": "iBFmsqCMKhz1"
   },
   "outputs": [],
   "source": [
    "!7zr x es.stackoverflow.csv.7z.001"
   ]
  },
  {
   "cell_type": "code",
   "execution_count": null,
   "id": "4415bb30",
   "metadata": {
    "id": "JQSzfBhBLDZm"
   },
   "outputs": [],
   "source": [
    "!head Users.csv"
   ]
  },
  {
   "cell_type": "markdown",
   "id": "ea301915",
   "metadata": {
    "id": "0PMVDICrfbpy"
   },
   "source": [
    "Una vez descargados los ficheros CSV, vamos a crear una colección diferente para cada uno tal y como hicimos en la sesión 1. Después estudiaremos cómo poder optimizar el acceso usando agregación."
   ]
  },
  {
   "cell_type": "code",
   "execution_count": null,
   "id": "ebf61c61",
   "metadata": {
    "id": "BOyHm5VQoLJh"
   },
   "outputs": [],
   "source": [
    "db = client.stackoverflow\n",
    "db = client['stackoverflow']\n",
    "db"
   ]
  },
  {
   "cell_type": "code",
   "execution_count": null,
   "id": "4c1a346e",
   "metadata": {
    "id": "rPHR9uZZqHYJ"
   },
   "outputs": [],
   "source": [
    "posts = db.posts\n",
    "posts"
   ]
  },
  {
   "cell_type": "code",
   "execution_count": null,
   "id": "d59356c2",
   "metadata": {
    "id": "c5hJC4G4XK3A"
   },
   "outputs": [],
   "source": [
    "import csv\n",
    "from datetime import datetime\n",
    "from tqdm.notebook import tqdm\n",
    "\n",
    "def batched(iterable, n):\n",
    "    from itertools import islice\n",
    "    if n < 1:\n",
    "        raise ValueError('n must be at least one')\n",
    "    it = iter(iterable)\n",
    "    while batch := tuple(islice(it, n)):\n",
    "        yield batch\n",
    "\n",
    "def csv_to_mongo(file, coll):\n",
    "    \"\"\"\n",
    "    Carga un fichero CSV en Mongo. file especifica el fichero, coll la colección\n",
    "    dentro de la base de datos, y date_cols las columnas que serán interpretadas\n",
    "    como fechas.\n",
    "    \"\"\"\n",
    "    # Convertir todos los elementos que se puedan a números\n",
    "    def to_numeric(d):\n",
    "        if len(d) == 0:\n",
    "            return ''\n",
    "        if not ((d[0] >= '0' and d[0] <= '9') or d[0] == '-' or d[0] == '+' or d[0]=='.'):\n",
    "            return str(d)\n",
    "        try:\n",
    "            return int(d)\n",
    "        except ValueError:\n",
    "            try:\n",
    "                return float(d)\n",
    "            except ValueError:\n",
    "                return str(d)\n",
    "\n",
    "    def to_date(d):\n",
    "        \"\"\"To ISO Date. If this cannot be converted, return NULL (None)\"\"\"\n",
    "        try:\n",
    "            return datetime.strptime(d, \"%Y-%m-%dT%H:%M:%S.%f\")\n",
    "        except ValueError:\n",
    "            return None\n",
    "\n",
    "    def to_str(d):\n",
    "        try:\n",
    "          return str(d)\n",
    "        except ValueError:\n",
    "            return None\n",
    "\n",
    "    coll.drop()\n",
    "\n",
    "    with open(file, encoding='utf-8') as f:\n",
    "        # La llamada csv.reader() crea un iterador sobre un fichero CSV\n",
    "        reader = csv.reader(f, dialect='excel')\n",
    "\n",
    "        # Se leen las columnas. Sus nombres se usarán para crear las diferentes columnas en la familia\n",
    "        columns = next(reader)\n",
    "\n",
    "        # Las columnas que contienen 'Date' se interpretan como fechas\n",
    "        func_to_cols = list(map(lambda c: to_date if 'date' in c.lower() else (to_numeric if not 'displayname' in c.lower() else to_str), columns))\n",
    "\n",
    "        for batch in batched(tqdm(reader, desc='Leyendo e insertando filas...'), 10000):\n",
    "            docs = []\n",
    "            for row in batch:\n",
    "                row = [func(e) for (func,e) in zip(func_to_cols, row)]\n",
    "                docs.append(dict(zip(columns,row)))\n",
    "            coll.insert_many(docs)\n",
    "\n",
    "        print(\"¡Hecho!\")"
   ]
  },
  {
   "cell_type": "code",
   "execution_count": null,
   "id": "ff72382b",
   "metadata": {
    "id": "hUVr0cPGfbp9"
   },
   "outputs": [],
   "source": [
    "csv_to_mongo('Posts.csv',db.posts)"
   ]
  },
  {
   "cell_type": "code",
   "execution_count": null,
   "id": "3525e704",
   "metadata": {
    "id": "I1JYOx-rfbqJ"
   },
   "outputs": [],
   "source": [
    "csv_to_mongo('Users.csv',db.users)"
   ]
  },
  {
   "cell_type": "code",
   "execution_count": null,
   "id": "bf16de68",
   "metadata": {
    "id": "SdJsUjREfbqO"
   },
   "outputs": [],
   "source": [
    "csv_to_mongo('Votes.csv',db.votes)"
   ]
  },
  {
   "cell_type": "code",
   "execution_count": null,
   "id": "46fcf9de",
   "metadata": {
    "id": "ev1yW2-8fbqS"
   },
   "outputs": [],
   "source": [
    "csv_to_mongo('Comments.csv',db.comments)"
   ]
  },
  {
   "cell_type": "code",
   "execution_count": null,
   "id": "0088134b",
   "metadata": {
    "id": "fCetnARxfbqX"
   },
   "outputs": [],
   "source": [
    "csv_to_mongo('Tags.csv',db.tags)"
   ]
  },
  {
   "cell_type": "code",
   "execution_count": null,
   "id": "dd7e066e",
   "metadata": {
    "id": "mIWOxATUfbqb"
   },
   "outputs": [],
   "source": [
    "posts.count_documents({})"
   ]
  },
  {
   "cell_type": "markdown",
   "id": "be534de3",
   "metadata": {
    "id": "rwrJSwdffbrI"
   },
   "source": [
    "## Framework de Agregación\n",
    "\n",
    "Framework de agregación:\n",
    "- Aquí está la referencia de las diferentes etapas por las que puede pasar un pipeline: https://www.mongodb.com/docs/manual/reference/operator/aggregation-pipeline/.\n",
    "- Y aquí los distintos operadores que se permiten dentro de las etapas: https://docs.mongodb.com/manual/reference/operator/aggregation/.\n",
    "- Y aquí incluso un libro completo con usos prácticos de ejecutar agregación: https://www.practical-mongodb-aggregations.com/.\n",
    "\n",
    "A continuación un vídeo interseante:"
   ]
  },
  {
   "cell_type": "code",
   "execution_count": null,
   "id": "e51dc993",
   "metadata": {
    "id": "2b3WDt0xA1UY"
   },
   "outputs": [],
   "source": [
    "from IPython.display import YouTubeVideo\n",
    "YouTubeVideo('VSX4a3h4SmQ',width=600)"
   ]
  },
  {
   "cell_type": "markdown",
   "id": "4ce69751",
   "metadata": {
    "id": "mqwkrEXwtdUl"
   },
   "source": [
    "Aqui tenemos un esquema con un ejemplo básico de agregación."
   ]
  },
  {
   "cell_type": "markdown",
   "id": "9d350345",
   "metadata": {
    "id": "2ZpnWj3gA1UY"
   },
   "source": [
    "![](https://miro.medium.com/max/1060/1*2lDBxvZ8Cr3JYkoODTa0lQ.png)"
   ]
  },
  {
   "cell_type": "markdown",
   "id": "b223ee0a",
   "metadata": {
    "id": "gYGp9QX8-9it"
   },
   "source": [
    "## Algunos operadores de agregación\n",
    "\n"
   ]
  },
  {
   "cell_type": "markdown",
   "id": "6c74cba8",
   "metadata": {
    "id": "nKqZOL-DXQi_"
   },
   "source": [
    "### `$match`\n",
    "\n",
    "Este operador permite filtrar los documentos que queremos que pasen a la siguiente fase del pipeline definiendo una serie de condiciones sobre los campos de los mismos.\n",
    "\n",
    "Vamos a filtrar aquellos documentos que tengan un `Score` igual o superior (`$gte`) a 40."
   ]
  },
  {
   "cell_type": "code",
   "execution_count": null,
   "id": "aea0bef0",
   "metadata": {
    "id": "4X6FkyABXl2Q"
   },
   "outputs": [],
   "source": [
    "respuestas = posts.aggregate( [\n",
    "        {'$match': { 'Score' : {'$gte': 40}}}\n",
    "])\n",
    "list(respuestas)"
   ]
  },
  {
   "cell_type": "markdown",
   "id": "33e3c08e",
   "metadata": {
    "id": "WqP4KjgafbrJ"
   },
   "source": [
    "### `$project`\n",
    "\n",
    "El operador `$project`permite filtar qué campos de los documentos queremos usar en la siguientes fases de agregación.\n",
    "\n",
    "Generalmente este operador suele combinarse con otros como `$find`, `$match` o `$lookup` en fases más avanzadas de la agregación.\n",
    "\n",
    "En el siguiente ejemplo, realizamos un filtrado en donde solo nos quedamos con el campo `Id` de los posts."
   ]
  },
  {
   "cell_type": "code",
   "execution_count": null,
   "id": "5ba260cc",
   "metadata": {
    "id": "0HRH68mufbrL"
   },
   "outputs": [],
   "source": [
    "respuestas = db['posts'].aggregate( [\n",
    "    {'$project' : { 'Id' : True }},\n",
    "    {'$limit': 20} ])\n",
    "list(respuestas)"
   ]
  },
  {
   "cell_type": "markdown",
   "id": "e2fcbbbd",
   "metadata": {
    "id": "407NezLD_FTG"
   },
   "source": [
    "### `$lookup`"
   ]
  },
  {
   "cell_type": "markdown",
   "id": "4fbd15ce",
   "metadata": {
    "id": "SXP3qYs7fbrO"
   },
   "source": [
    "El operador `$lookup` permite realizar búsquedas en otras colecciones. Podrían interpretarse como un `join` en el modelo relacional.\n",
    "\n",
    "En el ejemplo siguiente, en primer lugar seleccionamos los posts con un `Score` igual o mayor a 40 con `$match` para a continuación seleccionar los usuarios que han publicado dichos posts incluyendolo en un nuevo campo llamado `owner`."
   ]
  },
  {
   "cell_type": "code",
   "execution_count": null,
   "id": "552c171f",
   "metadata": {
    "id": "iyZg-6TLfbrP",
    "scrolled": true
   },
   "outputs": [],
   "source": [
    "respuestas = posts.aggregate( [\n",
    "        {'$match': { 'Score' : {'$gte': 40}}},\n",
    "        {'$lookup': {\n",
    "            'from': \"users\",\n",
    "            'localField': \"OwnerUserId\",\n",
    "            'foreignField': \"Id\",\n",
    "            'as': \"owner\"}\n",
    "        }\n",
    "        ])\n",
    "list(respuestas)"
   ]
  },
  {
   "cell_type": "markdown",
   "id": "d8dfa0a6",
   "metadata": {
    "id": "Wc14fggBfbrR"
   },
   "source": [
    "### `$arrayElemAt`\n",
    "\n",
    "El `$lookup` genera un _array_ con todos los resultados. El operador `$arrayElementAt` accede al primer elemento."
   ]
  },
  {
   "cell_type": "code",
   "execution_count": null,
   "id": "c742cc79",
   "metadata": {
    "id": "Ge_iO8dHfbrS"
   },
   "outputs": [],
   "source": [
    "respuestas = db.posts.aggregate( [\n",
    "        {'$match': { 'Score' : {'$gte': 40}}},\n",
    "        {'$lookup': {\n",
    "            'from': \"users\",\n",
    "            'localField': \"OwnerUserId\",\n",
    "            'foreignField': \"Id\",\n",
    "            'as': \"owner\"}\n",
    "        },\n",
    "        { '$project' : {\n",
    "            'Id' : True,\n",
    "            'Score' : True,\n",
    "            'username' : {'$arrayElemAt' : ['$owner.DisplayName', 0]},\n",
    "            'owner.DisplayName' : True\n",
    "          }}\n",
    "        ])\n",
    "list(respuestas)"
   ]
  },
  {
   "cell_type": "markdown",
   "id": "63652f58",
   "metadata": {
    "id": "E11XU_bufbrU"
   },
   "source": [
    "### `$unwind`\n",
    "\n",
    "Este operador *desdobla* cada fila por cada elemento del array.\n",
    "\n",
    "Ej: El siguiente código\n",
    "\n",
    "```python\n",
    "db.inventory.insert_one({ \"_id\" : 1, \"item\" : \"ABC1\", \"sizes\": [ \"S\", \"M\", \"L\"] })\n",
    "db.inventory.aggregate( [ { \"$unwind\" : \"$sizes\" } ] )\n",
    "```\n",
    "\n",
    "Devolverá:\n",
    "\n",
    "```json\n",
    "{ \"_id\" : 1, \"item\" : \"ABC1\", \"sizes\" : \"S\" }\n",
    "{ \"_id\" : 1, \"item\" : \"ABC1\", \"sizes\" : \"M\" }\n",
    "{ \"_id\" : 1, \"item\" : \"ABC1\", \"sizes\" : \"L\" }\n",
    "```\n",
    "\n",
    "En el ejemplo de procesamiento de posts que estamos llevando acabo, como sabemos que el array `$owner`sólo contiene un elemento, sólo habrá una fila por fila original, pero sin el _array_. Finalmente se puede proyectar el campo que se quiera. En este caso el `ownerDisplayName` que es proyectado (renombrado) como `username`."
   ]
  },
  {
   "cell_type": "code",
   "execution_count": null,
   "id": "bed9ee9a",
   "metadata": {
    "id": "EphHDIKyfbrU"
   },
   "outputs": [],
   "source": [
    "respuestas = db.posts.aggregate( [\n",
    "        { '$match': { 'Score' : {'$gte': 40}}},\n",
    "        { '$lookup': {\n",
    "            'from': \"users\",\n",
    "            'localField': \"OwnerUserId\",\n",
    "            'foreignField': \"Id\",\n",
    "            'as': \"owner\"\n",
    "          }\n",
    "        },\n",
    "        { '$unwind': '$owner'},\n",
    "        { '$project' : {\n",
    "             'username': '$owner.DisplayName'\n",
    "          }\n",
    "        }\n",
    "        ])\n",
    "list(respuestas)"
   ]
  },
  {
   "cell_type": "markdown",
   "id": "24287610",
   "metadata": {
    "id": "T_ry--5igaTT"
   },
   "source": [
    "### `$push`\n",
    "\n",
    "Devuelve un array con *todos* los valores que resultan de aplicar una determinada expresión a los documentos que forman parte del pipeline.\n",
    "\n",
    "Obtener el listado con el identificador de `Posts` (`Id`) asociados a cada valor de `Score`."
   ]
  },
  {
   "cell_type": "code",
   "execution_count": null,
   "id": "a7977c56",
   "metadata": {
    "id": "6VXq15pWg10w"
   },
   "outputs": [],
   "source": [
    "posts_by_score= db.posts.aggregate([\n",
    "    {\n",
    "        '$group':{\n",
    "            '_id': '$Score',\n",
    "            'posts':{\n",
    "                '$push': {\n",
    "                    'post': '$Id'\n",
    "                }\n",
    "            }\n",
    "        }\n",
    "    }\n",
    "\n",
    "])\n",
    "list(posts_by_score)"
   ]
  },
  {
   "cell_type": "markdown",
   "id": "920bf6cf",
   "metadata": {
    "id": "m9Y9N189UQdh"
   },
   "source": [
    "### `$addToSet`\n",
    "\n",
    " Devuelve un array de todos los valores únicos que resultan de aplicar una expresión a cada documento de un grupo.\n",
    "\n",
    "\n",
    "Vamos a obtener el listado de `Tags` asociadas a cada tipo de licencia  `ContentLicense`."
   ]
  },
  {
   "cell_type": "code",
   "execution_count": null,
   "id": "c6b4c266",
   "metadata": {
    "id": "qXr2W9DBU5ZX"
   },
   "outputs": [],
   "source": [
    "license_and_tags= db.posts.aggregate([\n",
    "            { \"$match\" : {\"PostTypeId\": 1}},\n",
    "            {\"$limit\": 10},\n",
    "\n",
    "             {'$group':{\n",
    "                             '_id':'$ContentLicense',\n",
    "                             'AllTags': { '$addToSet': \"$Tags\" }\n",
    "            }}\n",
    "\n",
    "            ]\n",
    ")\n",
    "list(license_and_tags)"
   ]
  },
  {
   "cell_type": "markdown",
   "id": "dcd6223b",
   "metadata": {
    "id": "NYBaAthTkluP"
   },
   "source": [
    "### `$out`\n",
    "\n",
    "Este comando permite volcar el ersulado de un pipeline de agregación en una nueva colección en la base de datos."
   ]
  },
  {
   "cell_type": "code",
   "execution_count": null,
   "id": "e9bf9e36",
   "metadata": {
    "id": "_VntMZJWkQbr"
   },
   "outputs": [],
   "source": [
    "respuestas = db.posts.aggregate( [\n",
    "        { '$match': { 'Score' : {'$gte': 40}}},\n",
    "        { '$lookup': {\n",
    "            'from': \"users\",\n",
    "            'localField': \"OwnerUserId\",\n",
    "            'foreignField': \"Id\",\n",
    "            'as': \"owner\"\n",
    "          }\n",
    "        },\n",
    "        { '$unwind': '$owner'},\n",
    "        { '$project' : {\n",
    "             'username': '$owner.DisplayName'\n",
    "          }\n",
    "        },\n",
    "        {'$out': \"stackoverflow_users\"}\n",
    "        ])"
   ]
  },
  {
   "cell_type": "code",
   "execution_count": null,
   "id": "d600be27",
   "metadata": {
    "id": "oXoZUP9srDNo"
   },
   "outputs": [],
   "source": [
    "db.stackoverflow_users.count_documents({})"
   ]
  },
  {
   "cell_type": "markdown",
   "id": "af356307",
   "metadata": {
    "id": "fKjov58w_F2Q"
   },
   "source": [
    "## Ejemplos básicos de agregación"
   ]
  },
  {
   "cell_type": "markdown",
   "id": "b047cba2",
   "metadata": {
    "id": "YxgjyCnH_OVx"
   },
   "source": [
    "### Ejemplo 1: Asociación usuarios con Tags\n",
    "\n",
    "Con Agregación, vamos a construir una colección que asocia un usuario con los tags que ha usado en todas sus preguntas.\n",
    "\n",
    "*Por cuestiones de rendimiento vamos a limitar la agregación a 50 elementos.*"
   ]
  },
  {
   "cell_type": "code",
   "execution_count": null,
   "id": "dd02687d",
   "metadata": {
    "id": "ejQ2ja8iFBf2"
   },
   "outputs": [],
   "source": [
    "user_tags= db.posts.aggregate( [\n",
    "        { \"$match\" : {\"PostTypeId\": 1}},\n",
    "\n",
    "        {\"$limit\": 50},\n",
    "\n",
    "        { '$lookup': {\n",
    "            'from': \"users\",\n",
    "            'localField': \"OwnerUserId\",\n",
    "            'foreignField': \"Id\",\n",
    "            'as': \"owner\"\n",
    "          }\n",
    "        },\n",
    "\n",
    "        {'$project':{\n",
    "            'Tags': True,\n",
    "            'userid' : {'$arrayElemAt' : ['$owner.Id', 0]},\n",
    "        }},\n",
    "\n",
    "        {'$group':{\n",
    "            '_id':'$userid',\n",
    "            'AllTags': { '$addToSet': \"$Tags\" }\n",
    "        }}\n",
    "]\n",
    ")\n",
    "\n",
    "user_tags_lst= list(user_tags)\n",
    "user_tags_lst"
   ]
  },
  {
   "cell_type": "markdown",
   "id": "ae4f8f80",
   "metadata": {
    "id": "poeXtntpTCTi"
   },
   "source": [
    "### Ejemplo 2: Asociación Tags con usuarios\n",
    "\n",
    "Ahora, dado un ID de tag, qué usuarios han hecho preguntas de ese tag.\n",
    "\n",
    "*De nuevo limitamos la búsqueda a 50 documentos*"
   ]
  },
  {
   "cell_type": "code",
   "execution_count": null,
   "id": "fb2cccdc",
   "metadata": {
    "id": "UYCKqL1cTBAp"
   },
   "outputs": [],
   "source": [
    "tags_users= db.posts.aggregate( [\n",
    "        { \"$match\" : {\"PostTypeId\": 1}},\n",
    "\n",
    "        {\"$limit\": 50},\n",
    "\n",
    "        { '$lookup': {\n",
    "            'from': \"users\",\n",
    "            'localField': \"OwnerUserId\",\n",
    "            'foreignField': \"Id\",\n",
    "            'as': \"owner\"\n",
    "          }\n",
    "        },\n",
    "\n",
    "        {'$project':{\n",
    "            'Tags': True,\n",
    "            'userid' : {'$arrayElemAt' : ['$owner.Id', 0]},\n",
    "        }},\n",
    "\n",
    "        {'$group':{\n",
    "            '_id':'$Tags',\n",
    "            'AllUsers': { '$addToSet': \"$userid\" }\n",
    "        }}\n",
    "]\n",
    ")\n",
    "\n",
    "tags_users_lst= list(tags_users)\n",
    "tags_users_lst"
   ]
  },
  {
   "cell_type": "markdown",
   "id": "1643792b",
   "metadata": {
    "id": "9i4Qn8dK-7LZ"
   },
   "source": [
    "## Ejercicios"
   ]
  },
  {
   "cell_type": "markdown",
   "id": "f2671ff4",
   "metadata": {
    "id": "AyraSfLVSyAV"
   },
   "source": [
    "### EJ1: Obtener un una colección de documentos *verbosos* en donde se indique el texto `Body` de una pregunta así como el nombre del usuario que la formuló (`DisplayName`)"
   ]
  },
  {
   "cell_type": "markdown",
   "id": "ba889f78",
   "metadata": {
    "id": "B6gJBt55Toc8"
   },
   "source": [
    "### EJ2: Obtener las respuestas escritas en el mes de Enero de 2022 con un `Score` superior a 3"
   ]
  },
  {
   "cell_type": "code",
   "execution_count": null,
   "id": "e2a30406",
   "metadata": {
    "id": "Tk60YlYeYspQ"
   },
   "outputs": [],
   "source": [
    "print(\"Eso es todo amigos!\")"
   ]
  }
 ],
 "metadata": {
  "colab": {
   "provenance": []
  },
  "kernelspec": {
   "display_name": "Python 3 (ipykernel)",
   "language": "python",
   "name": "python3"
  },
  "language_info": {
   "codemirror_mode": {
    "name": "ipython",
    "version": 3
   },
   "file_extension": ".py",
   "mimetype": "text/x-python",
   "name": "python",
   "nbconvert_exporter": "python",
   "pygments_lexer": "ipython3",
   "version": "3.11.6"
  }
 },
 "nbformat": 4,
 "nbformat_minor": 5
}
