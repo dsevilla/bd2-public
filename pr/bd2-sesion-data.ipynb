{
 "cells": [
  {
   "cell_type": "markdown",
   "metadata": {
    "id": "yULxkMKuIWqZ"
   },
   "source": [
    "# BDII -- Sesión 1 -- Procesado inicial de datos"
   ]
  },
  {
   "cell_type": "markdown",
   "metadata": {
    "id": "NVBsiBj1IWqc"
   },
   "source": [
    "Esta hoja muestra cómo procesar o curar un conjunto de datos para hacerlos más accesibles a la hora de introducirlos en bases de datos. Utilizaremos un conjunto de datos existente en Internet, que se descargará, se procesará y se convertirá en un formato universal como CSV o JSON. En particular se trabajará:\n",
    "\n",
    "- La descarga de los datos\n",
    "- Inspección, identificación del formato y posible procesado\n",
    "- Generación de un formato fácilmente digerible por las BBDD, como CSV o JSON"
   ]
  },
  {
   "cell_type": "markdown",
   "metadata": {
    "id": "DvNUhF8qIWqe"
   },
   "source": [
    "Comenzaremos instalando los paquetes necesarios:"
   ]
  },
  {
   "cell_type": "code",
   "execution_count": null,
   "metadata": {
    "id": "c3CXfty1iRum"
   },
   "outputs": [],
   "source": [
    "!sudo apt-get update -qq"
   ]
  },
  {
   "cell_type": "code",
   "execution_count": null,
   "metadata": {
    "id": "Xcy7h029JBPQ"
   },
   "outputs": [],
   "source": [
    "!sudo apt-get install -y git p7zip"
   ]
  },
  {
   "cell_type": "markdown",
   "metadata": {
    "id": "xIaSaxvCLdlZ"
   },
   "source": [
    "Importamos algunos paquetes estándar para la hoja"
   ]
  },
  {
   "cell_type": "code",
   "execution_count": null,
   "metadata": {
    "id": "F3UMoNLIIWq1"
   },
   "outputs": [],
   "source": [
    "import pandas as pd\n",
    "import matplotlib.pyplot as plt\n",
    "import matplotlib\n",
    "\n",
    "%matplotlib inline\n",
    "matplotlib.style.use('ggplot')"
   ]
  },
  {
   "cell_type": "code",
   "execution_count": null,
   "metadata": {
    "id": "rsST-J-3jCTA"
   },
   "outputs": [],
   "source": [
    "RunningInCOLAB = 'google.colab' in str(get_ipython()) if hasattr(__builtins__,'__IPYTHON__') else False"
   ]
  },
  {
   "cell_type": "markdown",
   "metadata": {
    "id": "avrO25-tLdle"
   },
   "source": [
    "## Datos de Stackoverflow"
   ]
  },
  {
   "cell_type": "markdown",
   "metadata": {
    "id": "AmXZUR4ELdli"
   },
   "source": [
    "## Descarga de los datos"
   ]
  },
  {
   "cell_type": "markdown",
   "metadata": {
    "id": "RpKnz-A3Ldlj"
   },
   "source": [
    "En este caso los datos están disponibles en un repositorio git. Se pueden descargar también de la Web, pero se van actualizando. En este caso los descargamos del repositorio git para que todos tengáis los mismos."
   ]
  },
  {
   "cell_type": "code",
   "execution_count": null,
   "metadata": {},
   "outputs": [],
   "source": [
    "!wget https://github.com/dsevilla/bd2-data/raw/main/es.stackoverflow/es.stackoverflow.7z.001\n",
    "!wget https://github.com/dsevilla/bd2-data/raw/main/es.stackoverflow/es.stackoverflow.7z.002\n",
    "!wget https://github.com/dsevilla/bd2-data/raw/main/es.stackoverflow/es.stackoverflow.7z.003"
   ]
  },
  {
   "cell_type": "code",
   "execution_count": null,
   "metadata": {
    "id": "-B_iv7gOLdlm",
    "scrolled": true
   },
   "outputs": [],
   "source": [
    "!ls -l"
   ]
  },
  {
   "cell_type": "code",
   "execution_count": null,
   "metadata": {
    "id": "k4aRLjuTLdl4"
   },
   "outputs": [],
   "source": [
    "!7zr x es.stackoverflow.7z.001"
   ]
  },
  {
   "cell_type": "code",
   "execution_count": null,
   "metadata": {
    "id": "nOUYfUvQLdl5"
   },
   "outputs": [],
   "source": [
    "!ls -l"
   ]
  },
  {
   "cell_type": "markdown",
   "metadata": {
    "id": "DT_AMyRxPzs5"
   },
   "source": [
    "## Inspección y procesado"
   ]
  },
  {
   "cell_type": "markdown",
   "metadata": {
    "id": "WCWdECvlQoG4"
   },
   "source": [
    "Podemos inspeccionar los ficheros `.xml` para ver su contenido. Son XML, sí, pero ¿con qué formato?"
   ]
  },
  {
   "cell_type": "code",
   "execution_count": null,
   "metadata": {
    "id": "YTb3J-jtQwMD"
   },
   "outputs": [],
   "source": [
    "!head Posts.xml"
   ]
  },
  {
   "cell_type": "markdown",
   "metadata": {
    "id": "PIKskRYjRd6F"
   },
   "source": [
    "Aunque se puede procesar el formato XML, lo que podemos ver es que cada entrada es exactamente una línea que comienza por `<row`, y que contiene un conjunto de atributos en formato `atributo=\"valor\"`. Si lo comprobamos, incluso no existirá ninguna comilla doble **dentro** de otra comilla doble, así que podemos extraer esos pares de forma facil."
   ]
  },
  {
   "cell_type": "code",
   "execution_count": null,
   "metadata": {
    "id": "mWAk2JCeTswM"
   },
   "outputs": [],
   "source": [
    "import re\n",
    "\n",
    "def process_file(fname):\n",
    "  with open(fname, \"r\") as f:\n",
    "    for line in f:\n",
    "      if \"<row\" in line:\n",
    "        attr_dict = {}\n",
    "        (_,attrs) = line.split(\"<row \",2)\n",
    "        for m in re.finditer(r\"(\\w*?)=\\\"(.*?)\\\"\", attrs):\n",
    "          attr_dict[m.group(1)] = m.group(2)\n",
    "        yield attr_dict"
   ]
  },
  {
   "cell_type": "code",
   "execution_count": null,
   "metadata": {
    "id": "i8HTRYP_gJrU"
   },
   "outputs": [],
   "source": [
    "first_row = next(process_file(\"Posts.xml\"))"
   ]
  },
  {
   "cell_type": "code",
   "execution_count": null,
   "metadata": {
    "id": "FAgzvrRa6fpO"
   },
   "outputs": [],
   "source": [
    "first_row.keys()"
   ]
  },
  {
   "cell_type": "markdown",
   "metadata": {
    "id": "-FawjWDD5twt"
   },
   "source": [
    "Hay que extraer el conjunto de atributos para saber qué columnas tendrá nuestra tabla/CSV o archivo JSON. Recuérdese que las dos primeras filas del archivo XML tenían diferentes atributos. ¿Cómo se haría esto?"
   ]
  },
  {
   "cell_type": "code",
   "execution_count": null,
   "metadata": {
    "id": "GdRO-j5E6Tr7"
   },
   "outputs": [],
   "source": [
    "def get_all_attrs(iterator):\n",
    "  all_attrs = set()\n",
    "  for row in iterator:\n",
    "    all_attrs.update(row.keys())\n",
    "  return all_attrs\n",
    "\n",
    "all_attrs = get_all_attrs(process_file(\"Posts.xml\"))"
   ]
  },
  {
   "cell_type": "markdown",
   "metadata": {
    "id": "tBDZnk5CLY42"
   },
   "source": [
    "Como sabemos que el atributo `Id` va a ser la clave primaria, lo ponemos al principio. Además, generamos una lista, uno un conjunto, para que el orden sea conocido."
   ]
  },
  {
   "cell_type": "code",
   "execution_count": null,
   "metadata": {
    "id": "P5sHeBZs6W03"
   },
   "outputs": [],
   "source": [
    "all_attrs.remove('Id')\n",
    "all_attrs = list(all_attrs)\n",
    "all_attrs.insert(0,'Id')\n",
    "all_attrs"
   ]
  },
  {
   "cell_type": "markdown",
   "metadata": {
    "id": "PwI1EwAGNIBl"
   },
   "source": [
    "## Escritura del formato CSV"
   ]
  },
  {
   "cell_type": "markdown",
   "metadata": {
    "id": "397wlUELTA2n"
   },
   "source": [
    "El formato CSV está especificado en el estándar RFC 4180. https://www.ietf.org/rfc/rfc4180.txt. En general se puede utilizar la biblioteca `csv` de Python 3 y vamos a exportar una línea de cabecera con todos los campos. https://docs.python.org/3/library/csv.html.\n",
    "\n",
    "Tendremos en cuenta que todas las filas tienen que tener las mismas columnas y en el mismo orden dado por `all_attrs`."
   ]
  },
  {
   "cell_type": "code",
   "execution_count": null,
   "metadata": {
    "id": "FxYvaSWUMlxL"
   },
   "outputs": [],
   "source": [
    "import csv\n",
    "\n",
    "def write_csv(destfile, all_attrs, iterator):\n",
    "  with open(destfile, 'w') as wf:\n",
    "    cw = csv.writer(wf)\n",
    "\n",
    "    # Escribir la línea de cabecera\n",
    "    cw.writerow(all_attrs)\n",
    "\n",
    "    # Recorrer el iterador\n",
    "    for row in iterator:\n",
    "      cw.writerow(map(lambda att: row.get(att) or '', all_attrs))"
   ]
  },
  {
   "cell_type": "code",
   "execution_count": null,
   "metadata": {
    "id": "U81Z3NJ8Xp9H"
   },
   "outputs": [],
   "source": [
    "write_csv('Posts.csv', all_attrs, process_file('Posts.xml'))"
   ]
  },
  {
   "cell_type": "code",
   "execution_count": null,
   "metadata": {
    "id": "OAK6raymXv1l"
   },
   "outputs": [],
   "source": [
    "!head Posts.csv"
   ]
  },
  {
   "cell_type": "markdown",
   "metadata": {
    "id": "sjUZekvLV3cC"
   },
   "source": [
    "## Conversión hacia JSON"
   ]
  },
  {
   "cell_type": "markdown",
   "metadata": {
    "id": "210crSGrV7vU"
   },
   "source": [
    "https://www.json.org/json-en.html"
   ]
  },
  {
   "cell_type": "code",
   "execution_count": null,
   "metadata": {
    "id": "gjF5rNC2e68h"
   },
   "outputs": [],
   "source": [
    "import json\n",
    "\n",
    "def csv_to_json(fname_csv, fname_json, pk):\n",
    "    data_dict = {}\n",
    "\n",
    "    with open(fname_csv, \"r\") as f_csv:\n",
    "        csv_reader = csv.DictReader(f_csv)\n",
    "\n",
    "        for rows in csv_reader:\n",
    "            key = rows[pk]\n",
    "            data_dict[key] = rows\n",
    "\n",
    "    with open(fname_json, 'w') as f_json:\n",
    "        f_json.write(json.dumps(data_dict, indent = 4))"
   ]
  },
  {
   "cell_type": "code",
   "execution_count": null,
   "metadata": {
    "id": "evSVXVNRAH4h"
   },
   "outputs": [],
   "source": [
    "fname_csv = 'Posts.csv'\n",
    "fname_json = 'Posts.json'\n",
    "\n",
    "csv_to_json(fname_csv, fname_json, 'Id')"
   ]
  },
  {
   "cell_type": "code",
   "execution_count": null,
   "metadata": {
    "id": "VY2wnvOwAihf"
   },
   "outputs": [],
   "source": [
    "!head Posts.json"
   ]
  },
  {
   "cell_type": "markdown",
   "metadata": {
    "id": "uVMEPMKVIjwd"
   },
   "source": [
    "Si nos damos cuenta, tenemos el problema de que el valor Id está por duplicado.\n",
    "\n",
    "Vamos a ver como eliminar columnas que no queramos tener."
   ]
  },
  {
   "cell_type": "code",
   "execution_count": null,
   "metadata": {
    "id": "-DHnaiaeDq3B"
   },
   "outputs": [],
   "source": [
    "def csv_to_json2(fname_csv, fname_json, pk):\n",
    "    data_dict = {}\n",
    "\n",
    "    with open(fname_csv, \"r\") as f_csv:\n",
    "        csv_reader = csv.DictReader(f_csv)\n",
    "\n",
    "        for rows in csv_reader:\n",
    "            key = rows[pk]\n",
    "\n",
    "            # Borramos los campos que nos interesen.\n",
    "            del rows[pk]\n",
    "\n",
    "            data_dict[key] = rows\n",
    "\n",
    "    with open(fname_json, 'w') as f_json:\n",
    "        f_json.write(json.dumps(data_dict, indent = 4))"
   ]
  },
  {
   "cell_type": "code",
   "execution_count": null,
   "metadata": {
    "id": "0pBXBaVxDyfk"
   },
   "outputs": [],
   "source": [
    "fname_csv = 'Posts.csv'\n",
    "fname_json = 'Posts2.json'\n",
    "\n",
    "csv_to_json2(fname_csv, fname_json, 'Id')"
   ]
  },
  {
   "cell_type": "code",
   "execution_count": null,
   "metadata": {
    "id": "h1D7hKFCD2nn"
   },
   "outputs": [],
   "source": [
    "!head -n 100 Posts2.json"
   ]
  },
  {
   "cell_type": "markdown",
   "metadata": {
    "id": "bbsLc5dVFDKK"
   },
   "source": [
    "Al escribir en formato JSON se nos queda un fichero compacto que no podemos dividir."
   ]
  },
  {
   "cell_type": "markdown",
   "metadata": {
    "id": "P2ZC7QteFRtI"
   },
   "source": [
    "## JSON Lines"
   ]
  },
  {
   "cell_type": "markdown",
   "metadata": {
    "id": "YzxiUCJkFTL7"
   },
   "source": [
    "\n",
    "\n",
    "https://jsonlines.org/\n"
   ]
  },
  {
   "cell_type": "code",
   "execution_count": null,
   "metadata": {
    "id": "CQpiJSUJFXKW"
   },
   "outputs": [],
   "source": [
    "def csv_to_jsonl(fname_csv, fname_jsonl):\n",
    "    with open(fname_csv, 'r') as f_csv:\n",
    "        csv_reader = csv.DictReader(f_csv)\n",
    "\n",
    "        with open(fname_jsonl, 'w') as f_jsonl:\n",
    "            for row in csv_reader:\n",
    "                json_line = json.dumps(row)\n",
    "                f_jsonl.write(json_line + '\\n')"
   ]
  },
  {
   "cell_type": "code",
   "execution_count": null,
   "metadata": {
    "id": "2r2jtQoIJKcy"
   },
   "outputs": [],
   "source": [
    "csv_to_jsonl('Posts.csv', 'Posts.jsonl')"
   ]
  },
  {
   "cell_type": "code",
   "execution_count": null,
   "metadata": {
    "id": "lsPl8iCIJlRN"
   },
   "outputs": [],
   "source": [
    "!head Posts.jsonl"
   ]
  }
 ],
 "metadata": {
  "colab": {
   "provenance": []
  },
  "kernelspec": {
   "display_name": "Python 3 (ipykernel)",
   "language": "python",
   "name": "python3"
  },
  "language_info": {
   "codemirror_mode": {
    "name": "ipython",
    "version": 3
   },
   "file_extension": ".py",
   "mimetype": "text/x-python",
   "name": "python",
   "nbconvert_exporter": "python",
   "pygments_lexer": "ipython3",
   "version": "3.11.6"
  }
 },
 "nbformat": 4,
 "nbformat_minor": 4
}
