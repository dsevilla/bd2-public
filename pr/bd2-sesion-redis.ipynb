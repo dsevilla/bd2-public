{
 "cells": [
  {
   "cell_type": "markdown",
   "id": "69f69b2d",
   "metadata": {
    "id": "2vz3YRv5skaQ"
   },
   "source": [
    "# BD II -- Sesión Redis\n",
    "\n",
    "![redis svg image](data:image/svg+xml,%3Csvg%20xmlns%3D%22http%3A//www.w3.org/2000/svg%22%20xmlns%3Axlink%3D%22http%3A//www.w3.org/1999/xlink%22%20viewBox%3D%220%200%20368.69%20125.59%22%20class%3D%22w-auto%20h-8%22%3E%20%3Cdefs%3E%20%3Cstyle%3E%20.cls-1%20%7B%20fill%3A%20none%3B%20%7D%20.cls-2%20%7B%20clip-path%3A%20url%28%23clip-path%29%3B%20%7D%20.cls-3%20%7B%20fill%3A%20%23a32422%3B%20%7D%20.cls-4%20%7B%20fill%3A%20%23dc382c%3B%20%7D%20.cls-5%20%7B%20fill%3A%20%23fff%3B%20%7D%20.cls-6%20%7B%20fill%3A%20%23741113%3B%20%7D%20.cls-7%20%7B%20fill%3A%20%23ac2724%3B%20%7D%20%3C/style%3E%20%3CclipPath%20id%3D%22clip-path%22%20transform%3D%22translate%280.01%200.01%29%22%3E%20%3Crect%20class%3D%22cls-1%22%20width%3D%22146.42%22%20height%3D%22125.48%22%3E%3C/rect%3E%20%3C/clipPath%3E%20%3C/defs%3E%20%3Cg%20id%3D%22Layer_2%22%20data-name%3D%22Layer%202%22%3E%20%3Cg%20id%3D%22Layer_1-2%22%20data-name%3D%22Layer%201%22%3E%20%3Cg%20class%3D%22cls-2%22%3E%20%3Cpath%20class%3D%22cls-3%22%20d%3D%22M140.66%2C96.74c-7.8%2C4.08-48.28%2C20.73-57%2C25.3s-13.39%2C4.44-20.21%2C1.18S13.7%2C102.5%2C5.92%2C98.78C2%2C96.94%2C0%2C95.37%2C0%2C93.9V79.09S56.08%2C66.92%2C65.13%2C63.64%2C77.31%2C60.28%2C85%2C63.1%2C138.79%2C74.24%2C146.4%2C77V91.6c0%2C1.52-1.75%2C3-5.74%2C5.13Z%22%20transform%3D%22translate%280.01%200.01%29%22%3E%3C/path%3E%20%3Cpath%20class%3D%22cls-4%22%20d%3D%22M140.66%2C82c-7.8%2C4.06-48.28%2C20.71-57%2C25.2s-13.39%2C4.45-20.21%2C1.2S13.7%2C87.69%2C5.92%2C84s-7.93-6.27-.3-9.25S56.08%2C55%2C65.13%2C51.7%2C77.31%2C48.33%2C85%2C51.16%2C133%2C70%2C140.57%2C72.79s7.92%2C5.08.09%2C9.13Z%22%20transform%3D%22translate%280.01%200.01%29%22%3E%3C/path%3E%20%3Cpath%20class%3D%22cls-3%22%20d%3D%22M140.66%2C72.62c-7.8%2C4.07-48.28%2C20.71-57%2C25.2S70.31%2C102.27%2C63.49%2C99%2C13.7%2C78.37%2C5.92%2C74.66C2%2C72.8%2C0%2C71.24%2C0%2C69.76V55S56.08%2C42.79%2C65.13%2C39.51%2C77.31%2C36.14%2C85%2C39%2C138.79%2C50.1%2C146.4%2C52.88v14.6C146.4%2C69%2C144.65%2C70.52%2C140.66%2C72.62Z%22%20transform%3D%22translate%280.01%200.01%29%22%3E%3C/path%3E%20%3Cpath%20class%3D%22cls-4%22%20d%3D%22M140.66%2C57.81c-7.8%2C4.08-48.28%2C20.72-57%2C25.21s-13.39%2C4.46-20.21%2C1.2S13.7%2C63.57%2C5.92%2C59.85-2%2C53.6%2C5.62%2C50.62s50.46-19.79%2C59.51-23S77.31%2C24.21%2C85%2C27%2C133%2C45.94%2C140.57%2C48.65s7.92%2C5.09.09%2C9.13Z%22%20transform%3D%22translate%280.01%200.01%29%22%3E%3C/path%3E%20%3Cpath%20class%3D%22cls-3%22%20d%3D%22M140.66%2C47.59c-7.8%2C4.08-48.28%2C20.73-57%2C25.21S70.31%2C77.25%2C63.49%2C74%2C13.7%2C53.34%2C5.92%2C49.63C2%2C47.79%2C0%2C46.22%2C0%2C44.74V29.93S56.08%2C17.76%2C65.13%2C14.49%2C77.31%2C11.12%2C85%2C13.94s53.77%2C11.14%2C61.38%2C13.92v14.6C146.4%2C44%2C144.65%2C45.5%2C140.66%2C47.59Z%22%20transform%3D%22translate%280.01%200.01%29%22%3E%3C/path%3E%20%3Cpath%20class%3D%22cls-4%22%20d%3D%22M140.66%2C32.8c-7.8%2C4-48.28%2C20.75-57%2C25.2s-13.39%2C4.44-20.21%2C1.2S13.7%2C38.53%2C5.92%2C34.83s-7.93-6.27-.3-9.25S56.08%2C5.8%2C65.13%2C2.54%2C77.31-.82%2C85%2C2%2C133%2C20.85%2C140.57%2C23.63s7.92%2C5.09.09%2C9.14Z%22%20transform%3D%22translate%280.01%200.01%29%22%3E%3C/path%3E%20%3C/g%3E%20%3Cpolygon%20class%3D%22cls-5%22%20points%3D%2275.51%2011.78%2085.17%208.61%2082.55%2014.87%2092.38%2018.55%2079.71%2019.87%2076.86%2026.71%2072.28%2019.08%2057.63%2017.76%2068.57%2013.82%2065.28%207.76%2075.51%2011.78%2075.51%2011.78%2075.51%2011.78%22%3E%3C/polygon%3E%20%3Cpolygon%20class%3D%22cls-5%22%20points%3D%2276.12%2051.71%2052.44%2041.88%2086.36%2036.67%2076.12%2051.71%2076.12%2051.71%2076.12%2051.71%22%3E%3C/polygon%3E%20%3Cpath%20class%3D%22cls-5%22%20d%3D%22M43.28%2C22.34c10%2C0%2C18.13%2C3.15%2C18.13%2C7s-8.15%2C7-18.13%2C7-18.14-3.15-18.14-7S33.27%2C22.34%2C43.28%2C22.34Z%22%20transform%3D%22translate%280.01%200.01%29%22%3E%3C/path%3E%20%3Cpolygon%20class%3D%22cls-6%22%20points%3D%22107.39%2020.42%20127.46%2028.35%20107.41%2036.28%20107.39%2020.42%20107.39%2020.42%20107.39%2020.42%22%3E%3C/polygon%3E%20%3Cpolygon%20class%3D%22cls-7%22%20points%3D%22107.39%2020.42%20107.41%2036.28%20105.23%2037.13%2085.17%2029.2%20107.39%2020.42%20107.39%2020.42%20107.39%2020.42%22%3E%3C/polygon%3E%20%3Cpath%20class%3D%22cls-5%22%20d%3D%22M193%2C41.4a17.36%2C17.36%2C0%2C0%2C1%2C6.23-4.34%2C20%2C20%2C0%2C0%2C1%2C7.3-1.61%2C6.71%2C6.71%2C0%2C0%2C1%2C5%2C1.61%2C5%2C5%2C0%2C0%2C1%2C1.52%2C3.79%2C5.39%2C5.39%2C0%2C0%2C1-1.52%2C3.79%2C4.9%2C4.9%2C0%2C0%2C1-3.79%2C1.63c-6.24.55-14.9%2C6.77-14.9%2C15.22V80.67a5.57%2C5.57%2C0%2C0%2C1-5.42%2C5.41%2C4.92%2C4.92%2C0%2C0%2C1-3.87-1.67%2C5.36%2C5.36%2C0%2C0%2C1-1.62-3.79v-40a5.35%2C5.35%2C0%2C0%2C1%2C1.62-3.79%2C7.2%2C7.2%2C0%2C0%2C1%2C4.07-1.36%2C5.52%2C5.52%2C0%2C0%2C1%2C5.41%2C5.4Z%22%20transform%3D%22translate%280.01%200.01%29%22%3E%3C/path%3E%20%3Cpath%20class%3D%22cls-5%22%20d%3D%22M258.71%2C59a5.25%2C5.25%2C0%2C0%2C1-1.35%2C3.54%2C6.11%2C6.11%2C0%2C0%2C1-3.79%2C1.62h-32a10.31%2C10.31%2C0%2C0%2C0%2C3.47%2C6.56%2C14.46%2C14.46%2C0%2C0%2C0%2C9.48%2C4.57%2C14.07%2C14.07%2C0%2C0%2C0%2C10.56-2.44%2C5.52%2C5.52%2C0%2C0%2C1%2C4.07-1.63%2C4.65%2C4.65%2C0%2C0%2C1%2C3.51%2C1.36%2C4.41%2C4.41%2C0%2C0%2C1%2C.26%2C6.24c-.08.09-.17.17-.26.26a24.49%2C24.49%2C0%2C0%2C1-17.59%2C6.5A23%2C23%2C0%2C0%2C1%2C217.5%2C78a26.67%2C26.67%2C0%2C0%2C1-7.3-17.9%2C24.31%2C24.31%2C0%2C0%2C1%2C7.3-17.88%2C22.59%2C22.59%2C0%2C0%2C1%2C17.06-7.31%2C22%2C22%2C0%2C0%2C1%2C16.74%2C6.78%2C24.78%2C24.78%2C0%2C0%2C1%2C7.61%2C16.74v.53Zm-24.1-14.35a14.2%2C14.2%2C0%2C0%2C0-9.13%2C3.53%2C13.17%2C13.17%2C0%2C0%2C0-4.33%2C7h28.43a12.39%2C12.39%2C0%2C0%2C0-4.88-6.76%2C17.3%2C17.3%2C0%2C0%2C0-10-3.81%22%20transform%3D%22translate%280.01%200.01%29%22%3E%3C/path%3E%20%3Cpath%20class%3D%22cls-5%22%20d%3D%22M309.66%2C80.12a5.57%2C5.57%2C0%2C0%2C1-5.41%2C5.42%2C5.85%2C5.85%2C0%2C0%2C1-5.42-4.34A23.23%2C23.23%2C0%2C0%2C1%2C285%2C85.54a23.57%2C23.57%2C0%2C0%2C1-17.33-7.31%2C24.14%2C24.14%2C0%2C0%2C1-7.05-17.88%2C25.75%2C25.75%2C0%2C0%2C1%2C7.05-17.87A23.85%2C23.85%2C0%2C0%2C1%2C285%2C34.87a22.34%2C22.34%2C0%2C0%2C1%2C13.53%2C4.34V20.28a4.92%2C4.92%2C0%2C0%2C1%2C1.63-3.79A5.37%2C5.37%2C0%2C0%2C1%2C304%2C14.86a4.92%2C4.92%2C0%2C0%2C1%2C3.79%2C1.63%2C5.36%2C5.36%2C0%2C0%2C1%2C1.63%2C3.79V80.12ZM285.31%2C74.7a12%2C12%2C0%2C0%2C0%2C9.47-4.32%2C14.4%2C14.4%2C0%2C0%2C0%2C0-20A13%2C13%2C0%2C0%2C0%2C285.31%2C46a11.65%2C11.65%2C0%2C0%2C0-9.48%2C4.34%2C14.4%2C14.4%2C0%2C0%2C0%2C0%2C20%2C12.49%2C12.49%2C0%2C0%2C0%2C9.48%2C4.32%22%20transform%3D%22translate%280.01%200.01%29%22%3E%3C/path%3E%20%3Cpath%20class%3D%22cls-5%22%20d%3D%22M325.67%2C20.28v2.18A5.5%2C5.5%2C0%2C0%2C1%2C324%2C26.58a4.64%2C4.64%2C0%2C0%2C1-3.79%2C1.35%2C4.86%2C4.86%2C0%2C0%2C1-3.78-1.61%2C5.44%2C5.44%2C0%2C0%2C1-1.63-4.06v-2a5.28%2C5.28%2C0%2C0%2C1%2C1.63-3.79%2C5.33%2C5.33%2C0%2C0%2C1%2C3.78-1.63A5%2C5%2C0%2C0%2C1%2C324%2C16.49a4.9%2C4.9%2C0%2C0%2C1%2C1.66%2C3.79m-9.13%2C16.53a5.28%2C5.28%2C0%2C0%2C1%2C3.79-1.63%2C4.85%2C4.85%2C0%2C0%2C1%2C3.79%2C1.63%2C5.48%2C5.48%2C0%2C0%2C1%2C1.55%2C4V80.42A4.55%2C4.55%2C0%2C0%2C1%2C324%2C84.21a5.33%2C5.33%2C0%2C0%2C1-3.78%2C1.63%2C4.9%2C4.9%2C0%2C0%2C1-3.79-1.63%2C5.28%2C5.28%2C0%2C0%2C1-1.63-3.79V40.85a5.39%2C5.39%2C0%2C0%2C1%2C1.63-4%22%20transform%3D%22translate%280.01%200.01%29%22%3E%3C/path%3E%20%3Cpath%20class%3D%22cls-5%22%20d%3D%22M364.08%2C40.6a5.29%2C5.29%2C0%2C0%2C1%2C2.17%2C3.24%2C7.17%2C7.17%2C0%2C0%2C1-.54%2C4.06%2C5.4%2C5.4%2C0%2C0%2C1-3.25%2C2.16%2C5.61%2C5.61%2C0%2C0%2C1-4.07-.81c-3.79-2.43-6.75-3.78-9.2-3.78a8.74%2C8.74%2C0%2C0%2C0-6%2C1.88c-1.08.82-1.62%2C1.36-1.62%2C1.9a2%2C2%2C0%2C0%2C0%2C.27%2C1.36%2C3.74%2C3.74%2C0%2C0%2C0%2C1.08.81%2C16.19%2C16.19%2C0%2C0%2C0%2C7.32%2C2.43h0a37.75%2C37.75%2C0%2C0%2C1%2C9.74%2C3%2C13.57%2C13.57%2C0%2C0%2C1%2C6.5%2C5.7%2C13.46%2C13.46%2C0%2C0%2C1-4.06%2C18.67%2C21.79%2C21.79%2C0%2C0%2C1-13%2C4.06c-6.23%2C0-12.18-2.43-17.87-7a5.77%2C5.77%2C0%2C0%2C1-1.9-3.53%2C5.2%2C5.2%2C0%2C0%2C1%2C8.4-4.56%2C15.73%2C15.73%2C0%2C0%2C0%2C11.1%2C4.33%2C11.61%2C11.61%2C0%2C0%2C0%2C6.77-1.9c1.08-1.08%2C1.9-1.89%2C1.9-2.71s0-1.08-.27-1.35c0-.28-.55-.81-1.36-1.08a20.15%2C20.15%2C0%2C0%2C0-8.13-2.86h0a28.26%2C28.26%2C0%2C0%2C1-9.2-3%2C16.56%2C16.56%2C0%2C0%2C1-6.5-5.67%2C12.61%2C12.61%2C0%2C0%2C1-1.61-6.23%2C13.3%2C13.3%2C0%2C0%2C1%2C5.95-11.11%2C21.82%2C21.82%2C0%2C0%2C1%2C12.45-3.79c4.56.28%2C9.48%2C2.16%2C14.89%2C5.69%22%20transform%3D%22translate%280.01%200.01%29%22%3E%3C/path%3E%20%3C/g%3E%20%3C/g%3E%20%3C/svg%3E)\n",
    "\n",
    "En este notebook trabajaremos con la BBDD *Redis* mediante el cliente Python _redis-py_. En particular se trabajará:\n",
    "* El acceso y modificacion de claves individuales\n",
    "* El uso de mecanismos de transaccion y pipelines\n",
    "\n"
   ]
  },
  {
   "cell_type": "markdown",
   "id": "9f78cc5b",
   "metadata": {
    "id": "BAxszr5YLetv"
   },
   "source": [
    "# Contenido\n",
    "1. [Instalacion de Redis](#instalacion)\n",
    "2. [Primeros pasos](#primerospasos)\n",
    "3. [Operaciones CRUD](#crud)\n",
    "4. [Transacciones](#transacciones)\n",
    "5. [Tiempo de vida de la claves](\"#ttl\")\n",
    "6. [Persistencia y snapshots](\"#snapshots\")\n",
    "7. [Encriptación](\"#encriptacion\")\n",
    "8. [Compresión](\"#compresion\")\n",
    "9. [Mecanismo de Publicación/Suscripción](\"#pubsubs\")\n",
    "10. [Caso de uso](#casodeuso)\n",
    "\n",
    "\n"
   ]
  },
  {
   "cell_type": "markdown",
   "id": "ff02df0c",
   "metadata": {
    "id": "9sinhDws-3YC"
   },
   "source": [
    "## Documentación\n",
    "* [Página oficial de Redis](https://redis.io/docs/connect/cli/).\n",
    "* [API de `Redis-py`](https://redis-py.readthedocs.io/en/stable/commands.html#)"
   ]
  },
  {
   "cell_type": "markdown",
   "id": "9e32e4fe",
   "metadata": {
    "id": "h_EGuSybGi_X"
   },
   "source": [
    "-------------------------------------------"
   ]
  },
  {
   "cell_type": "markdown",
   "id": "2ff4b31b",
   "metadata": {
    "id": "7YCgSTJJLl3o"
   },
   "source": [
    "## 1. Instalacion de Redis <a name=\"introduction\"></a>"
   ]
  },
  {
   "cell_type": "markdown",
   "id": "274a5a0a",
   "metadata": {
    "id": "uNHe-MzfuDBi"
   },
   "source": [
    "En primer lugar vamos a instalar la base de datos Redis en nuestro entorno notebook."
   ]
  },
  {
   "cell_type": "code",
   "execution_count": null,
   "id": "edaac276",
   "metadata": {
    "id": "YB9QQsD6oNM_",
    "scrolled": true
   },
   "outputs": [],
   "source": [
    "!sudo apt-get update -qq\n",
    "!sudo apt install -qq -y lsb-release curl gpg\n",
    "!curl -fsSL https://packages.redis.io/gpg | sudo gpg --dearmor -o /usr/share/keyrings/redis-archive-keyring.gpg\n",
    "!echo \"deb [signed-by=/usr/share/keyrings/redis-archive-keyring.gpg] https://packages.redis.io/deb $(lsb_release -cs) main\" | sudo tee /etc/apt/sources.list.d/redis.list\n",
    "!sudo apt-get install -q -y redis"
   ]
  },
  {
   "cell_type": "markdown",
   "id": "ac380193",
   "metadata": {
    "id": "d88-Nvn8Exqf"
   },
   "source": [
    "Lanzamos ahora Redis.\n",
    "\n",
    "Con la opción `--deamonize yes`ejecutamos la BD en segundo plano."
   ]
  },
  {
   "cell_type": "code",
   "execution_count": null,
   "id": "8df5290d",
   "metadata": {
    "id": "NvmDCcjnptAT"
   },
   "outputs": [],
   "source": [
    "!redis-server --daemonize yes"
   ]
  },
  {
   "cell_type": "markdown",
   "id": "1b6a1c5f",
   "metadata": {
    "id": "hbryQwND22T8"
   },
   "source": [
    "Vamos hacer ping al servidor usando la línea de comandos."
   ]
  },
  {
   "cell_type": "code",
   "execution_count": null,
   "id": "e7b55898",
   "metadata": {
    "id": "aV9eU2pIo9uq"
   },
   "outputs": [],
   "source": [
    "!redis-cli ping"
   ]
  },
  {
   "cell_type": "code",
   "execution_count": null,
   "id": "8c3683cc",
   "metadata": {
    "id": "mcC5Su7Wocmy"
   },
   "outputs": [],
   "source": [
    "!pip install redis"
   ]
  },
  {
   "cell_type": "markdown",
   "id": "e5ec2a63",
   "metadata": {
    "id": "7fK_Dm7pHqZu"
   },
   "source": [
    "Comprobamos que tenemos conectividad con la BD."
   ]
  },
  {
   "cell_type": "code",
   "execution_count": null,
   "id": "b5268dd2",
   "metadata": {
    "id": "mp2RpxgqoWAQ"
   },
   "outputs": [],
   "source": [
    "import redis\n",
    "redis_client = redis.Redis(host = 'localhost', port=6379)\n",
    "\n",
    "redis_client.ping()"
   ]
  },
  {
   "cell_type": "markdown",
   "id": "58058eb5",
   "metadata": {
    "id": "loeLBq8mGlM3"
   },
   "source": [
    "-------------------------------------------"
   ]
  },
  {
   "cell_type": "markdown",
   "id": "f5ab6f97",
   "metadata": {
    "id": "YGFhgW54GtSG"
   },
   "source": [
    "## Primeros pasos con Redis <a name=\"primerospasos\"></a>\n",
    "\n"
   ]
  },
  {
   "cell_type": "code",
   "execution_count": null,
   "id": "de5ecf4b",
   "metadata": {
    "id": "nky6SP4cGse7"
   },
   "outputs": [],
   "source": [
    "redis_client.set('key', b'value')\n",
    "data = redis_client.get('key')\n",
    "print(data)"
   ]
  },
  {
   "cell_type": "markdown",
   "id": "223616b4",
   "metadata": {
    "id": "HNz-4_-ZGZLU"
   },
   "source": [
    "-------------------------------------------"
   ]
  },
  {
   "cell_type": "markdown",
   "id": "c5eb38c1",
   "metadata": {
    "id": "8RhpO3LpIX6W"
   },
   "source": [
    "## Tipos de datos fundamentales"
   ]
  },
  {
   "cell_type": "markdown",
   "id": "1d774573",
   "metadata": {
    "id": "b_f6vnHxIfF_"
   },
   "source": [
    "#### Strings"
   ]
  },
  {
   "cell_type": "code",
   "execution_count": null,
   "id": "13e918d9",
   "metadata": {
    "id": "iyIzw8kNIcXk"
   },
   "outputs": [],
   "source": [
    "redis_client.set(\"nombre\", \"Juan\")\n",
    "redis_client.set(\"años\", '15')\n",
    "\n",
    "nombre = redis_client.get(\"nombre\")\n",
    "año = redis_client.get(\"años\")\n",
    "print(nombre)\n",
    "print(año)"
   ]
  },
  {
   "cell_type": "markdown",
   "id": "135886ec",
   "metadata": {
    "id": "rlnkgN9pJDJY"
   },
   "source": [
    "Por defecto, Redis devuelve respuestas de tipo `byte`. Para poder decodificarlas al formato correcto debemos usar el método `.decode()` (por defecto se utiliza el juego de caracteres UTF-8."
   ]
  },
  {
   "cell_type": "code",
   "execution_count": null,
   "id": "d19b1320",
   "metadata": {
    "id": "G8m24UtXIqiC"
   },
   "outputs": [],
   "source": [
    "print(nombre.decode())\n",
    "print(año.decode())"
   ]
  },
  {
   "cell_type": "markdown",
   "id": "48b26aa5",
   "metadata": {
    "id": "vt_VjmVIJfmu"
   },
   "source": [
    "#### Listas"
   ]
  },
  {
   "cell_type": "code",
   "execution_count": null,
   "id": "9b522240",
   "metadata": {
    "id": "qODRR_6tKRJo"
   },
   "outputs": [],
   "source": [
    "redis_client.lpush(\"nums\", 1)\n",
    "redis_client.lpush(\"nums\", 2)\n",
    "redis_client.lpush(\"nums\", 3)\n",
    "\n",
    "numbers = redis_client.lrange(\"nums\", 0, -1)\n",
    "print(numbers)"
   ]
  },
  {
   "cell_type": "markdown",
   "id": "192f4397",
   "metadata": {
    "id": "U225zqS5KVz_"
   },
   "source": [
    "#### Conjuntos"
   ]
  },
  {
   "cell_type": "code",
   "execution_count": null,
   "id": "6b186d8c",
   "metadata": {
    "id": "diGaZrO2IvLJ"
   },
   "outputs": [],
   "source": [
    "redis_client.sadd(\"fruits\", \"apple\")\n",
    "redis_client.sadd(\"fruits\", \"banana\")\n",
    "redis_client.sadd(\"fruits\", \"orange\")\n",
    "\n",
    "fruits = redis_client.smembers(\"fruits\")\n",
    "print(fruits)"
   ]
  },
  {
   "cell_type": "markdown",
   "id": "461e6116",
   "metadata": {
    "id": "74V4x9GyKbyA"
   },
   "source": [
    "#### Hash"
   ]
  },
  {
   "cell_type": "code",
   "execution_count": null,
   "id": "3d4d3742",
   "metadata": {
    "id": "V6neoEpgKZsW"
   },
   "outputs": [],
   "source": [
    "redis_client.hset(\"user:1\", \"name\", \"Alice\")\n",
    "redis_client.hset(\"user:1\", \"age\", 30)\n",
    "\n",
    "user_data = redis_client.hgetall(\"user:1\")\n",
    "print(user_data)"
   ]
  },
  {
   "cell_type": "markdown",
   "id": "e972abb3",
   "metadata": {
    "id": "nIdqZKS3GXVb"
   },
   "source": [
    "-------------------------------------------"
   ]
  },
  {
   "cell_type": "markdown",
   "id": "498d6aac",
   "metadata": {
    "id": "1x26vSbU56qP"
   },
   "source": [
    "### Claves anidadas"
   ]
  },
  {
   "cell_type": "markdown",
   "id": "150af97e",
   "metadata": {
    "id": "JxQp1gx16Heo"
   },
   "source": [
    "Con Redis-py también podemos añadir varias claves a la vez"
   ]
  },
  {
   "cell_type": "code",
   "execution_count": null,
   "id": "5b5bd9f4",
   "metadata": {
    "id": "LlkGZn636Dj4"
   },
   "outputs": [],
   "source": [
    "redis_client.mset({\"Croacia\": \"Zagreb\", \"Bahamas\": \"Nassau\"})\n",
    "redis_client.get(\"Bahamas\")"
   ]
  },
  {
   "cell_type": "markdown",
   "id": "82dcfb42",
   "metadata": {
    "id": "2nJC_91B6QJl"
   },
   "source": [
    "También podemos crear claves anidadas tales como:\n"
   ]
  },
  {
   "cell_type": "code",
   "execution_count": null,
   "id": "ca433015",
   "metadata": {
    "id": "zDfbRs3c21eG"
   },
   "outputs": [],
   "source": [
    "data = {\n",
    "    \"upct\": {\n",
    "        \"url\": \"https://upct.es/\",\n",
    "        \"País\": \"España\",\n",
    "        \"nombre_completo\": \"Universidad Politécnica de Cartagena\",\n",
    "        \"num_estudiantes\": 4564\n",
    "    }\n",
    "}"
   ]
  },
  {
   "cell_type": "code",
   "execution_count": null,
   "id": "b7a6cd8c",
   "metadata": {
    "id": "GaV8iIGn6PzF"
   },
   "outputs": [],
   "source": [
    "redis_client.hmset('upct',{\"url\": \"https://upct.es/\", \"País\": \"España\", \"nombre_completo\": \"Universidad Politécnica de Cartagena\", \"num_estudiantes\": 4564})"
   ]
  },
  {
   "cell_type": "code",
   "execution_count": null,
   "id": "48ef4765",
   "metadata": {
    "id": "ifJTj5NW2c9W"
   },
   "outputs": [],
   "source": [
    "redis_client.hmset('upct',data['upct'])"
   ]
  },
  {
   "cell_type": "code",
   "execution_count": null,
   "id": "47c067e9",
   "metadata": {
    "id": "z5tzJKD_6N9P"
   },
   "outputs": [],
   "source": [
    "redis_client.hgetall('upct')"
   ]
  },
  {
   "cell_type": "markdown",
   "id": "73147747",
   "metadata": {
    "id": "5NHim1cgObH1"
   },
   "source": [
    "Con dichas claves anidadas podemos hacer uso de los métodos `hincrby` para incrementar o decrementar un valor."
   ]
  },
  {
   "cell_type": "code",
   "execution_count": null,
   "id": "cbda29b7",
   "metadata": {
    "id": "6uTO6AVBOIiG"
   },
   "outputs": [],
   "source": [
    "redis_client.hincrby(\"upct\", \"num_estudiantes\", -100)\n",
    "redis_client.hget(\"upct\", \"num_estudiantes\")"
   ]
  },
  {
   "cell_type": "code",
   "execution_count": null,
   "id": "9d51d0d7",
   "metadata": {
    "id": "RSkYxTjbPKGX"
   },
   "outputs": [],
   "source": [
    "redis_client.hincrby(\"upct\", \"num_estudiantes\", 698)"
   ]
  },
  {
   "cell_type": "markdown",
   "id": "3ec0278f",
   "metadata": {
    "id": "CJ-GBqjV8OAQ"
   },
   "source": [
    "### Tipos de claves"
   ]
  },
  {
   "cell_type": "markdown",
   "id": "ce6a9061",
   "metadata": {
    "id": "4BmM9NG0_dE9"
   },
   "source": [
    "Vamos a intentar insertar una tupla clave-valor en donde la clave sea una fecha..."
   ]
  },
  {
   "cell_type": "code",
   "execution_count": null,
   "id": "5b40811c",
   "metadata": {
    "id": "Ro4j_SyD8-CR"
   },
   "outputs": [],
   "source": [
    "import datetime\n",
    "today = datetime.date.today()\n",
    "visitantes = {\"dan\", \"jon\", \"alex\"}\n",
    "redis_client.sadd(today, *visitantes)"
   ]
  },
  {
   "cell_type": "markdown",
   "id": "b7716c5f",
   "metadata": {
    "id": "0xuQpS_i8cqB"
   },
   "source": [
    "¿Qué ha pasado? Pues que `Redis-py`requiere que las claves tengan tipo `byte`, `str`, `int` o  `float`. Por tanto si queremos user una fecha como clave deberemos transformarla a uno de esos formatos."
   ]
  },
  {
   "cell_type": "code",
   "execution_count": null,
   "id": "a464c529",
   "metadata": {
    "id": "ZwXz7h1o8RCo"
   },
   "outputs": [],
   "source": [
    "stoday = today.isoformat()\n",
    "stoday"
   ]
  },
  {
   "cell_type": "code",
   "execution_count": null,
   "id": "b9319cbb",
   "metadata": {
    "id": "04oUCWLG9s_L"
   },
   "outputs": [],
   "source": [
    "redis_client.sadd(stoday, *visitantes)  # sadd: set-add"
   ]
  },
  {
   "cell_type": "markdown",
   "id": "bfb44e44",
   "metadata": {
    "id": "_0rR7tzl-i_l"
   },
   "source": [
    "Con `smembers`podemos obtener todos los miembros del conjunto `stoday`"
   ]
  },
  {
   "cell_type": "code",
   "execution_count": null,
   "id": "bdd1dd04",
   "metadata": {
    "id": "aufpkZN29xJM"
   },
   "outputs": [],
   "source": [
    "redis_client.smembers(stoday)"
   ]
  },
  {
   "cell_type": "markdown",
   "id": "ac689e73",
   "metadata": {
    "id": "FKLnhQF7B7eq"
   },
   "source": [
    "Ahora obtenemos el número de elementos del conjunto con `scard`."
   ]
  },
  {
   "cell_type": "code",
   "execution_count": null,
   "id": "1a0a66db",
   "metadata": {
    "id": "SfygnDSw9zmE"
   },
   "outputs": [],
   "source": [
    "redis_client.scard(today.isoformat())"
   ]
  },
  {
   "cell_type": "markdown",
   "id": "3e2a9787",
   "metadata": {
    "id": "Up6bQ-Y2GU-D"
   },
   "source": [
    "-------------------------------------------"
   ]
  },
  {
   "cell_type": "markdown",
   "id": "78b5254d",
   "metadata": {
    "id": "jKVyXmocKUfP"
   },
   "source": [
    "## Operaciones CRUD <a name=\"crud\"></a>"
   ]
  },
  {
   "cell_type": "code",
   "execution_count": null,
   "id": "846f9951",
   "metadata": {
    "id": "UWC9KWPOKm2n"
   },
   "outputs": [],
   "source": [
    "redis_client.set(\"username\", \"john_doe\")\n",
    "\n",
    "username = redis_client.get(\"username\")\n",
    "print(username.decode())\n",
    "\n",
    "redis_client.set(\"email\", \"john@example.com\", nx=True)\n",
    "\n",
    "redis_client.setex(\"password_reset_token\", 600, \"a1b2c3d4e5\")\n",
    "\n",
    "redis_client.delete(\"username\")\n",
    "\n",
    "key_exists = redis_client.exists(\"email\")\n",
    "print(key_exists)"
   ]
  },
  {
   "cell_type": "markdown",
   "id": "aeae0407",
   "metadata": {
    "id": "TTPQDrmBGT8z"
   },
   "source": [
    "-------------------------------------------"
   ]
  },
  {
   "cell_type": "markdown",
   "id": "df530446",
   "metadata": {
    "id": "StYBjzI7K1LY"
   },
   "source": [
    "## Transacciones <a name=\"transacciones\"></a>"
   ]
  },
  {
   "cell_type": "markdown",
   "id": "f0808c57",
   "metadata": {
    "id": "pOJOXJ0qnwak"
   },
   "source": [
    "A fin de realizar transacciones debemos de usar los siguientes comandos:\n",
    "* `.watch()`: permite monitorizar las claves sobre las cuales vamos a trabajar.\n",
    "* `.multi()`: inicia el almacenado de comandos en una lista.\n",
    "* `.execute()`: ejecuta todos los comanandos almacenados en la lista."
   ]
  },
  {
   "cell_type": "code",
   "execution_count": null,
   "id": "da0020d3",
   "metadata": {
    "id": "YfFAsp1aK4i3"
   },
   "outputs": [],
   "source": [
    "with redis_client.pipeline() as pipe:\n",
    "    while True:\n",
    "        try:\n",
    "            pipe.watch('key1', 'key2', 'key3')\n",
    "            pipe.multi()\n",
    "\n",
    "            pipe.set('key1', 'valor1')\n",
    "            pipe.set('key2', 'valor2')\n",
    "            pipe.set('key3', 'valor3')\n",
    "\n",
    "            pipe.execute()\n",
    "            break\n",
    "\n",
    "        except redis.WatchError:\n",
    "            continue"
   ]
  },
  {
   "cell_type": "code",
   "execution_count": null,
   "id": "b29ae9e9",
   "metadata": {
    "id": "5UTAifuAxyEB"
   },
   "outputs": [],
   "source": [
    "redis_client.get('key1')"
   ]
  },
  {
   "cell_type": "markdown",
   "id": "42e6f2e1",
   "metadata": {
    "id": "U-vXfnsbGSlz"
   },
   "source": [
    "-------------------------------------------"
   ]
  },
  {
   "cell_type": "markdown",
   "id": "02086515",
   "metadata": {
    "id": "mwTxj2fMDU9Z"
   },
   "source": [
    "## Tiempo de vida de la claves <a name=\"ttl\"></a>"
   ]
  },
  {
   "cell_type": "markdown",
   "id": "04b2fff6",
   "metadata": {
    "id": "zcqA-HuuD46Z"
   },
   "source": [
    "La definición de claves-valor con un tiempo de vida determinado es una de las funcionalidades más interesantes de Redis.\n",
    "\n",
    "Podemos lograr esto mediante el método `setex`."
   ]
  },
  {
   "cell_type": "code",
   "execution_count": null,
   "id": "2409592b",
   "metadata": {
    "id": "cWFJsnorDhmR"
   },
   "outputs": [],
   "source": [
    "from datetime import timedelta\n",
    "\n",
    "# setex: \"SET\" con expiración\n",
    "redis_client.setex(\n",
    "  \"estrella_fugaz\",\n",
    "  timedelta(minutes=1),\n",
    "  value=\"pide un deseo\"\n",
    ")"
   ]
  },
  {
   "cell_type": "markdown",
   "id": "f59c665e",
   "metadata": {
    "id": "mpU5T2HDEGWT"
   },
   "source": [
    "Podemos consultar el tiempo de vida que le queda a un determinada clave con los siguientes métodos"
   ]
  },
  {
   "cell_type": "code",
   "execution_count": null,
   "id": "8afe8d7e",
   "metadata": {
    "id": "ENQG_E3oEFYy"
   },
   "outputs": [],
   "source": [
    "redis_client.ttl(\"estrella_fugaz\")  # \"Time To Live\" (tiempo de vida), en segundos"
   ]
  },
  {
   "cell_type": "code",
   "execution_count": null,
   "id": "1b24265c",
   "metadata": {
    "id": "5LsA_9peEW4X"
   },
   "outputs": [],
   "source": [
    "redis_client.pttl(\"estrella_fugaz\")  # Como ttl, pero en milisegundos"
   ]
  },
  {
   "cell_type": "markdown",
   "id": "e8886867",
   "metadata": {
    "id": "XD32G11pEoXb"
   },
   "source": [
    "Podemos adelantar el momento en que expira una clave\n",
    "con el método `.expire()`."
   ]
  },
  {
   "cell_type": "code",
   "execution_count": null,
   "id": "dca1a35f",
   "metadata": {
    "id": "Dy0incMWFIUI"
   },
   "outputs": [],
   "source": [
    "redis_client.setex(\n",
    "  \"estrella_fugaz\",\n",
    "  timedelta(minutes=1),\n",
    "  value=\"pide un deseo\"\n",
    ")\n",
    "redis_client.get(\"estrella_fugaz\")  # Not expired yet"
   ]
  },
  {
   "cell_type": "code",
   "execution_count": null,
   "id": "3627aac9",
   "metadata": {
    "id": "JgGaSZOaFt6W"
   },
   "outputs": [],
   "source": [
    "redis_client.exists(\"estrella_fugaz\")"
   ]
  },
  {
   "cell_type": "code",
   "execution_count": null,
   "id": "4798e9be",
   "metadata": {
    "id": "bvTXoIdaFSL6"
   },
   "outputs": [],
   "source": [
    "redis_client.expire(\"estrella_fugaz\", timedelta(seconds=3))  # Establecemos una nueva ventana de expiración"
   ]
  },
  {
   "cell_type": "code",
   "execution_count": null,
   "id": "22028a19",
   "metadata": {
    "id": "QSMragiZFcbK"
   },
   "outputs": [],
   "source": [
    "redis_client.get(\"estrella_fugaz\")"
   ]
  },
  {
   "cell_type": "code",
   "execution_count": null,
   "id": "0b1f024a",
   "metadata": {
    "id": "0ug1hFzFFjeb"
   },
   "outputs": [],
   "source": [
    "redis_client.exists(\"estrella_fugaz\")"
   ]
  },
  {
   "cell_type": "markdown",
   "id": "3d1b8b9f",
   "metadata": {
    "id": "06wu1WSeGRUD"
   },
   "source": [
    "-------------------------------------------"
   ]
  },
  {
   "cell_type": "markdown",
   "id": "2f6190d6",
   "metadata": {
    "id": "_2ffHdFS74Yg"
   },
   "source": [
    "## Persistencia y snapshots <a name=\"snapshots\"></a>\n",
    "\n",
    "Una de las razones por las cuales Redis es tan rápido es que la base de datos se almacena en la RAM. Sin embargo una BD Redis también puede persistirse en disco."
   ]
  },
  {
   "cell_type": "code",
   "execution_count": null,
   "id": "1d8d6377",
   "metadata": {
    "id": "emZ5OghT8P1p"
   },
   "outputs": [],
   "source": [
    "redis_client.lastsave()  # Redis command: LASTSAVE"
   ]
  },
  {
   "cell_type": "code",
   "execution_count": null,
   "id": "154e86d3",
   "metadata": {
    "id": "GNER8HoL8R-5"
   },
   "outputs": [],
   "source": [
    "redis_client.bgsave()"
   ]
  },
  {
   "cell_type": "code",
   "execution_count": null,
   "id": "6b78ed31",
   "metadata": {
    "id": "M-QcLyCL8VKj"
   },
   "outputs": [],
   "source": [
    "redis_client.lastsave()"
   ]
  },
  {
   "cell_type": "markdown",
   "id": "3678f3ef",
   "metadata": {
    "id": "vROe-edBGP6j"
   },
   "source": [
    "-------------------------------------------"
   ]
  },
  {
   "cell_type": "markdown",
   "id": "d6750087",
   "metadata": {
    "id": "nXNh65Pg_v4K"
   },
   "source": [
    "## Encriptación<a name=\"encriptacion\"></a>\n"
   ]
  },
  {
   "cell_type": "markdown",
   "id": "d0d78400",
   "metadata": {
    "id": "HHg6N70YADvb"
   },
   "source": [
    "Una buena práctica que podemos llevar a cabo es encriptar de forma simétrica los datos antes de enviarlos al servidor Redis.\n",
    "\n",
    "Para ver cómo podemos hacerlo, vamos a usar el paquete `cryptography` mediante [Fermet](https://cryptography.io/en/latest/fernet/)."
   ]
  },
  {
   "cell_type": "code",
   "execution_count": null,
   "id": "0a887993",
   "metadata": {
    "id": "vNas_ryp_4yk"
   },
   "outputs": [],
   "source": [
    "!pip install cryptography"
   ]
  },
  {
   "cell_type": "code",
   "execution_count": null,
   "id": "a172b448",
   "metadata": {
    "id": "wsKHenAKAgMJ"
   },
   "outputs": [],
   "source": [
    "import json\n",
    "from cryptography.fernet import Fernet\n",
    "\n",
    "cipher = Fernet(Fernet.generate_key())\n",
    "info = {\n",
    "  \"cardnum\": 2211849528391929,\n",
    "  \"exp\": [2020, 9],\n",
    "  \"cv2\": 842,\n",
    "}\n",
    "\n",
    "redis_client.set(\n",
    "  \"user:1000\",\n",
    "  cipher.encrypt(bytes(json.dumps(info),'utf-8'))\n",
    ")\n",
    "\n",
    "redis_client.get(\"user:1000\")"
   ]
  },
  {
   "cell_type": "code",
   "execution_count": null,
   "id": "66b1e405",
   "metadata": {
    "id": "S7i-9OltA7eK"
   },
   "outputs": [],
   "source": [
    "cipher.decrypt(redis_client.get(\"user:1000\"))"
   ]
  },
  {
   "cell_type": "code",
   "execution_count": null,
   "id": "4a6198a2",
   "metadata": {
    "id": "6Lo07JgXBAbh"
   },
   "outputs": [],
   "source": [
    "json.loads(cipher.decrypt(redis_client.get(\"user:1000\")))"
   ]
  },
  {
   "cell_type": "markdown",
   "id": "e6e0e770",
   "metadata": {
    "id": "8KddDz7yGOsT"
   },
   "source": [
    "-------------------------------------------"
   ]
  },
  {
   "cell_type": "markdown",
   "id": "a5af5f94",
   "metadata": {
    "id": "ex5XFcphBOG6"
   },
   "source": [
    "## Compresión <a name=\"compresion\"></a>\n",
    "\n",
    "\n",
    "En entornos en donde el ancho de banda sea un problema, la compresión puede ser una buena práctica.\n",
    "\n",
    "Vamos ahora a usar el algoritmo de compresión `bzip2` para comprimir los datos antes de almacenarlos en la BD."
   ]
  },
  {
   "cell_type": "code",
   "execution_count": null,
   "id": "3ff6f0d6",
   "metadata": {
    "id": "m7-GaH36CrWc"
   },
   "outputs": [],
   "source": [
    "import bz2\n",
    "\n",
    "blob = \"Tengan cuidado, ese mancebo es un gorila frenético\" * 10000\n",
    "len(blob.encode(\"utf-8\"))"
   ]
  },
  {
   "cell_type": "code",
   "execution_count": null,
   "id": "44f94d90",
   "metadata": {
    "id": "gcNhz2FXCnld"
   },
   "outputs": [],
   "source": [
    "# Establecemos como valor la cadena comprimida.\n",
    "redis_client.set(\"msg:500\", bz2.compress(blob.encode(\"utf-8\")))\n",
    "redis_client.get(\"msg:500\")"
   ]
  },
  {
   "cell_type": "code",
   "execution_count": null,
   "id": "0e1d425c",
   "metadata": {
    "id": "7LcxkcNtC4rD"
   },
   "outputs": [],
   "source": [
    "len(redis_client.get(\"msg:500\"))"
   ]
  },
  {
   "cell_type": "code",
   "execution_count": null,
   "id": "81663089",
   "metadata": {
    "id": "qos3ty3oDCrj"
   },
   "outputs": [],
   "source": [
    "510_000 / 208  # Magnitud del ahorro"
   ]
  },
  {
   "cell_type": "code",
   "execution_count": null,
   "id": "fdf2ce79",
   "metadata": {
    "id": "0my7vraJDHS1"
   },
   "outputs": [],
   "source": [
    "rblob = bz2.decompress(redis_client.get(\"msg:500\")).decode(\"utf-8\")\n",
    "rblob == blob"
   ]
  },
  {
   "cell_type": "markdown",
   "id": "274e3fe8",
   "metadata": {
    "id": "z7AhfS6_GMGi"
   },
   "source": [
    "-------------------------------------------"
   ]
  },
  {
   "cell_type": "markdown",
   "id": "e9964cd2",
   "metadata": {
    "id": "-gdV7oBUqmb8"
   },
   "source": [
    "## Mecanismo de Publicación/Suscripción <a name=\"pubsubs\"></a>\n",
    "\n",
    "Redis también permite habilitarse como un mecanismo de publicación-suscripción mediante la generación de canales.\n",
    "\n",
    "En primer lugar definimos un suscriptor a un canal llamado `canal-prueba-1`."
   ]
  },
  {
   "cell_type": "code",
   "execution_count": null,
   "id": "576e80e8",
   "metadata": {
    "id": "4oYgqiqkqfSt"
   },
   "outputs": [],
   "source": [
    "mobile = redis_client.pubsub()\n",
    "\n",
    "# use .subscribe() method to subscribe to topic on which you want to listen for messages\n",
    "mobile.subscribe('canal-prueba-1')"
   ]
  },
  {
   "cell_type": "markdown",
   "id": "db7d45ec",
   "metadata": {
    "id": "4dehg-yJq79P"
   },
   "source": [
    "Ahora definimos un publicador que envia un mensaje `HOLA` al canal `canal-prueba-1`"
   ]
  },
  {
   "cell_type": "code",
   "execution_count": null,
   "id": "95d92070",
   "metadata": {
    "id": "kiEZr3y9qOhK"
   },
   "outputs": [],
   "source": [
    "redis_client.publish(\"canal-prueba-1\", 'HOLA')"
   ]
  },
  {
   "cell_type": "markdown",
   "id": "1d0f0183",
   "metadata": {
    "id": "uO_DJCuLrRxF"
   },
   "source": [
    "Ahora podemos quedarnos escuchando dicho canal y mostrar por pantalla cada mensaje publicado."
   ]
  },
  {
   "cell_type": "code",
   "execution_count": null,
   "id": "b1407f63",
   "metadata": {
    "id": "M8Di-rBVqVHr"
   },
   "outputs": [],
   "source": [
    "for message in mobile.listen():\n",
    "    print(message)"
   ]
  },
  {
   "cell_type": "markdown",
   "id": "61fcc8be",
   "metadata": {
    "id": "yurVzRAEDdwl"
   },
   "source": [
    "## Caso de uso <a name=\"casodeuso\"></a>\n",
    "\n",
    "Imaginemos que hemos decidido crear un sitio web lucrativo, PyHats.com, que vende sombreros escandalosamente caros a cualquiera que quiera comprarlos, y que te hemos contratado para construir el sitio.\n",
    "\n",
    "Utilizarás Redis para gestionar parte del catálogo de productos, el inventario y la detección de tráfico de bots para PyHats.com.\n",
    "\n",
    "Es el primer día para el sitio, y vamos a vender tres sombreros de edición limitada. Cada sombrero se guarda en un hash Redis de pares campo-valor, y el hash tiene una clave que es un entero aleatorio prefijado, como hat:56854717. El uso del prefijo hat: es una convención de Redis para crear una especie de espacio de nombres dentro de una base de datos Redis."
   ]
  },
  {
   "cell_type": "code",
   "execution_count": null,
   "id": "652c7e03",
   "metadata": {
    "id": "3x-iPgYxE78r"
   },
   "outputs": [],
   "source": [
    "import random\n",
    "\n",
    "random.seed(444)\n",
    "hats = {f\"hat:{random.getrandbits(32)}\": i for i in (\n",
    "    {\n",
    "        \"color\": \"negro\",\n",
    "        \"precio\": 49.99,\n",
    "        \"estilo\": \"elegante\",\n",
    "        \"cantidad\": 1000,\n",
    "        \"num_vendidos\": 0,\n",
    "    },\n",
    "    {\n",
    "        \"color\": \"marron\",\n",
    "        \"precio\": 59.99,\n",
    "        \"estilo\": \"hipster\",\n",
    "        \"cantidad\": 500,\n",
    "        \"num_vendidos\": 0,\n",
    "    },\n",
    "    {\n",
    "        \"color\": \"verde\",\n",
    "        \"precio\": 99.99,\n",
    "        \"estilo\": \"deportiva\",\n",
    "        \"cantidad\": 200,\n",
    "        \"num_vendidos\": 0,\n",
    "    })\n",
    "}"
   ]
  },
  {
   "cell_type": "markdown",
   "id": "ef00c290",
   "metadata": {
    "id": "Akw_7miSFCAL"
   },
   "source": [
    "## EJERCICIO 1\n",
    "\n",
    "¿Cómo insertaríamos esos tres sombreros en nuestra base de datos cada uno en una diferente transacción?"
   ]
  },
  {
   "cell_type": "markdown",
   "id": "90207c06",
   "metadata": {
    "id": "-02yUSJ2F9v8"
   },
   "source": [
    "---------------------------------"
   ]
  },
  {
   "cell_type": "markdown",
   "id": "aa7de29d",
   "metadata": {
    "id": "9iFp-59EFqtj"
   },
   "source": [
    "## EJERCICIO 2\n",
    "\n",
    "¿Cómo nos aseguramos de que los cambios se han serializado en la BD?"
   ]
  },
  {
   "cell_type": "markdown",
   "id": "ea9f232c",
   "metadata": {
    "id": "JLJqOoI8F63P"
   },
   "source": [
    "--------------------------------\n"
   ]
  },
  {
   "cell_type": "markdown",
   "id": "f9f3fb04",
   "metadata": {
    "id": "grH1ozo_GECD"
   },
   "source": [
    "Si todo ha ido bien, podemos lanzar las siguientes consultas a la base de datos"
   ]
  },
  {
   "cell_type": "code",
   "execution_count": null,
   "id": "04de11f5",
   "metadata": {
    "id": "lHcUXJqfHQ27"
   },
   "outputs": [],
   "source": [
    "redis_client.keys()"
   ]
  },
  {
   "cell_type": "code",
   "execution_count": null,
   "id": "617295cf",
   "metadata": {
    "id": "bO0xKiyiF9FP"
   },
   "outputs": [],
   "source": [
    "print(redis_client.hgetall(\"hat:56854717\"))"
   ]
  },
  {
   "cell_type": "markdown",
   "id": "42236c0d",
   "metadata": {
    "id": "aRzLibTmG1Xs"
   },
   "source": [
    "--------------------------------------"
   ]
  },
  {
   "cell_type": "markdown",
   "id": "cbf321b8",
   "metadata": {
    "id": "vNsLGv4KG7Jc"
   },
   "source": [
    "## EJERCICIO 3\n",
    "\n",
    "Vamos a simular ahora qué debería ocurrir en nuestra base en caso de que un cliente comprara uno de los sombreros en *stock*.\n",
    "\n",
    "*PISTA: deberíamos decrementar la cantidad de sombreros disponible y aumentar el número de sombreros vendidos de ese tipo.*"
   ]
  },
  {
   "cell_type": "markdown",
   "id": "4211e1ea",
   "metadata": {
    "id": "j7f56IVWP6k0"
   },
   "source": [
    "------------------------------------------"
   ]
  },
  {
   "cell_type": "markdown",
   "id": "174db3cf",
   "metadata": {
    "id": "H9Qg9GXVP9ZL"
   },
   "source": [
    "## EJERCICIO 4\n",
    "\n",
    "Implementa un método `buyitem()` destinado a ejecutarse cada vez que un usuario compre un determinado elemento. Haz uso de transacciones y del método `.watch()` para implementarlo.\n",
    "\n",
    "Prueba dicho método adquiriendo tres veces el mismo sombrero."
   ]
  },
  {
   "cell_type": "markdown",
   "id": "81180e3a",
   "metadata": {
    "id": "nwyUnZomk8T7"
   },
   "source": [
    "--------------------------------------------\n"
   ]
  },
  {
   "cell_type": "code",
   "execution_count": null,
   "id": "7a592830",
   "metadata": {
    "id": "hNT32jAak-Oj"
   },
   "outputs": [],
   "source": [
    "print(\"Eso es todo amigos.\")"
   ]
  }
 ],
 "metadata": {
  "colab": {
   "provenance": []
  },
  "kernelspec": {
   "display_name": "Python 3 (ipykernel)",
   "language": "python",
   "name": "python3"
  },
  "language_info": {
   "codemirror_mode": {
    "name": "ipython",
    "version": 3
   },
   "file_extension": ".py",
   "mimetype": "text/x-python",
   "name": "python",
   "nbconvert_exporter": "python",
   "pygments_lexer": "ipython3",
   "version": "3.11.6"
  }
 },
 "nbformat": 4,
 "nbformat_minor": 5
}
