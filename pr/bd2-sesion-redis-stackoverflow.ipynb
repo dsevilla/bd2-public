{
  "cells": [
    {
      "cell_type": "markdown",
      "metadata": {
        "id": "2vz3YRv5skaQ"
      },
      "source": [
        "# BD II -- Sesión Redis (dataset Stackoverflow)\n",
        "\n",
        "![redis svg image](data:image/svg+xml,%3Csvg%20xmlns%3D%22http%3A//www.w3.org/2000/svg%22%20xmlns%3Axlink%3D%22http%3A//www.w3.org/1999/xlink%22%20viewBox%3D%220%200%20368.69%20125.59%22%20class%3D%22w-auto%20h-8%22%3E%20%3Cdefs%3E%20%3Cstyle%3E%20.cls-1%20%7B%20fill%3A%20none%3B%20%7D%20.cls-2%20%7B%20clip-path%3A%20url%28%23clip-path%29%3B%20%7D%20.cls-3%20%7B%20fill%3A%20%23a32422%3B%20%7D%20.cls-4%20%7B%20fill%3A%20%23dc382c%3B%20%7D%20.cls-5%20%7B%20fill%3A%20%23fff%3B%20%7D%20.cls-6%20%7B%20fill%3A%20%23741113%3B%20%7D%20.cls-7%20%7B%20fill%3A%20%23ac2724%3B%20%7D%20%3C/style%3E%20%3CclipPath%20id%3D%22clip-path%22%20transform%3D%22translate%280.01%200.01%29%22%3E%20%3Crect%20class%3D%22cls-1%22%20width%3D%22146.42%22%20height%3D%22125.48%22%3E%3C/rect%3E%20%3C/clipPath%3E%20%3C/defs%3E%20%3Cg%20id%3D%22Layer_2%22%20data-name%3D%22Layer%202%22%3E%20%3Cg%20id%3D%22Layer_1-2%22%20data-name%3D%22Layer%201%22%3E%20%3Cg%20class%3D%22cls-2%22%3E%20%3Cpath%20class%3D%22cls-3%22%20d%3D%22M140.66%2C96.74c-7.8%2C4.08-48.28%2C20.73-57%2C25.3s-13.39%2C4.44-20.21%2C1.18S13.7%2C102.5%2C5.92%2C98.78C2%2C96.94%2C0%2C95.37%2C0%2C93.9V79.09S56.08%2C66.92%2C65.13%2C63.64%2C77.31%2C60.28%2C85%2C63.1%2C138.79%2C74.24%2C146.4%2C77V91.6c0%2C1.52-1.75%2C3-5.74%2C5.13Z%22%20transform%3D%22translate%280.01%200.01%29%22%3E%3C/path%3E%20%3Cpath%20class%3D%22cls-4%22%20d%3D%22M140.66%2C82c-7.8%2C4.06-48.28%2C20.71-57%2C25.2s-13.39%2C4.45-20.21%2C1.2S13.7%2C87.69%2C5.92%2C84s-7.93-6.27-.3-9.25S56.08%2C55%2C65.13%2C51.7%2C77.31%2C48.33%2C85%2C51.16%2C133%2C70%2C140.57%2C72.79s7.92%2C5.08.09%2C9.13Z%22%20transform%3D%22translate%280.01%200.01%29%22%3E%3C/path%3E%20%3Cpath%20class%3D%22cls-3%22%20d%3D%22M140.66%2C72.62c-7.8%2C4.07-48.28%2C20.71-57%2C25.2S70.31%2C102.27%2C63.49%2C99%2C13.7%2C78.37%2C5.92%2C74.66C2%2C72.8%2C0%2C71.24%2C0%2C69.76V55S56.08%2C42.79%2C65.13%2C39.51%2C77.31%2C36.14%2C85%2C39%2C138.79%2C50.1%2C146.4%2C52.88v14.6C146.4%2C69%2C144.65%2C70.52%2C140.66%2C72.62Z%22%20transform%3D%22translate%280.01%200.01%29%22%3E%3C/path%3E%20%3Cpath%20class%3D%22cls-4%22%20d%3D%22M140.66%2C57.81c-7.8%2C4.08-48.28%2C20.72-57%2C25.21s-13.39%2C4.46-20.21%2C1.2S13.7%2C63.57%2C5.92%2C59.85-2%2C53.6%2C5.62%2C50.62s50.46-19.79%2C59.51-23S77.31%2C24.21%2C85%2C27%2C133%2C45.94%2C140.57%2C48.65s7.92%2C5.09.09%2C9.13Z%22%20transform%3D%22translate%280.01%200.01%29%22%3E%3C/path%3E%20%3Cpath%20class%3D%22cls-3%22%20d%3D%22M140.66%2C47.59c-7.8%2C4.08-48.28%2C20.73-57%2C25.21S70.31%2C77.25%2C63.49%2C74%2C13.7%2C53.34%2C5.92%2C49.63C2%2C47.79%2C0%2C46.22%2C0%2C44.74V29.93S56.08%2C17.76%2C65.13%2C14.49%2C77.31%2C11.12%2C85%2C13.94s53.77%2C11.14%2C61.38%2C13.92v14.6C146.4%2C44%2C144.65%2C45.5%2C140.66%2C47.59Z%22%20transform%3D%22translate%280.01%200.01%29%22%3E%3C/path%3E%20%3Cpath%20class%3D%22cls-4%22%20d%3D%22M140.66%2C32.8c-7.8%2C4-48.28%2C20.75-57%2C25.2s-13.39%2C4.44-20.21%2C1.2S13.7%2C38.53%2C5.92%2C34.83s-7.93-6.27-.3-9.25S56.08%2C5.8%2C65.13%2C2.54%2C77.31-.82%2C85%2C2%2C133%2C20.85%2C140.57%2C23.63s7.92%2C5.09.09%2C9.14Z%22%20transform%3D%22translate%280.01%200.01%29%22%3E%3C/path%3E%20%3C/g%3E%20%3Cpolygon%20class%3D%22cls-5%22%20points%3D%2275.51%2011.78%2085.17%208.61%2082.55%2014.87%2092.38%2018.55%2079.71%2019.87%2076.86%2026.71%2072.28%2019.08%2057.63%2017.76%2068.57%2013.82%2065.28%207.76%2075.51%2011.78%2075.51%2011.78%2075.51%2011.78%22%3E%3C/polygon%3E%20%3Cpolygon%20class%3D%22cls-5%22%20points%3D%2276.12%2051.71%2052.44%2041.88%2086.36%2036.67%2076.12%2051.71%2076.12%2051.71%2076.12%2051.71%22%3E%3C/polygon%3E%20%3Cpath%20class%3D%22cls-5%22%20d%3D%22M43.28%2C22.34c10%2C0%2C18.13%2C3.15%2C18.13%2C7s-8.15%2C7-18.13%2C7-18.14-3.15-18.14-7S33.27%2C22.34%2C43.28%2C22.34Z%22%20transform%3D%22translate%280.01%200.01%29%22%3E%3C/path%3E%20%3Cpolygon%20class%3D%22cls-6%22%20points%3D%22107.39%2020.42%20127.46%2028.35%20107.41%2036.28%20107.39%2020.42%20107.39%2020.42%20107.39%2020.42%22%3E%3C/polygon%3E%20%3Cpolygon%20class%3D%22cls-7%22%20points%3D%22107.39%2020.42%20107.41%2036.28%20105.23%2037.13%2085.17%2029.2%20107.39%2020.42%20107.39%2020.42%20107.39%2020.42%22%3E%3C/polygon%3E%20%3Cpath%20class%3D%22cls-5%22%20d%3D%22M193%2C41.4a17.36%2C17.36%2C0%2C0%2C1%2C6.23-4.34%2C20%2C20%2C0%2C0%2C1%2C7.3-1.61%2C6.71%2C6.71%2C0%2C0%2C1%2C5%2C1.61%2C5%2C5%2C0%2C0%2C1%2C1.52%2C3.79%2C5.39%2C5.39%2C0%2C0%2C1-1.52%2C3.79%2C4.9%2C4.9%2C0%2C0%2C1-3.79%2C1.63c-6.24.55-14.9%2C6.77-14.9%2C15.22V80.67a5.57%2C5.57%2C0%2C0%2C1-5.42%2C5.41%2C4.92%2C4.92%2C0%2C0%2C1-3.87-1.67%2C5.36%2C5.36%2C0%2C0%2C1-1.62-3.79v-40a5.35%2C5.35%2C0%2C0%2C1%2C1.62-3.79%2C7.2%2C7.2%2C0%2C0%2C1%2C4.07-1.36%2C5.52%2C5.52%2C0%2C0%2C1%2C5.41%2C5.4Z%22%20transform%3D%22translate%280.01%200.01%29%22%3E%3C/path%3E%20%3Cpath%20class%3D%22cls-5%22%20d%3D%22M258.71%2C59a5.25%2C5.25%2C0%2C0%2C1-1.35%2C3.54%2C6.11%2C6.11%2C0%2C0%2C1-3.79%2C1.62h-32a10.31%2C10.31%2C0%2C0%2C0%2C3.47%2C6.56%2C14.46%2C14.46%2C0%2C0%2C0%2C9.48%2C4.57%2C14.07%2C14.07%2C0%2C0%2C0%2C10.56-2.44%2C5.52%2C5.52%2C0%2C0%2C1%2C4.07-1.63%2C4.65%2C4.65%2C0%2C0%2C1%2C3.51%2C1.36%2C4.41%2C4.41%2C0%2C0%2C1%2C.26%2C6.24c-.08.09-.17.17-.26.26a24.49%2C24.49%2C0%2C0%2C1-17.59%2C6.5A23%2C23%2C0%2C0%2C1%2C217.5%2C78a26.67%2C26.67%2C0%2C0%2C1-7.3-17.9%2C24.31%2C24.31%2C0%2C0%2C1%2C7.3-17.88%2C22.59%2C22.59%2C0%2C0%2C1%2C17.06-7.31%2C22%2C22%2C0%2C0%2C1%2C16.74%2C6.78%2C24.78%2C24.78%2C0%2C0%2C1%2C7.61%2C16.74v.53Zm-24.1-14.35a14.2%2C14.2%2C0%2C0%2C0-9.13%2C3.53%2C13.17%2C13.17%2C0%2C0%2C0-4.33%2C7h28.43a12.39%2C12.39%2C0%2C0%2C0-4.88-6.76%2C17.3%2C17.3%2C0%2C0%2C0-10-3.81%22%20transform%3D%22translate%280.01%200.01%29%22%3E%3C/path%3E%20%3Cpath%20class%3D%22cls-5%22%20d%3D%22M309.66%2C80.12a5.57%2C5.57%2C0%2C0%2C1-5.41%2C5.42%2C5.85%2C5.85%2C0%2C0%2C1-5.42-4.34A23.23%2C23.23%2C0%2C0%2C1%2C285%2C85.54a23.57%2C23.57%2C0%2C0%2C1-17.33-7.31%2C24.14%2C24.14%2C0%2C0%2C1-7.05-17.88%2C25.75%2C25.75%2C0%2C0%2C1%2C7.05-17.87A23.85%2C23.85%2C0%2C0%2C1%2C285%2C34.87a22.34%2C22.34%2C0%2C0%2C1%2C13.53%2C4.34V20.28a4.92%2C4.92%2C0%2C0%2C1%2C1.63-3.79A5.37%2C5.37%2C0%2C0%2C1%2C304%2C14.86a4.92%2C4.92%2C0%2C0%2C1%2C3.79%2C1.63%2C5.36%2C5.36%2C0%2C0%2C1%2C1.63%2C3.79V80.12ZM285.31%2C74.7a12%2C12%2C0%2C0%2C0%2C9.47-4.32%2C14.4%2C14.4%2C0%2C0%2C0%2C0-20A13%2C13%2C0%2C0%2C0%2C285.31%2C46a11.65%2C11.65%2C0%2C0%2C0-9.48%2C4.34%2C14.4%2C14.4%2C0%2C0%2C0%2C0%2C20%2C12.49%2C12.49%2C0%2C0%2C0%2C9.48%2C4.32%22%20transform%3D%22translate%280.01%200.01%29%22%3E%3C/path%3E%20%3Cpath%20class%3D%22cls-5%22%20d%3D%22M325.67%2C20.28v2.18A5.5%2C5.5%2C0%2C0%2C1%2C324%2C26.58a4.64%2C4.64%2C0%2C0%2C1-3.79%2C1.35%2C4.86%2C4.86%2C0%2C0%2C1-3.78-1.61%2C5.44%2C5.44%2C0%2C0%2C1-1.63-4.06v-2a5.28%2C5.28%2C0%2C0%2C1%2C1.63-3.79%2C5.33%2C5.33%2C0%2C0%2C1%2C3.78-1.63A5%2C5%2C0%2C0%2C1%2C324%2C16.49a4.9%2C4.9%2C0%2C0%2C1%2C1.66%2C3.79m-9.13%2C16.53a5.28%2C5.28%2C0%2C0%2C1%2C3.79-1.63%2C4.85%2C4.85%2C0%2C0%2C1%2C3.79%2C1.63%2C5.48%2C5.48%2C0%2C0%2C1%2C1.55%2C4V80.42A4.55%2C4.55%2C0%2C0%2C1%2C324%2C84.21a5.33%2C5.33%2C0%2C0%2C1-3.78%2C1.63%2C4.9%2C4.9%2C0%2C0%2C1-3.79-1.63%2C5.28%2C5.28%2C0%2C0%2C1-1.63-3.79V40.85a5.39%2C5.39%2C0%2C0%2C1%2C1.63-4%22%20transform%3D%22translate%280.01%200.01%29%22%3E%3C/path%3E%20%3Cpath%20class%3D%22cls-5%22%20d%3D%22M364.08%2C40.6a5.29%2C5.29%2C0%2C0%2C1%2C2.17%2C3.24%2C7.17%2C7.17%2C0%2C0%2C1-.54%2C4.06%2C5.4%2C5.4%2C0%2C0%2C1-3.25%2C2.16%2C5.61%2C5.61%2C0%2C0%2C1-4.07-.81c-3.79-2.43-6.75-3.78-9.2-3.78a8.74%2C8.74%2C0%2C0%2C0-6%2C1.88c-1.08.82-1.62%2C1.36-1.62%2C1.9a2%2C2%2C0%2C0%2C0%2C.27%2C1.36%2C3.74%2C3.74%2C0%2C0%2C0%2C1.08.81%2C16.19%2C16.19%2C0%2C0%2C0%2C7.32%2C2.43h0a37.75%2C37.75%2C0%2C0%2C1%2C9.74%2C3%2C13.57%2C13.57%2C0%2C0%2C1%2C6.5%2C5.7%2C13.46%2C13.46%2C0%2C0%2C1-4.06%2C18.67%2C21.79%2C21.79%2C0%2C0%2C1-13%2C4.06c-6.23%2C0-12.18-2.43-17.87-7a5.77%2C5.77%2C0%2C0%2C1-1.9-3.53%2C5.2%2C5.2%2C0%2C0%2C1%2C8.4-4.56%2C15.73%2C15.73%2C0%2C0%2C0%2C11.1%2C4.33%2C11.61%2C11.61%2C0%2C0%2C0%2C6.77-1.9c1.08-1.08%2C1.9-1.89%2C1.9-2.71s0-1.08-.27-1.35c0-.28-.55-.81-1.36-1.08a20.15%2C20.15%2C0%2C0%2C0-8.13-2.86h0a28.26%2C28.26%2C0%2C0%2C1-9.2-3%2C16.56%2C16.56%2C0%2C0%2C1-6.5-5.67%2C12.61%2C12.61%2C0%2C0%2C1-1.61-6.23%2C13.3%2C13.3%2C0%2C0%2C1%2C5.95-11.11%2C21.82%2C21.82%2C0%2C0%2C1%2C12.45-3.79c4.56.28%2C9.48%2C2.16%2C14.89%2C5.69%22%20transform%3D%22translate%280.01%200.01%29%22%3E%3C/path%3E%20%3C/g%3E%20%3C/g%3E%20%3C/svg%3E)\n",
        "\n",
        "En este notebook trabajaremos con la BBDD *Redis* mediante el cliente Python _redis-py_. Se inyectará la base de datos Stackoverflow en Redis, viendo diferentes estrategias. Además se mostrará cómo hacer índices inversos.\n"
      ]
    },
    {
      "cell_type": "markdown",
      "metadata": {
        "id": "9sinhDws-3YC"
      },
      "source": [
        "## Documentación\n",
        "* [Página oficial de Redis](https://redis.io/docs/connect/cli/).\n",
        "* [API de `Redis-py`](https://redis-py.readthedocs.io/en/stable/commands.html#)"
      ]
    },
    {
      "cell_type": "markdown",
      "metadata": {
        "id": "h_EGuSybGi_X"
      },
      "source": [
        "-------------------------------------------"
      ]
    },
    {
      "cell_type": "code",
      "execution_count": null,
      "metadata": {
        "id": "x9-RN4ZSY5o9"
      },
      "outputs": [],
      "source": [
        "RunningInCOLAB = 'google.colab' in str(get_ipython()) if hasattr(__builtins__,'__IPYTHON__') else False"
      ]
    },
    {
      "cell_type": "markdown",
      "metadata": {
        "id": "7YCgSTJJLl3o"
      },
      "source": [
        "## Instalacion de Redis <a name=\"introduction\"></a>"
      ]
    },
    {
      "cell_type": "markdown",
      "metadata": {
        "id": "uNHe-MzfuDBi"
      },
      "source": [
        "En primer lugar vamos a instalar la base de datos Redis en nuestro entorno notebook."
      ]
    },
    {
      "cell_type": "code",
      "execution_count": null,
      "metadata": {
        "id": "YB9QQsD6oNM_",
        "scrolled": true
      },
      "outputs": [],
      "source": [
        "!sudo apt-get update -qq\n",
        "!sudo apt install -qq -y lsb-release curl gpg\n",
        "!curl -fsSL https://packages.redis.io/gpg | sudo gpg --dearmor -o /usr/share/keyrings/redis-archive-keyring.gpg\n",
        "!echo \"deb [signed-by=/usr/share/keyrings/redis-archive-keyring.gpg] https://packages.redis.io/deb $(lsb_release -cs) main\" | sudo tee /etc/apt/sources.list.d/redis.list\n",
        "!sudo apt-get install -q -y redis"
      ]
    },
    {
      "cell_type": "markdown",
      "metadata": {
        "id": "d88-Nvn8Exqf"
      },
      "source": [
        "Lanzamos ahora Redis.\n",
        "\n",
        "Con la opción `--deamonize yes`ejecutamos la BD en segundo plano."
      ]
    },
    {
      "cell_type": "code",
      "execution_count": null,
      "metadata": {
        "id": "NvmDCcjnptAT"
      },
      "outputs": [],
      "source": [
        "!redis-server --daemonize yes"
      ]
    },
    {
      "cell_type": "markdown",
      "metadata": {
        "id": "hbryQwND22T8"
      },
      "source": [
        "Vamos hacer ping al servidor usando la línea de comandos."
      ]
    },
    {
      "cell_type": "code",
      "execution_count": null,
      "metadata": {
        "id": "aV9eU2pIo9uq"
      },
      "outputs": [],
      "source": [
        "!redis-cli ping"
      ]
    },
    {
      "cell_type": "code",
      "execution_count": null,
      "metadata": {
        "id": "mcC5Su7Wocmy"
      },
      "outputs": [],
      "source": [
        "!pip install redis"
      ]
    },
    {
      "cell_type": "markdown",
      "metadata": {
        "id": "7fK_Dm7pHqZu"
      },
      "source": [
        "Comprobamos que tenemos conectividad con la BD."
      ]
    },
    {
      "cell_type": "code",
      "execution_count": null,
      "metadata": {
        "id": "n5BdH3KOZA47"
      },
      "outputs": [],
      "source": [
        "db_hostname = \"localhost\" if RunningInCOLAB else \"redis\""
      ]
    },
    {
      "cell_type": "code",
      "execution_count": null,
      "metadata": {
        "id": "mp2RpxgqoWAQ"
      },
      "outputs": [],
      "source": [
        "import redis\n",
        "redis_client = redis.Redis(host = db_hostname, port=6379)\n",
        "\n",
        "redis_client.ping()"
      ]
    },
    {
      "cell_type": "markdown",
      "metadata": {
        "id": "loeLBq8mGlM3"
      },
      "source": [
        "-------------------------------------------"
      ]
    },
    {
      "cell_type": "markdown",
      "metadata": {
        "id": "IkhYxde6Z46G"
      },
      "source": [
        "Descargamos los ficheros CSV del repositorio de datos y los descomprimimos."
      ]
    },
    {
      "cell_type": "code",
      "execution_count": null,
      "metadata": {
        "id": "ieRaMS8xKdNX"
      },
      "outputs": [],
      "source": [
        "!wget https://github.com/dsevilla/bd2-data/raw/main/es.stackoverflow/es.stackoverflow.csv.7z.001\n",
        "!wget https://github.com/dsevilla/bd2-data/raw/main/es.stackoverflow/es.stackoverflow.csv.7z.002"
      ]
    },
    {
      "cell_type": "code",
      "execution_count": null,
      "metadata": {
        "id": "iBFmsqCMKhz1"
      },
      "outputs": [],
      "source": [
        "!7zr x es.stackoverflow.csv.7z.001"
      ]
    },
    {
      "cell_type": "code",
      "execution_count": null,
      "metadata": {
        "id": "JQSzfBhBLDZm"
      },
      "outputs": [],
      "source": [
        "!head Users.csv"
      ]
    },
    {
      "cell_type": "code",
      "source": [
        "import csv\n",
        "import sys\n",
        "from datetime import datetime\n",
        "from tqdm.notebook import tqdm\n",
        "from typing import Any\n",
        "\n",
        "def csv_to_redis(file, prefix, id_field, redis_client):\n",
        "    \"\"\"\n",
        "    Carga un fichero CSV en Redis. file especifica el fichero, prefix el prefijo que\n",
        "    se usará para los elementos\n",
        "    \"\"\"\n",
        "    def batched(iterable, n):\n",
        "        from itertools import islice\n",
        "        if n < 1:\n",
        "            raise ValueError('n must be at least one')\n",
        "        it = iter(iterable)\n",
        "        while batch := tuple(islice(it, n)):\n",
        "            yield batch\n",
        "\n",
        "    with open(file, encoding='utf-8') as f:\n",
        "        # La llamada csv.reader() crea un iterador sobre un fichero CSV\n",
        "        reader = csv.reader(f, dialect='excel')\n",
        "\n",
        "        # Se leen las columnas. Sus nombres se usarán para crear las diferentes columnas en la familia\n",
        "        columns = next(reader)\n",
        "\n",
        "        # Calcular qué número de columna es la que lleva el id_field\n",
        "        id_field_pos = next(filter(lambda p: p[1] == id_field, enumerate(columns)))[0]\n",
        "\n",
        "        for batch in batched(tqdm(reader, desc='Leyendo e insertando filas...'), 10000):\n",
        "            docs: dict[str,dict[str,Any]] = {}\n",
        "            for row in batch:\n",
        "                id = row[id_field_pos]\n",
        "                docs[f\"{prefix}{id}\"] = dict(zip(columns,row))\n",
        "\n",
        "            for k, v in docs.items():\n",
        "              redis_client.hset(k,mapping=v)\n",
        "\n"
      ],
      "metadata": {
        "id": "fFoQ_fXrH57Y"
      },
      "execution_count": null,
      "outputs": []
    },
    {
      "cell_type": "code",
      "source": [
        "csv_to_redis('Posts.csv', 'post:', 'Id', redis_client)\n",
        "csv_to_redis('Tags.csv', 'tag:', 'Id', redis_client)\n",
        "csv_to_redis('Users.csv', 'user:', 'Id', redis_client)\n",
        "csv_to_redis('Comments.csv', 'comment:', 'Id', redis_client)\n",
        "csv_to_redis('Votes.csv', 'vote:', 'Id', redis_client)"
      ],
      "metadata": {
        "id": "GZnMT_YdK-vc"
      },
      "execution_count": null,
      "outputs": []
    },
    {
      "cell_type": "code",
      "source": [
        "redis_client.hgetall('tag:1')"
      ],
      "metadata": {
        "id": "vGVbiYesLYmx"
      },
      "execution_count": null,
      "outputs": []
    },
    {
      "cell_type": "markdown",
      "source": [
        "## Optimizaciones posibles con Redis para consultas\n",
        "\n",
        "Redis no ofrece un lenguaje de consulta como tal, aunque hay plugins que ofrecen algún lenguaje sencillo.\n",
        "\n",
        "No obstante, con Redis tenemos el poder de construir cualquier artificio para acelerar las búsquedas. Esta es la parte buena. La parte mala es que hay que saber cómo hacerlo, y también hay varias opciones para hacerlo."
      ],
      "metadata": {
        "id": "fG5V2vBw3Rgs"
      }
    },
    {
      "cell_type": "markdown",
      "source": [
        "### Búsqueda sin índice\n",
        "\n",
        "Redis permite, como todos los sistemas, buscar un elemento en toda una base de datos. Ofrece la operación \"`SCAN`\", que incluso permite restringir la forma de las claves que quiere recuperar. Problema: **MUY MUY LENTO**, no usable en producción a no ser que sea para algo muy concreto o que no se pueda hacer de otra forma.\n",
        "\n",
        "Por ejemplo: **listar los tags**:\n",
        "\n",
        "https://redis-py.readthedocs.io/en/stable/commands.html#redis.commands.core.CoreCommands.scan_iter"
      ],
      "metadata": {
        "id": "XkN_CG_m3-4n"
      }
    },
    {
      "cell_type": "code",
      "source": [
        "tags = redis_client.scan_iter(match=b'tag:*')\n",
        "for t in tags:\n",
        "  print (t)"
      ],
      "metadata": {
        "id": "eoYZCe5n4aO3"
      },
      "execution_count": null,
      "outputs": []
    },
    {
      "cell_type": "markdown",
      "source": [
        "### Ejemplo 1: Posts de cada tag\n",
        "\n",
        "Como primer ejemplo, pongamos que queremos tener siempre actualizado los posts de cada uno de los tags que hay en la BD. Veamos cómo se podría hacer. Por supuesto hay varias opciones para hacerlo. Se utiliza un **conjunto** para almacenar los posts.\n",
        "\n",
        "Lo haremos usando el nombre del tag, que se puede obtener de los Posts. Se podría hacer con el Id del tag, que habría que hacer otro paso más (¿cuál?)"
      ],
      "metadata": {
        "id": "A_PTXpLU3rD0"
      }
    },
    {
      "cell_type": "code",
      "source": [
        "import re\n",
        "\n",
        "posts = redis_client.scan_iter(match=b'post:*')\n",
        "for p_key in posts:\n",
        "  tags = redis_client.hget(p_key, 'Tags').decode()\n",
        "\n",
        "  # Encontrar todos los tags separados por <xxx>\n",
        "  for tag in re.findall(r'<(.*?)>',tags):\n",
        "    redis_client.sadd(f\"poststag:{tag}\", p_key)\n"
      ],
      "metadata": {
        "id": "UFrtixdm3Om-"
      },
      "execution_count": null,
      "outputs": []
    },
    {
      "cell_type": "code",
      "source": [
        "redis_client.smembers('poststag:.net')"
      ],
      "metadata": {
        "id": "h9rfg5oG8x8a"
      },
      "execution_count": null,
      "outputs": []
    },
    {
      "cell_type": "code",
      "source": [
        "redis_client.hgetall('post:505521')"
      ],
      "metadata": {
        "id": "awiBMA0U86-U"
      },
      "execution_count": null,
      "outputs": []
    },
    {
      "cell_type": "markdown",
      "source": [
        "**¿Qué habría que hacer cada vez que se crea un `Post`?**\n"
      ],
      "metadata": {
        "id": "11A_-4TM9TPu"
      }
    },
    {
      "cell_type": "markdown",
      "source": [
        "**¿Alguna optimización más?**"
      ],
      "metadata": {
        "id": "26Fij5JieTLf"
      }
    },
    {
      "cell_type": "markdown",
      "source": [
        "Pues... ¿por qué usar un conjunto si no se va a repetir ningún Post? Mejor usar una lista, que es mucho más rápida en el servidor, y nunca se va a tener que usar `smember` para preguntar si un post tiene un *tag*. Para eso ya está el post en sí."
      ],
      "metadata": {
        "id": "KqoG2g0Mf44-"
      }
    },
    {
      "cell_type": "code",
      "source": [
        "cursor = '0'\n",
        "while cursor != 0:\n",
        "  cursor, keys = redis_client.scan(cursor=cursor, match=b'poststag:*', count=5000)\n",
        "  if keys:\n",
        "    redis_client.delete(*keys)"
      ],
      "metadata": {
        "id": "COlh72iQi7C0"
      },
      "execution_count": null,
      "outputs": []
    },
    {
      "cell_type": "code",
      "source": [
        "# Borramos las claves que hemos creado (otra forma de hacerlo, más lenta)\n",
        "for key in redis_client.scan_iter(match=b'poststag:*'):\n",
        "  redis_client.delete(key)"
      ],
      "metadata": {
        "id": "qyy6JW9XgIsO"
      },
      "execution_count": null,
      "outputs": []
    },
    {
      "cell_type": "code",
      "source": [
        "import re\n",
        "\n",
        "posts = redis_client.scan_iter(match=b'post:*')\n",
        "for p_key in posts:\n",
        "  tags = redis_client.hget(p_key, 'Tags').decode()\n",
        "\n",
        "  # Encontrar todos los tags separados por <xxx>\n",
        "  for tag in re.findall(r'<(.*?)>',tags):\n",
        "    redis_client.lpush(f\"poststag:{tag}\", p_key)\n"
      ],
      "metadata": {
        "id": "lKD4aHFjin_M"
      },
      "execution_count": null,
      "outputs": []
    },
    {
      "cell_type": "code",
      "source": [
        "redis_client.lrange('poststag:lisp', 0, -1)"
      ],
      "metadata": {
        "id": "fH6Z6CY-j3Qj"
      },
      "execution_count": null,
      "outputs": []
    },
    {
      "cell_type": "markdown",
      "source": [
        "### Ejemplo 2: Posts de cada tag, pero por Id de tag, no por nombre\n",
        "\n",
        "A la hora de crear un post, si necesitamos buscar cada Tag dentro, podríamos hacer lo siguiente:"
      ],
      "metadata": {
        "id": "m8UITP-4BxAz"
      }
    },
    {
      "cell_type": "code",
      "source": [
        "import re\n",
        "\n",
        "id_tags = redis_client.scan_iter(match=b'tag:*')\n",
        "for t in id_tags:\n",
        "  tag = redis_client.hget(t, 'TagName').decode()\n",
        "  redis_client.set(f\"tagname:{tag}\", t)\n",
        "\n",
        "posts = redis_client.scan_iter(match=b'post:*')\n",
        "for p_key in posts:\n",
        "  tags = redis_client.hget(p_key, 'Tags').decode()\n",
        "\n",
        "  # Encontrar todos los tags separados por <xxx>\n",
        "  for tag in re.findall(r'<(.*?)>', tags):\n",
        "    d = redis_client.get(f\"tagname:{tag}\").decode()\n",
        "    tag_id = d.split(':')[1]  # Id del tag\n",
        "    redis_client.lpush(f\"poststagid:{tag_id}\", p_key)\n"
      ],
      "metadata": {
        "id": "F2o-sqJG9HrQ"
      },
      "execution_count": null,
      "outputs": []
    },
    {
      "cell_type": "markdown",
      "source": [
        "De esta forma, ahora cada post tiene un \"enlace\" a cada uno de sus Tags."
      ],
      "metadata": {
        "id": "Whme1tV-tdtQ"
      }
    },
    {
      "cell_type": "code",
      "source": [
        "redis_client.lrange('poststagid:538', 0, -1)"
      ],
      "metadata": {
        "id": "CZbxBsSrWpIy"
      },
      "execution_count": null,
      "outputs": []
    },
    {
      "cell_type": "code",
      "source": [
        "redis_client.hgetall(b'tag:538')"
      ],
      "metadata": {
        "id": "mfOQmjbtGv65"
      },
      "execution_count": null,
      "outputs": []
    },
    {
      "cell_type": "code",
      "source": [
        "redis_client.hgetall(b'post:6385')"
      ],
      "metadata": {
        "id": "CoAZ8pJAG4cl"
      },
      "execution_count": null,
      "outputs": []
    },
    {
      "cell_type": "markdown",
      "source": [
        "### Ejemplo 3: Añadir a cada Post los IDs de sus respuestas\n",
        "\n",
        "Veremos cómo añadir un campo a cada post que guarde los IDs de sus respuestas"
      ],
      "metadata": {
        "id": "kzKm4ylqK-sk"
      }
    },
    {
      "cell_type": "code",
      "source": [
        "import json\n",
        "\n",
        "b = json.loads(\"[1,2]\")\n",
        "print (b)"
      ],
      "metadata": {
        "id": "S-JeQGDFPWmA"
      },
      "execution_count": null,
      "outputs": []
    },
    {
      "cell_type": "code",
      "source": [
        "json.dumps([1,2,3])"
      ],
      "metadata": {
        "id": "BRIou--Nmprn"
      },
      "execution_count": null,
      "outputs": []
    },
    {
      "cell_type": "code",
      "source": [
        "import json\n",
        "\n",
        "posts = redis_client.scan_iter(match=b'post:*')\n",
        "for p_key in posts:\n",
        "  post_type_id = (redis_client.hget(p_key, 'PostTypeId') or b'').decode()\n",
        "  # Only answers treated\n",
        "  if int(post_type_id) == 2:\n",
        "    parent_id = redis_client.hget(p_key, 'ParentId')\n",
        "    # It has a parent!!\n",
        "    if parent_id:\n",
        "      parent_key = f\"post:{parent_id.decode()}\"\n",
        "      # Get the list of answers\n",
        "      answers = redis_client.hget(parent_key, 'AnswerList')\n",
        "      answers = json.loads(answers.decode()) if answers else []\n",
        "      answers.append(p_key.decode())\n",
        "      redis_client.hset(parent_key, 'AnswerList', json.dumps(answers))\n",
        "\n"
      ],
      "metadata": {
        "id": "uU-F6PbhG8R7"
      },
      "execution_count": null,
      "outputs": []
    },
    {
      "cell_type": "code",
      "source": [
        "redis_client.hgetall('post:5')"
      ],
      "metadata": {
        "id": "rJuhj0Mjntsv"
      },
      "execution_count": null,
      "outputs": []
    },
    {
      "cell_type": "code",
      "source": [],
      "metadata": {
        "id": "XHQoVPXK7Qg4"
      },
      "execution_count": null,
      "outputs": []
    }
  ],
  "metadata": {
    "colab": {
      "provenance": []
    },
    "kernelspec": {
      "display_name": "Python 3 (ipykernel)",
      "language": "python",
      "name": "python3"
    },
    "language_info": {
      "codemirror_mode": {
        "name": "ipython",
        "version": 3
      },
      "file_extension": ".py",
      "mimetype": "text/x-python",
      "name": "python",
      "nbconvert_exporter": "python",
      "pygments_lexer": "ipython3",
      "version": "3.11.6"
    }
  },
  "nbformat": 4,
  "nbformat_minor": 0
}